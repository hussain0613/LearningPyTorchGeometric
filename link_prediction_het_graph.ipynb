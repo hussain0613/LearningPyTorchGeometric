{
 "cells": [
  {
   "cell_type": "markdown",
   "metadata": {},
   "source": [
    "# Practicing Link Prediction on Heterogneous Graphs with PyG\n",
    "source: https://medium.com/@pytorch_geometric/link-prediction-on-heterogeneous-graphs-with-pyg-6d5c29677c70 \\\n",
    "companion notebooks: \n",
    "1. https://colab.research.google.com/drive/1r_FWLSFf9iL0OWeHeD31d_Opt031P1Nq\n",
    "2. https://colab.research.google.com/drive/1xpzn1Nvai1ygd_P5Yambc_oe4VBPK_ZT [some values needs to be filled]"
   ]
  },
  {
   "cell_type": "code",
   "execution_count": 1,
   "metadata": {},
   "outputs": [],
   "source": [
    "from torch_geometric.data import download_url, extract_zip, HeteroData\n",
    "import pandas as pd\n",
    "import torch\n",
    "import torch_geometric.transforms as T\n",
    "from torch_geometric.loader import LinkNeighborLoader\n",
    "from torch_geometric.nn import SAGEConv, to_hetero\n",
    "import torch.nn.functional as F\n",
    "import tqdm"
   ]
  },
  {
   "cell_type": "markdown",
   "metadata": {},
   "source": [
    "## Dataset"
   ]
  },
  {
   "cell_type": "markdown",
   "metadata": {},
   "source": [
    "### Downloading the dataset\n",
    "in the `datasets/` folder under the current directory"
   ]
  },
  {
   "cell_type": "code",
   "execution_count": 2,
   "metadata": {},
   "outputs": [
    {
     "name": "stderr",
     "output_type": "stream",
     "text": [
      "Using existing file ml-latest-small.zip\n",
      "Extracting datasets\\ml-latest-small.zip\n"
     ]
    }
   ],
   "source": [
    "url = 'https://files.grouplens.org/datasets/movielens/ml-latest-small.zip'\n",
    "extract_zip(download_url(url, 'datasets'), 'datasets')\n",
    "\n",
    "movies_path = 'datasets/ml-latest-small/movies.csv'\n",
    "ratings_path = 'datasets/ml-latest-small/ratings.csv'"
   ]
  },
  {
   "cell_type": "markdown",
   "metadata": {},
   "source": [
    "### Exploring the dataset"
   ]
  },
  {
   "cell_type": "code",
   "execution_count": 3,
   "metadata": {},
   "outputs": [],
   "source": [
    "movies_df = pd.read_csv(movies_path)\n",
    "ratings_df = pd.read_csv(ratings_path)"
   ]
  },
  {
   "cell_type": "code",
   "execution_count": 4,
   "metadata": {},
   "outputs": [
    {
     "data": {
      "text/html": [
       "<div>\n",
       "<style scoped>\n",
       "    .dataframe tbody tr th:only-of-type {\n",
       "        vertical-align: middle;\n",
       "    }\n",
       "\n",
       "    .dataframe tbody tr th {\n",
       "        vertical-align: top;\n",
       "    }\n",
       "\n",
       "    .dataframe thead th {\n",
       "        text-align: right;\n",
       "    }\n",
       "</style>\n",
       "<table border=\"1\" class=\"dataframe\">\n",
       "  <thead>\n",
       "    <tr style=\"text-align: right;\">\n",
       "      <th></th>\n",
       "      <th>movieId</th>\n",
       "      <th>title</th>\n",
       "      <th>genres</th>\n",
       "    </tr>\n",
       "  </thead>\n",
       "  <tbody>\n",
       "    <tr>\n",
       "      <th>0</th>\n",
       "      <td>1</td>\n",
       "      <td>Toy Story (1995)</td>\n",
       "      <td>Adventure|Animation|Children|Comedy|Fantasy</td>\n",
       "    </tr>\n",
       "    <tr>\n",
       "      <th>1</th>\n",
       "      <td>2</td>\n",
       "      <td>Jumanji (1995)</td>\n",
       "      <td>Adventure|Children|Fantasy</td>\n",
       "    </tr>\n",
       "    <tr>\n",
       "      <th>2</th>\n",
       "      <td>3</td>\n",
       "      <td>Grumpier Old Men (1995)</td>\n",
       "      <td>Comedy|Romance</td>\n",
       "    </tr>\n",
       "    <tr>\n",
       "      <th>3</th>\n",
       "      <td>4</td>\n",
       "      <td>Waiting to Exhale (1995)</td>\n",
       "      <td>Comedy|Drama|Romance</td>\n",
       "    </tr>\n",
       "    <tr>\n",
       "      <th>4</th>\n",
       "      <td>5</td>\n",
       "      <td>Father of the Bride Part II (1995)</td>\n",
       "      <td>Comedy</td>\n",
       "    </tr>\n",
       "  </tbody>\n",
       "</table>\n",
       "</div>"
      ],
      "text/plain": [
       "   movieId                               title   \n",
       "0        1                    Toy Story (1995)  \\\n",
       "1        2                      Jumanji (1995)   \n",
       "2        3             Grumpier Old Men (1995)   \n",
       "3        4            Waiting to Exhale (1995)   \n",
       "4        5  Father of the Bride Part II (1995)   \n",
       "\n",
       "                                        genres  \n",
       "0  Adventure|Animation|Children|Comedy|Fantasy  \n",
       "1                   Adventure|Children|Fantasy  \n",
       "2                               Comedy|Romance  \n",
       "3                         Comedy|Drama|Romance  \n",
       "4                                       Comedy  "
      ]
     },
     "execution_count": 4,
     "metadata": {},
     "output_type": "execute_result"
    }
   ],
   "source": [
    "movies_df.head()"
   ]
  },
  {
   "cell_type": "code",
   "execution_count": 5,
   "metadata": {},
   "outputs": [
    {
     "data": {
      "text/html": [
       "<div>\n",
       "<style scoped>\n",
       "    .dataframe tbody tr th:only-of-type {\n",
       "        vertical-align: middle;\n",
       "    }\n",
       "\n",
       "    .dataframe tbody tr th {\n",
       "        vertical-align: top;\n",
       "    }\n",
       "\n",
       "    .dataframe thead th {\n",
       "        text-align: right;\n",
       "    }\n",
       "</style>\n",
       "<table border=\"1\" class=\"dataframe\">\n",
       "  <thead>\n",
       "    <tr style=\"text-align: right;\">\n",
       "      <th></th>\n",
       "      <th>userId</th>\n",
       "      <th>movieId</th>\n",
       "      <th>rating</th>\n",
       "      <th>timestamp</th>\n",
       "    </tr>\n",
       "  </thead>\n",
       "  <tbody>\n",
       "    <tr>\n",
       "      <th>0</th>\n",
       "      <td>1</td>\n",
       "      <td>1</td>\n",
       "      <td>4.0</td>\n",
       "      <td>964982703</td>\n",
       "    </tr>\n",
       "    <tr>\n",
       "      <th>1</th>\n",
       "      <td>1</td>\n",
       "      <td>3</td>\n",
       "      <td>4.0</td>\n",
       "      <td>964981247</td>\n",
       "    </tr>\n",
       "    <tr>\n",
       "      <th>2</th>\n",
       "      <td>1</td>\n",
       "      <td>6</td>\n",
       "      <td>4.0</td>\n",
       "      <td>964982224</td>\n",
       "    </tr>\n",
       "    <tr>\n",
       "      <th>3</th>\n",
       "      <td>1</td>\n",
       "      <td>47</td>\n",
       "      <td>5.0</td>\n",
       "      <td>964983815</td>\n",
       "    </tr>\n",
       "    <tr>\n",
       "      <th>4</th>\n",
       "      <td>1</td>\n",
       "      <td>50</td>\n",
       "      <td>5.0</td>\n",
       "      <td>964982931</td>\n",
       "    </tr>\n",
       "  </tbody>\n",
       "</table>\n",
       "</div>"
      ],
      "text/plain": [
       "   userId  movieId  rating  timestamp\n",
       "0       1        1     4.0  964982703\n",
       "1       1        3     4.0  964981247\n",
       "2       1        6     4.0  964982224\n",
       "3       1       47     5.0  964983815\n",
       "4       1       50     5.0  964982931"
      ]
     },
     "execution_count": 5,
     "metadata": {},
     "output_type": "execute_result"
    }
   ],
   "source": [
    "ratings_df.head()"
   ]
  },
  {
   "cell_type": "code",
   "execution_count": 6,
   "metadata": {},
   "outputs": [
    {
     "data": {
      "text/plain": [
       "((9742, 3), (100836, 4))"
      ]
     },
     "execution_count": 6,
     "metadata": {},
     "output_type": "execute_result"
    }
   ],
   "source": [
    "movies_df.shape, ratings_df.shape"
   ]
  },
  {
   "cell_type": "markdown",
   "metadata": {},
   "source": [
    "## Preprocessing"
   ]
  },
  {
   "cell_type": "code",
   "execution_count": 7,
   "metadata": {},
   "outputs": [
    {
     "data": {
      "text/html": [
       "<div>\n",
       "<style scoped>\n",
       "    .dataframe tbody tr th:only-of-type {\n",
       "        vertical-align: middle;\n",
       "    }\n",
       "\n",
       "    .dataframe tbody tr th {\n",
       "        vertical-align: top;\n",
       "    }\n",
       "\n",
       "    .dataframe thead th {\n",
       "        text-align: right;\n",
       "    }\n",
       "</style>\n",
       "<table border=\"1\" class=\"dataframe\">\n",
       "  <thead>\n",
       "    <tr style=\"text-align: right;\">\n",
       "      <th></th>\n",
       "      <th>(no genres listed)</th>\n",
       "      <th>Action</th>\n",
       "      <th>Adventure</th>\n",
       "      <th>Animation</th>\n",
       "      <th>Children</th>\n",
       "      <th>Comedy</th>\n",
       "      <th>Crime</th>\n",
       "      <th>Documentary</th>\n",
       "      <th>Drama</th>\n",
       "      <th>Fantasy</th>\n",
       "      <th>Film-Noir</th>\n",
       "      <th>Horror</th>\n",
       "      <th>IMAX</th>\n",
       "      <th>Musical</th>\n",
       "      <th>Mystery</th>\n",
       "      <th>Romance</th>\n",
       "      <th>Sci-Fi</th>\n",
       "      <th>Thriller</th>\n",
       "      <th>War</th>\n",
       "      <th>Western</th>\n",
       "    </tr>\n",
       "  </thead>\n",
       "  <tbody>\n",
       "    <tr>\n",
       "      <th>0</th>\n",
       "      <td>0</td>\n",
       "      <td>0</td>\n",
       "      <td>1</td>\n",
       "      <td>1</td>\n",
       "      <td>1</td>\n",
       "      <td>1</td>\n",
       "      <td>0</td>\n",
       "      <td>0</td>\n",
       "      <td>0</td>\n",
       "      <td>1</td>\n",
       "      <td>0</td>\n",
       "      <td>0</td>\n",
       "      <td>0</td>\n",
       "      <td>0</td>\n",
       "      <td>0</td>\n",
       "      <td>0</td>\n",
       "      <td>0</td>\n",
       "      <td>0</td>\n",
       "      <td>0</td>\n",
       "      <td>0</td>\n",
       "    </tr>\n",
       "    <tr>\n",
       "      <th>1</th>\n",
       "      <td>0</td>\n",
       "      <td>0</td>\n",
       "      <td>1</td>\n",
       "      <td>0</td>\n",
       "      <td>1</td>\n",
       "      <td>0</td>\n",
       "      <td>0</td>\n",
       "      <td>0</td>\n",
       "      <td>0</td>\n",
       "      <td>1</td>\n",
       "      <td>0</td>\n",
       "      <td>0</td>\n",
       "      <td>0</td>\n",
       "      <td>0</td>\n",
       "      <td>0</td>\n",
       "      <td>0</td>\n",
       "      <td>0</td>\n",
       "      <td>0</td>\n",
       "      <td>0</td>\n",
       "      <td>0</td>\n",
       "    </tr>\n",
       "    <tr>\n",
       "      <th>2</th>\n",
       "      <td>0</td>\n",
       "      <td>0</td>\n",
       "      <td>0</td>\n",
       "      <td>0</td>\n",
       "      <td>0</td>\n",
       "      <td>1</td>\n",
       "      <td>0</td>\n",
       "      <td>0</td>\n",
       "      <td>0</td>\n",
       "      <td>0</td>\n",
       "      <td>0</td>\n",
       "      <td>0</td>\n",
       "      <td>0</td>\n",
       "      <td>0</td>\n",
       "      <td>0</td>\n",
       "      <td>1</td>\n",
       "      <td>0</td>\n",
       "      <td>0</td>\n",
       "      <td>0</td>\n",
       "      <td>0</td>\n",
       "    </tr>\n",
       "    <tr>\n",
       "      <th>3</th>\n",
       "      <td>0</td>\n",
       "      <td>0</td>\n",
       "      <td>0</td>\n",
       "      <td>0</td>\n",
       "      <td>0</td>\n",
       "      <td>1</td>\n",
       "      <td>0</td>\n",
       "      <td>0</td>\n",
       "      <td>1</td>\n",
       "      <td>0</td>\n",
       "      <td>0</td>\n",
       "      <td>0</td>\n",
       "      <td>0</td>\n",
       "      <td>0</td>\n",
       "      <td>0</td>\n",
       "      <td>1</td>\n",
       "      <td>0</td>\n",
       "      <td>0</td>\n",
       "      <td>0</td>\n",
       "      <td>0</td>\n",
       "    </tr>\n",
       "    <tr>\n",
       "      <th>4</th>\n",
       "      <td>0</td>\n",
       "      <td>0</td>\n",
       "      <td>0</td>\n",
       "      <td>0</td>\n",
       "      <td>0</td>\n",
       "      <td>1</td>\n",
       "      <td>0</td>\n",
       "      <td>0</td>\n",
       "      <td>0</td>\n",
       "      <td>0</td>\n",
       "      <td>0</td>\n",
       "      <td>0</td>\n",
       "      <td>0</td>\n",
       "      <td>0</td>\n",
       "      <td>0</td>\n",
       "      <td>0</td>\n",
       "      <td>0</td>\n",
       "      <td>0</td>\n",
       "      <td>0</td>\n",
       "      <td>0</td>\n",
       "    </tr>\n",
       "  </tbody>\n",
       "</table>\n",
       "</div>"
      ],
      "text/plain": [
       "   (no genres listed)  Action  Adventure  Animation  Children  Comedy  Crime   \n",
       "0                   0       0          1          1         1       1      0  \\\n",
       "1                   0       0          1          0         1       0      0   \n",
       "2                   0       0          0          0         0       1      0   \n",
       "3                   0       0          0          0         0       1      0   \n",
       "4                   0       0          0          0         0       1      0   \n",
       "\n",
       "   Documentary  Drama  Fantasy  Film-Noir  Horror  IMAX  Musical  Mystery   \n",
       "0            0      0        1          0       0     0        0        0  \\\n",
       "1            0      0        1          0       0     0        0        0   \n",
       "2            0      0        0          0       0     0        0        0   \n",
       "3            0      1        0          0       0     0        0        0   \n",
       "4            0      0        0          0       0     0        0        0   \n",
       "\n",
       "   Romance  Sci-Fi  Thriller  War  Western  \n",
       "0        0       0         0    0        0  \n",
       "1        0       0         0    0        0  \n",
       "2        1       0         0    0        0  \n",
       "3        1       0         0    0        0  \n",
       "4        0       0         0    0        0  "
      ]
     },
     "execution_count": 7,
     "metadata": {},
     "output_type": "execute_result"
    }
   ],
   "source": [
    "# Split genres and convert into indicator variables:\n",
    "genres = movies_df['genres'].str.get_dummies('|') # did not know it was possible to do this\n",
    "# here creating a feature matrix for the movies using the genres\n",
    "genres.head()"
   ]
  },
  {
   "cell_type": "code",
   "execution_count": 8,
   "metadata": {},
   "outputs": [
    {
     "data": {
      "text/plain": [
       "torch.Size([9742, 20])"
      ]
     },
     "execution_count": 8,
     "metadata": {},
     "output_type": "execute_result"
    }
   ],
   "source": [
    "# Use genres as movie input features:\n",
    "movie_feat = torch.from_numpy(genres.values).to(torch.float)\n",
    "# converting the features df to tensor\n",
    "movie_feat.shape"
   ]
  },
  {
   "cell_type": "code",
   "execution_count": 9,
   "metadata": {},
   "outputs": [
    {
     "data": {
      "text/plain": [
       "tensor([[0., 0., 1.,  ..., 0., 0., 0.],\n",
       "        [0., 0., 1.,  ..., 0., 0., 0.],\n",
       "        [0., 0., 0.,  ..., 0., 0., 0.],\n",
       "        ...,\n",
       "        [0., 0., 0.,  ..., 0., 0., 0.],\n",
       "        [0., 1., 0.,  ..., 0., 0., 0.],\n",
       "        [0., 0., 0.,  ..., 0., 0., 0.]])"
      ]
     },
     "execution_count": 9,
     "metadata": {},
     "output_type": "execute_result"
    }
   ],
   "source": [
    "movie_feat # 9742 movies, 20 genres, 1 if movie has genre, 0 if not, each row is a movie, each column is a genre"
   ]
  },
  {
   "cell_type": "code",
   "execution_count": 10,
   "metadata": {},
   "outputs": [
    {
     "data": {
      "text/html": [
       "<div>\n",
       "<style scoped>\n",
       "    .dataframe tbody tr th:only-of-type {\n",
       "        vertical-align: middle;\n",
       "    }\n",
       "\n",
       "    .dataframe tbody tr th {\n",
       "        vertical-align: top;\n",
       "    }\n",
       "\n",
       "    .dataframe thead th {\n",
       "        text-align: right;\n",
       "    }\n",
       "</style>\n",
       "<table border=\"1\" class=\"dataframe\">\n",
       "  <thead>\n",
       "    <tr style=\"text-align: right;\">\n",
       "      <th></th>\n",
       "      <th>userId</th>\n",
       "      <th>mappedID</th>\n",
       "    </tr>\n",
       "  </thead>\n",
       "  <tbody>\n",
       "    <tr>\n",
       "      <th>0</th>\n",
       "      <td>1</td>\n",
       "      <td>0</td>\n",
       "    </tr>\n",
       "    <tr>\n",
       "      <th>1</th>\n",
       "      <td>2</td>\n",
       "      <td>1</td>\n",
       "    </tr>\n",
       "    <tr>\n",
       "      <th>2</th>\n",
       "      <td>3</td>\n",
       "      <td>2</td>\n",
       "    </tr>\n",
       "    <tr>\n",
       "      <th>3</th>\n",
       "      <td>4</td>\n",
       "      <td>3</td>\n",
       "    </tr>\n",
       "    <tr>\n",
       "      <th>4</th>\n",
       "      <td>5</td>\n",
       "      <td>4</td>\n",
       "    </tr>\n",
       "  </tbody>\n",
       "</table>\n",
       "</div>"
      ],
      "text/plain": [
       "   userId  mappedID\n",
       "0       1         0\n",
       "1       2         1\n",
       "2       3         2\n",
       "3       4         3\n",
       "4       5         4"
      ]
     },
     "execution_count": 10,
     "metadata": {},
     "output_type": "execute_result"
    }
   ],
   "source": [
    "# mapping user id to consecutive unique ids\n",
    "unique_user_id = ratings_df['userId'].unique()\n",
    "unique_user_id = pd.DataFrame(data={\n",
    "    'userId': unique_user_id,\n",
    "    'mappedID': pd.RangeIndex(len(unique_user_id)),\n",
    "})\n",
    "unique_user_id.head()"
   ]
  },
  {
   "cell_type": "code",
   "execution_count": 11,
   "metadata": {},
   "outputs": [
    {
     "data": {
      "text/plain": [
       "(610, 2)"
      ]
     },
     "execution_count": 11,
     "metadata": {},
     "output_type": "execute_result"
    }
   ],
   "source": [
    "unique_user_id.shape"
   ]
  },
  {
   "cell_type": "code",
   "execution_count": 12,
   "metadata": {},
   "outputs": [
    {
     "data": {
      "text/html": [
       "<div>\n",
       "<style scoped>\n",
       "    .dataframe tbody tr th:only-of-type {\n",
       "        vertical-align: middle;\n",
       "    }\n",
       "\n",
       "    .dataframe tbody tr th {\n",
       "        vertical-align: top;\n",
       "    }\n",
       "\n",
       "    .dataframe thead th {\n",
       "        text-align: right;\n",
       "    }\n",
       "</style>\n",
       "<table border=\"1\" class=\"dataframe\">\n",
       "  <thead>\n",
       "    <tr style=\"text-align: right;\">\n",
       "      <th></th>\n",
       "      <th>movieId</th>\n",
       "      <th>mappedID</th>\n",
       "    </tr>\n",
       "  </thead>\n",
       "  <tbody>\n",
       "    <tr>\n",
       "      <th>0</th>\n",
       "      <td>1</td>\n",
       "      <td>0</td>\n",
       "    </tr>\n",
       "    <tr>\n",
       "      <th>1</th>\n",
       "      <td>2</td>\n",
       "      <td>1</td>\n",
       "    </tr>\n",
       "    <tr>\n",
       "      <th>2</th>\n",
       "      <td>3</td>\n",
       "      <td>2</td>\n",
       "    </tr>\n",
       "    <tr>\n",
       "      <th>3</th>\n",
       "      <td>4</td>\n",
       "      <td>3</td>\n",
       "    </tr>\n",
       "    <tr>\n",
       "      <th>4</th>\n",
       "      <td>5</td>\n",
       "      <td>4</td>\n",
       "    </tr>\n",
       "  </tbody>\n",
       "</table>\n",
       "</div>"
      ],
      "text/plain": [
       "   movieId  mappedID\n",
       "0        1         0\n",
       "1        2         1\n",
       "2        3         2\n",
       "3        4         3\n",
       "4        5         4"
      ]
     },
     "execution_count": 12,
     "metadata": {},
     "output_type": "execute_result"
    }
   ],
   "source": [
    "# mapping movie id to consecutive unique ids\n",
    "# `unique_movie_id = ratings_df['movieId'].unique()` # for users it was ok as there were no user features to map\n",
    "# but for movies this technique is not right, as we have features for movies, so we need to map the unique movie ids to the movie ids in the features df\n",
    "# notebook 1 made this mistake, notebook 2 corrects it\n",
    "unique_movie_id = pd.DataFrame(data={\n",
    "    'movieId': movies_df['movieId'].unique(), # unique is unnecessary here, as movieId is already unique, at least should be, if not then we have a problem\n",
    "    'mappedID': pd.RangeIndex(len(movies_df['movieId'].unique())),\n",
    "})\n",
    "unique_movie_id.head()"
   ]
  },
  {
   "cell_type": "code",
   "execution_count": 13,
   "metadata": {},
   "outputs": [
    {
     "data": {
      "text/html": [
       "<div>\n",
       "<style scoped>\n",
       "    .dataframe tbody tr th:only-of-type {\n",
       "        vertical-align: middle;\n",
       "    }\n",
       "\n",
       "    .dataframe tbody tr th {\n",
       "        vertical-align: top;\n",
       "    }\n",
       "\n",
       "    .dataframe thead th {\n",
       "        text-align: right;\n",
       "    }\n",
       "</style>\n",
       "<table border=\"1\" class=\"dataframe\">\n",
       "  <thead>\n",
       "    <tr style=\"text-align: right;\">\n",
       "      <th></th>\n",
       "      <th>movieId</th>\n",
       "      <th>mappedID</th>\n",
       "    </tr>\n",
       "  </thead>\n",
       "  <tbody>\n",
       "    <tr>\n",
       "      <th>9737</th>\n",
       "      <td>193581</td>\n",
       "      <td>9737</td>\n",
       "    </tr>\n",
       "    <tr>\n",
       "      <th>9738</th>\n",
       "      <td>193583</td>\n",
       "      <td>9738</td>\n",
       "    </tr>\n",
       "    <tr>\n",
       "      <th>9739</th>\n",
       "      <td>193585</td>\n",
       "      <td>9739</td>\n",
       "    </tr>\n",
       "    <tr>\n",
       "      <th>9740</th>\n",
       "      <td>193587</td>\n",
       "      <td>9740</td>\n",
       "    </tr>\n",
       "    <tr>\n",
       "      <th>9741</th>\n",
       "      <td>193609</td>\n",
       "      <td>9741</td>\n",
       "    </tr>\n",
       "  </tbody>\n",
       "</table>\n",
       "</div>"
      ],
      "text/plain": [
       "      movieId  mappedID\n",
       "9737   193581      9737\n",
       "9738   193583      9738\n",
       "9739   193585      9739\n",
       "9740   193587      9740\n",
       "9741   193609      9741"
      ]
     },
     "execution_count": 13,
     "metadata": {},
     "output_type": "execute_result"
    }
   ],
   "source": [
    "unique_movie_id.tail()"
   ]
  },
  {
   "cell_type": "code",
   "execution_count": 14,
   "metadata": {},
   "outputs": [
    {
     "data": {
      "text/plain": [
       "(9742, 2)"
      ]
     },
     "execution_count": 14,
     "metadata": {},
     "output_type": "execute_result"
    }
   ],
   "source": [
    "unique_movie_id.shape"
   ]
  },
  {
   "cell_type": "code",
   "execution_count": 15,
   "metadata": {},
   "outputs": [
    {
     "data": {
      "text/plain": [
       "tensor([  0,   0,   0,  ..., 609, 609, 609])"
      ]
     },
     "execution_count": 15,
     "metadata": {},
     "output_type": "execute_result"
    }
   ],
   "source": [
    "# merging the ratings df with the unique user id df in order to get the mapped id as the first column of the edge index\n",
    "ratings_user_id_df = pd.merge(ratings_df['userId'], unique_user_id,\n",
    "                            left_on='userId', right_on='userId', how='left')\n",
    "\n",
    "# creating the first column of the edge index, which is the user id\n",
    "ratings_user_id = torch.from_numpy(ratings_user_id_df['mappedID'].values)\n",
    "ratings_user_id"
   ]
  },
  {
   "cell_type": "code",
   "execution_count": 16,
   "metadata": {},
   "outputs": [
    {
     "data": {
      "text/html": [
       "<div>\n",
       "<style scoped>\n",
       "    .dataframe tbody tr th:only-of-type {\n",
       "        vertical-align: middle;\n",
       "    }\n",
       "\n",
       "    .dataframe tbody tr th {\n",
       "        vertical-align: top;\n",
       "    }\n",
       "\n",
       "    .dataframe thead th {\n",
       "        text-align: right;\n",
       "    }\n",
       "</style>\n",
       "<table border=\"1\" class=\"dataframe\">\n",
       "  <thead>\n",
       "    <tr style=\"text-align: right;\">\n",
       "      <th></th>\n",
       "      <th>userId</th>\n",
       "      <th>mappedID</th>\n",
       "    </tr>\n",
       "  </thead>\n",
       "  <tbody>\n",
       "    <tr>\n",
       "      <th>0</th>\n",
       "      <td>1</td>\n",
       "      <td>0</td>\n",
       "    </tr>\n",
       "    <tr>\n",
       "      <th>1</th>\n",
       "      <td>1</td>\n",
       "      <td>0</td>\n",
       "    </tr>\n",
       "    <tr>\n",
       "      <th>2</th>\n",
       "      <td>1</td>\n",
       "      <td>0</td>\n",
       "    </tr>\n",
       "    <tr>\n",
       "      <th>3</th>\n",
       "      <td>1</td>\n",
       "      <td>0</td>\n",
       "    </tr>\n",
       "    <tr>\n",
       "      <th>4</th>\n",
       "      <td>1</td>\n",
       "      <td>0</td>\n",
       "    </tr>\n",
       "  </tbody>\n",
       "</table>\n",
       "</div>"
      ],
      "text/plain": [
       "   userId  mappedID\n",
       "0       1         0\n",
       "1       1         0\n",
       "2       1         0\n",
       "3       1         0\n",
       "4       1         0"
      ]
     },
     "execution_count": 16,
     "metadata": {},
     "output_type": "execute_result"
    }
   ],
   "source": [
    "ratings_user_id_df.head()"
   ]
  },
  {
   "cell_type": "code",
   "execution_count": 17,
   "metadata": {},
   "outputs": [
    {
     "data": {
      "text/plain": [
       "tensor([   0,    2,    5,  ..., 9462, 9463, 9503])"
      ]
     },
     "execution_count": 17,
     "metadata": {},
     "output_type": "execute_result"
    }
   ],
   "source": [
    "# merging the ratings df with the unique movie id df in order to get the mapped id as the second column of the edge index\n",
    "ratings_movie_id_df = pd.merge(ratings_df['movieId'], unique_movie_id,\n",
    "                            left_on='movieId', right_on='movieId', how='left')\n",
    "# creating the second column of the edge index, which is the movie id\n",
    "ratings_movie_id = torch.from_numpy(ratings_movie_id_df['mappedID'].values)\n",
    "ratings_movie_id"
   ]
  },
  {
   "cell_type": "code",
   "execution_count": 18,
   "metadata": {},
   "outputs": [
    {
     "data": {
      "text/html": [
       "<div>\n",
       "<style scoped>\n",
       "    .dataframe tbody tr th:only-of-type {\n",
       "        vertical-align: middle;\n",
       "    }\n",
       "\n",
       "    .dataframe tbody tr th {\n",
       "        vertical-align: top;\n",
       "    }\n",
       "\n",
       "    .dataframe thead th {\n",
       "        text-align: right;\n",
       "    }\n",
       "</style>\n",
       "<table border=\"1\" class=\"dataframe\">\n",
       "  <thead>\n",
       "    <tr style=\"text-align: right;\">\n",
       "      <th></th>\n",
       "      <th>movieId</th>\n",
       "      <th>mappedID</th>\n",
       "    </tr>\n",
       "  </thead>\n",
       "  <tbody>\n",
       "    <tr>\n",
       "      <th>0</th>\n",
       "      <td>1</td>\n",
       "      <td>0</td>\n",
       "    </tr>\n",
       "    <tr>\n",
       "      <th>1</th>\n",
       "      <td>3</td>\n",
       "      <td>2</td>\n",
       "    </tr>\n",
       "    <tr>\n",
       "      <th>2</th>\n",
       "      <td>6</td>\n",
       "      <td>5</td>\n",
       "    </tr>\n",
       "    <tr>\n",
       "      <th>3</th>\n",
       "      <td>47</td>\n",
       "      <td>43</td>\n",
       "    </tr>\n",
       "    <tr>\n",
       "      <th>4</th>\n",
       "      <td>50</td>\n",
       "      <td>46</td>\n",
       "    </tr>\n",
       "  </tbody>\n",
       "</table>\n",
       "</div>"
      ],
      "text/plain": [
       "   movieId  mappedID\n",
       "0        1         0\n",
       "1        3         2\n",
       "2        6         5\n",
       "3       47        43\n",
       "4       50        46"
      ]
     },
     "execution_count": 18,
     "metadata": {},
     "output_type": "execute_result"
    }
   ],
   "source": [
    "ratings_movie_id_df.head()"
   ]
  },
  {
   "cell_type": "code",
   "execution_count": 19,
   "metadata": {},
   "outputs": [
    {
     "data": {
      "text/plain": [
       "tensor([[   0,    0,    0,  ...,  609,  609,  609],\n",
       "        [   0,    2,    5,  ..., 9462, 9463, 9503]])"
      ]
     },
     "execution_count": 19,
     "metadata": {},
     "output_type": "execute_result"
    }
   ],
   "source": [
    "# creating the edge index\n",
    "edge_index = torch.stack([\n",
    "        ratings_user_id, ratings_movie_id\n",
    "], dim=0)\n",
    "edge_index"
   ]
  },
  {
   "cell_type": "markdown",
   "metadata": {},
   "source": [
    "### Creating the heterogeneous graph"
   ]
  },
  {
   "cell_type": "code",
   "execution_count": 20,
   "metadata": {},
   "outputs": [
    {
     "data": {
      "text/html": [
       "<div>\n",
       "<style scoped>\n",
       "    .dataframe tbody tr th:only-of-type {\n",
       "        vertical-align: middle;\n",
       "    }\n",
       "\n",
       "    .dataframe tbody tr th {\n",
       "        vertical-align: top;\n",
       "    }\n",
       "\n",
       "    .dataframe thead th {\n",
       "        text-align: right;\n",
       "    }\n",
       "</style>\n",
       "<table border=\"1\" class=\"dataframe\">\n",
       "  <thead>\n",
       "    <tr style=\"text-align: right;\">\n",
       "      <th></th>\n",
       "      <th>movieId</th>\n",
       "      <th>mappedID</th>\n",
       "    </tr>\n",
       "  </thead>\n",
       "  <tbody>\n",
       "    <tr>\n",
       "      <th>0</th>\n",
       "      <td>1</td>\n",
       "      <td>0</td>\n",
       "    </tr>\n",
       "    <tr>\n",
       "      <th>1</th>\n",
       "      <td>2</td>\n",
       "      <td>1</td>\n",
       "    </tr>\n",
       "    <tr>\n",
       "      <th>2</th>\n",
       "      <td>3</td>\n",
       "      <td>2</td>\n",
       "    </tr>\n",
       "    <tr>\n",
       "      <th>3</th>\n",
       "      <td>4</td>\n",
       "      <td>3</td>\n",
       "    </tr>\n",
       "    <tr>\n",
       "      <th>4</th>\n",
       "      <td>5</td>\n",
       "      <td>4</td>\n",
       "    </tr>\n",
       "    <tr>\n",
       "      <th>...</th>\n",
       "      <td>...</td>\n",
       "      <td>...</td>\n",
       "    </tr>\n",
       "    <tr>\n",
       "      <th>9737</th>\n",
       "      <td>193581</td>\n",
       "      <td>9737</td>\n",
       "    </tr>\n",
       "    <tr>\n",
       "      <th>9738</th>\n",
       "      <td>193583</td>\n",
       "      <td>9738</td>\n",
       "    </tr>\n",
       "    <tr>\n",
       "      <th>9739</th>\n",
       "      <td>193585</td>\n",
       "      <td>9739</td>\n",
       "    </tr>\n",
       "    <tr>\n",
       "      <th>9740</th>\n",
       "      <td>193587</td>\n",
       "      <td>9740</td>\n",
       "    </tr>\n",
       "    <tr>\n",
       "      <th>9741</th>\n",
       "      <td>193609</td>\n",
       "      <td>9741</td>\n",
       "    </tr>\n",
       "  </tbody>\n",
       "</table>\n",
       "<p>9742 rows × 2 columns</p>\n",
       "</div>"
      ],
      "text/plain": [
       "      movieId  mappedID\n",
       "0           1         0\n",
       "1           2         1\n",
       "2           3         2\n",
       "3           4         3\n",
       "4           5         4\n",
       "...       ...       ...\n",
       "9737   193581      9737\n",
       "9738   193583      9738\n",
       "9739   193585      9739\n",
       "9740   193587      9740\n",
       "9741   193609      9741\n",
       "\n",
       "[9742 rows x 2 columns]"
      ]
     },
     "execution_count": 20,
     "metadata": {},
     "output_type": "execute_result"
    }
   ],
   "source": [
    "unique_movie_id"
   ]
  },
  {
   "cell_type": "code",
   "execution_count": 21,
   "metadata": {},
   "outputs": [
    {
     "data": {
      "text/plain": [
       "(9742,)"
      ]
     },
     "execution_count": 21,
     "metadata": {},
     "output_type": "execute_result"
    }
   ],
   "source": [
    "movies_df.movieId.unique().shape"
   ]
  },
  {
   "cell_type": "code",
   "execution_count": 22,
   "metadata": {},
   "outputs": [],
   "source": [
    "data = HeteroData()\n",
    "\n",
    "data[\"user\"].node_id = torch.arange(len(unique_user_id))\n",
    "data[\"movie\"].node_id = torch.arange(len(unique_movie_id))"
   ]
  },
  {
   "cell_type": "code",
   "execution_count": 23,
   "metadata": {},
   "outputs": [
    {
     "data": {
      "text/plain": [
       "(tensor([True]), tensor([610]))"
      ]
     },
     "execution_count": 23,
     "metadata": {},
     "output_type": "execute_result"
    }
   ],
   "source": [
    "(torch.arange(len(unique_user_id)) == torch.from_numpy(unique_user_id['mappedID'].values)).unique(return_counts=True) # not sure, but possibly `arrange` is the faster way to do this"
   ]
  },
  {
   "cell_type": "code",
   "execution_count": 24,
   "metadata": {},
   "outputs": [
    {
     "data": {
      "text/plain": [
       "torch.Size([9742, 20])"
      ]
     },
     "execution_count": 24,
     "metadata": {},
     "output_type": "execute_result"
    }
   ],
   "source": [
    "data[\"movie\"].x = movie_feat\n",
    "# NOTE: the `x` attribute is used to store the feature matrix of each node type\n",
    "# and there's no feature matrix for the user nodes\n",
    "data[\"movie\"].x.shape"
   ]
  },
  {
   "cell_type": "code",
   "execution_count": 25,
   "metadata": {},
   "outputs": [],
   "source": [
    "data[\"user\", \"rates\", \"movie\"].edge_index = edge_index"
   ]
  },
  {
   "cell_type": "code",
   "execution_count": 26,
   "metadata": {},
   "outputs": [
    {
     "data": {
      "text/plain": [
       "HeteroData(\n",
       "  user={ node_id=[610] },\n",
       "  movie={\n",
       "    node_id=[9742],\n",
       "    x=[9742, 20],\n",
       "  },\n",
       "  (user, rates, movie)={ edge_index=[2, 100836] }\n",
       ")"
      ]
     },
     "execution_count": 26,
     "metadata": {},
     "output_type": "execute_result"
    }
   ],
   "source": [
    "# `user` nodes only hase the node_id attribute, no features or other attributes\n",
    "# `movie` nodes have the node_id attribute and a feature matrix\n",
    "# `user` nodes are connected to `movie` nodes by edges with the `rates` relation\n",
    "\n",
    "data"
   ]
  },
  {
   "cell_type": "code",
   "execution_count": 27,
   "metadata": {},
   "outputs": [
    {
     "data": {
      "text/plain": [
       "HeteroData(\n",
       "  user={ node_id=[610] },\n",
       "  movie={\n",
       "    node_id=[9742],\n",
       "    x=[9742, 20],\n",
       "  },\n",
       "  (user, rates, movie)={ edge_index=[2, 100836] },\n",
       "  (movie, rev_rates, user)={ edge_index=[2, 100836] }\n",
       ")"
      ]
     },
     "execution_count": 27,
     "metadata": {},
     "output_type": "execute_result"
    }
   ],
   "source": [
    "# transforming the directed graph into an undirected graph by introducing the reverse edges, `rev_rates` relation \n",
    "data = T.ToUndirected()(data)\n",
    "data"
   ]
  },
  {
   "cell_type": "code",
   "execution_count": 28,
   "metadata": {},
   "outputs": [
    {
     "data": {
      "text/plain": [
       "HeteroData(\n",
       "  (yo, gos, bro)={ edge_index=[2, 5] }\n",
       ")"
      ]
     },
     "execution_count": 28,
     "metadata": {},
     "output_type": "execute_result"
    }
   ],
   "source": [
    "test_data = HeteroData()\n",
    "test_data[\"yo\", \"gos\", \"bro\"].edge_index = torch.randint(0, 10, (2, 5))\n",
    "test_data"
   ]
  },
  {
   "cell_type": "code",
   "execution_count": 29,
   "metadata": {},
   "outputs": [
    {
     "data": {
      "text/plain": [
       "HeteroData(\n",
       "  (yo, gos, bro)={ edge_index=[2, 5] },\n",
       "  (bro, rev_gos, yo)={ edge_index=[2, 5] }\n",
       ")"
      ]
     },
     "execution_count": 29,
     "metadata": {},
     "output_type": "execute_result"
    }
   ],
   "source": [
    "T.ToUndirected()(test_data)"
   ]
  },
  {
   "cell_type": "markdown",
   "metadata": {},
   "source": [
    "### Train-val-test split"
   ]
  },
  {
   "cell_type": "code",
   "execution_count": 30,
   "metadata": {},
   "outputs": [],
   "source": [
    "transform = T.RandomLinkSplit(\n",
    "    num_val = 0.1, # 10% of the edges will be used for validation\n",
    "    num_test = 0.1, # 10% of the edges will be used for testing, the rest 80% of the edges will be used for training\n",
    "    disjoint_train_ratio= 0.3, # i think 30% of the training edges will be for supervision during training and the rest 70% is for message passing\n",
    "    # `edge_index` will hold the training edges and `edge_label_index` will hold the supervision edges of trainning data\n",
    "    # not sure about the other two sets though\n",
    "    # when `disjoint_train_ratio` is set to 0, all training edges will be used for supervision during training\n",
    "    neg_sampling_ratio= 2.0, # 2 negative samples will be added for each positive sample\n",
    "    add_negative_train_samples=False, # not going to add negative samples to the training set, is this not removing the effect\n",
    "    # of `neg_sampling_ratio` parameter?\n",
    "    edge_types=('user', 'rates', 'movie'), # defining the relation type\"\n",
    "    rev_edge_types=('movie', 'rev_rates', 'user'), # defining the reverse relation type\n",
    ")"
   ]
  },
  {
   "cell_type": "code",
   "execution_count": 31,
   "metadata": {},
   "outputs": [
    {
     "data": {
      "text/plain": [
       "[HeteroData(\n",
       "   user={ node_id=[610] },\n",
       "   movie={\n",
       "     node_id=[9742],\n",
       "     x=[9742, 20],\n",
       "   },\n",
       "   (user, rates, movie)={\n",
       "     edge_index=[2, 56469],\n",
       "     edge_label=[24201],\n",
       "     edge_label_index=[2, 24201],\n",
       "   },\n",
       "   (movie, rev_rates, user)={ edge_index=[2, 56469] }\n",
       " ),\n",
       " HeteroData(\n",
       "   user={ node_id=[610] },\n",
       "   movie={\n",
       "     node_id=[9742],\n",
       "     x=[9742, 20],\n",
       "   },\n",
       "   (user, rates, movie)={\n",
       "     edge_index=[2, 80670],\n",
       "     edge_label=[30249],\n",
       "     edge_label_index=[2, 30249],\n",
       "   },\n",
       "   (movie, rev_rates, user)={ edge_index=[2, 80670] }\n",
       " ),\n",
       " HeteroData(\n",
       "   user={ node_id=[610] },\n",
       "   movie={\n",
       "     node_id=[9742],\n",
       "     x=[9742, 20],\n",
       "   },\n",
       "   (user, rates, movie)={\n",
       "     edge_index=[2, 90753],\n",
       "     edge_label=[30249],\n",
       "     edge_label_index=[2, 30249],\n",
       "   },\n",
       "   (movie, rev_rates, user)={ edge_index=[2, 90753] }\n",
       " )]"
      ]
     },
     "execution_count": 31,
     "metadata": {},
     "output_type": "execute_result"
    }
   ],
   "source": [
    "train_data, val_data, test_data = transform(data)\n",
    "[train_data, val_data, test_data]\n",
    "# train data set has 49411+21175=70586 edges, 49411 edges for supervision and 21175 edges for message passing\n",
    "# all unique\n",
    "# val data set has 70586 edges, 30249 of which has labels\n",
    "# test data set has 80699 edges, 60501 of which has labels\n",
    "# so how is that? \n",
    "# how can the test data set have more edges than the train data set?"
   ]
  },
  {
   "cell_type": "markdown",
   "metadata": {},
   "source": [
    "### Mini-batching"
   ]
  },
  {
   "cell_type": "code",
   "execution_count": 32,
   "metadata": {},
   "outputs": [],
   "source": [
    "def linkLoaderWrapper(data: HeteroData):\n",
    "\n",
    "    edge_label_index = data[\"user\", \"rates\", \"movie\"].edge_label_index\n",
    "    edge_label = data[\"user\", \"rates\", \"movie\"].edge_label\n",
    "    \n",
    "    loader = LinkNeighborLoader(\n",
    "        data = data,\n",
    "        \n",
    "        num_neighbors = [20, 10], # In the first hop, we sample at most 20 neighbors. In the second hop, we sample at most 10 neighbors. not sure yet what this means\n",
    "        neg_sampling_ratio = 2.0, # 2 negative samples will be added for each positive sample 'on-the-fly'\n",
    "        edge_label_index = (\n",
    "            (\"user\", \"rates\", \"movie\"), \n",
    "            edge_label_index\n",
    "        ), # edges used to create the mini-batches / subgraphs\n",
    "        edge_label = edge_label,\n",
    "\n",
    "        batch_size = 128,\n",
    "        shuffle = True\n",
    "    )\n",
    "    return loader"
   ]
  },
  {
   "cell_type": "code",
   "execution_count": 33,
   "metadata": {},
   "outputs": [
    {
     "data": {
      "text/plain": [
       "LinkNeighborLoader()"
      ]
     },
     "execution_count": 33,
     "metadata": {},
     "output_type": "execute_result"
    }
   ],
   "source": [
    "train_loader = linkLoaderWrapper(train_data)\n",
    "train_loader"
   ]
  },
  {
   "cell_type": "code",
   "execution_count": 34,
   "metadata": {},
   "outputs": [
    {
     "data": {
      "text/plain": [
       "HeteroData(\n",
       "  user={\n",
       "    node_id=[608],\n",
       "    n_id=[608],\n",
       "  },\n",
       "  movie={\n",
       "    node_id=[2760],\n",
       "    x=[2760, 20],\n",
       "    n_id=[2760],\n",
       "  },\n",
       "  (user, rates, movie)={\n",
       "    edge_index=[2, 17181],\n",
       "    edge_label=[384],\n",
       "    edge_label_index=[2, 384],\n",
       "    e_id=[17181],\n",
       "    input_id=[128],\n",
       "  },\n",
       "  (movie, rev_rates, user)={\n",
       "    edge_index=[2, 7645],\n",
       "    e_id=[7645],\n",
       "  }\n",
       ")"
      ]
     },
     "execution_count": 34,
     "metadata": {},
     "output_type": "execute_result"
    }
   ],
   "source": [
    "sampled_data = next(iter(train_loader))\n",
    "sampled_data"
   ]
  },
  {
   "cell_type": "code",
   "execution_count": 35,
   "metadata": {},
   "outputs": [
    {
     "data": {
      "text/plain": [
       "HeteroData(\n",
       "  user={\n",
       "    node_id=[607],\n",
       "    n_id=[607],\n",
       "  },\n",
       "  movie={\n",
       "    node_id=[2787],\n",
       "    x=[2787, 20],\n",
       "    n_id=[2787],\n",
       "  },\n",
       "  (user, rates, movie)={\n",
       "    edge_index=[2, 17406],\n",
       "    edge_label=[384],\n",
       "    edge_label_index=[2, 384],\n",
       "    e_id=[17406],\n",
       "    input_id=[128],\n",
       "  },\n",
       "  (movie, rev_rates, user)={\n",
       "    edge_index=[2, 7718],\n",
       "    e_id=[7718],\n",
       "  }\n",
       ")"
      ]
     },
     "execution_count": 35,
     "metadata": {},
     "output_type": "execute_result"
    }
   ],
   "source": [
    "sampled_data = next(iter(train_loader))\n",
    "sampled_data"
   ]
  },
  {
   "cell_type": "code",
   "execution_count": 36,
   "metadata": {},
   "outputs": [
    {
     "data": {
      "text/plain": [
       "HeteroData(\n",
       "  user={\n",
       "    node_id=[610],\n",
       "    n_id=[610],\n",
       "  },\n",
       "  movie={\n",
       "    node_id=[2769],\n",
       "    x=[2769, 20],\n",
       "    n_id=[2769],\n",
       "  },\n",
       "  (user, rates, movie)={\n",
       "    edge_index=[2, 17207],\n",
       "    edge_label=[384],\n",
       "    edge_label_index=[2, 384],\n",
       "    e_id=[17207],\n",
       "    input_id=[128],\n",
       "  },\n",
       "  (movie, rev_rates, user)={\n",
       "    edge_index=[2, 7846],\n",
       "    e_id=[7846],\n",
       "  }\n",
       ")"
      ]
     },
     "execution_count": 36,
     "metadata": {},
     "output_type": "execute_result"
    }
   ],
   "source": [
    "sampled_data = next(iter(train_loader))\n",
    "sampled_data"
   ]
  },
  {
   "cell_type": "code",
   "execution_count": 37,
   "metadata": {},
   "outputs": [
    {
     "data": {
      "text/plain": [
       "(torch.Size([610]), 610)"
      ]
     },
     "execution_count": 37,
     "metadata": {},
     "output_type": "execute_result"
    }
   ],
   "source": [
    "sampled_data[\"user\"].node_id.shape, sampled_data[\"user\"].num_nodes"
   ]
  },
  {
   "cell_type": "code",
   "execution_count": 38,
   "metadata": {},
   "outputs": [
    {
     "data": {
      "text/plain": [
       "{('user',\n",
       "  'rates',\n",
       "  'movie'): tensor([[  45,   10,   95,  ...,  119,  127,  353],\n",
       "         [   0,    0,    0,  ..., 2300, 2300, 2300]]),\n",
       " ('movie',\n",
       "  'rev_rates',\n",
       "  'user'): tensor([[375, 106, 376,  ..., 458, 775, 494],\n",
       "         [  0,   0,   0,  ..., 545, 545, 545]])}"
      ]
     },
     "execution_count": 38,
     "metadata": {},
     "output_type": "execute_result"
    }
   ],
   "source": [
    "sampled_data.edge_index_dict"
   ]
  },
  {
   "cell_type": "code",
   "execution_count": 39,
   "metadata": {},
   "outputs": [
    {
     "data": {
      "text/plain": [
       "{'movie': tensor([[0., 0., 1.,  ..., 0., 0., 0.],\n",
       "         [0., 0., 0.,  ..., 1., 0., 0.],\n",
       "         [0., 0., 0.,  ..., 0., 0., 0.],\n",
       "         ...,\n",
       "         [0., 0., 0.,  ..., 0., 0., 0.],\n",
       "         [0., 0., 0.,  ..., 0., 0., 0.],\n",
       "         [0., 1., 1.,  ..., 0., 0., 0.]])}"
      ]
     },
     "execution_count": 39,
     "metadata": {},
     "output_type": "execute_result"
    }
   ],
   "source": [
    "sampled_data.x_dict"
   ]
  },
  {
   "cell_type": "markdown",
   "metadata": {},
   "source": [
    "## Model"
   ]
  },
  {
   "cell_type": "code",
   "execution_count": 40,
   "metadata": {},
   "outputs": [],
   "source": [
    "class GNN(torch.nn.Module): # encoder\n",
    "    def __init__(self, hidden_channels):\n",
    "        super().__init__()\n",
    "        self.conv1 = SAGEConv(hidden_channels, hidden_channels)\n",
    "        self.conv2 = SAGEConv((hidden_channels, hidden_channels), hidden_channels)\n",
    "        \n",
    "    def forward(self, x: torch.Tensor, edge_index: torch.Tensor) -> torch.Tensor:\n",
    "        x = F.relu(self.conv1(x, edge_index))\n",
    "        x = self.conv2((x, x), edge_index)\n",
    "        return x\n",
    "    \n",
    "    def __call__(self, *args, **kwargs):\n",
    "        print(\"GNN called\")\n",
    "        print(args, kwargs)\n",
    "        return super().__call__(*args, **kwargs)"
   ]
  },
  {
   "cell_type": "code",
   "execution_count": 41,
   "metadata": {},
   "outputs": [],
   "source": [
    "class Classifier(torch.nn.Module): # decoder\n",
    "    def forward(self, x_user: torch.Tensor, x_movie: torch.Tensor, edge_label_index: torch.Tensor):\n",
    "        edge_feat_user = x_user[edge_label_index[0]] # selecting the features of the nodes only in the subgraph defined by the edge_label_index (supervision set)\n",
    "        edge_feat_movie = x_movie[edge_label_index[1]]\n",
    "        return (edge_feat_user * edge_feat_movie).sum(dim=-1) # computing the dot product of the features of the nodes in the subgraph, sum(subject_nodes * object_nodes)"
   ]
  },
  {
   "cell_type": "code",
   "execution_count": 42,
   "metadata": {},
   "outputs": [],
   "source": [
    "class Model(torch.nn.Module):\n",
    "    def __init__(self, hidden_channels):\n",
    "        super().__init__()\n",
    "\n",
    "        self.movie_lin = torch.nn.Linear(20, hidden_channels)\n",
    "\n",
    "        # as dataset is not very feature rich, we generate (learn) two embeddings for each node type\n",
    "        self.user_emb = torch.nn.Embedding(data[\"user\"].num_nodes, hidden_channels) # generating random(!?) embeddings for the user nodes\n",
    "        self.movie_emb = torch.nn.Embedding(data[\"movie\"].num_nodes, hidden_channels)\n",
    "\n",
    "        self.gnn = GNN(hidden_channels) # encoder\n",
    "        self.gnn = to_hetero(self.gnn, data.metadata()) # converting the GNN to a heterogenous GNN!\n",
    "        self.classifier = Classifier() # decoder\n",
    "    \n",
    "    \n",
    "    def forward(self, data: HeteroData) -> torch.Tensor:\n",
    "        # `x_dict` holds the feature matrix of all node type\n",
    "        # the `x_dict` with the `data` does not have anything for the `user` node type, as the `user` nodes do not have any features\n",
    "        # so we are building an `x_dict` with the features of the `movie` nodes and the embeddings of the `user` nodes\n",
    "        x_dict = {\n",
    "            \"user\": self.user_emb(data[\"user\"].node_id), # selecting the embeddings of the user nodes, are we not selecting all the embeddings?\n",
    "            \"movie\": self.movie_lin(data[\"movie\"].x) + self.movie_emb(data[\"movie\"].node_id), # adding [element-wise] the (trained) features of the movies with the new embeddings of the movies\n",
    "            # so we are learning embeddings for the movies twice?\n",
    "        }\n",
    "\n",
    "        print(\"x_dict:-\", x_dict)\n",
    "        print(\"data.edge_index_dict:-\", data.edge_index_dict)\n",
    "        print(x_dict[\"movie\"])\n",
    "        \n",
    "        x_dict = self.gnn(x_dict, data.edge_index_dict)\n",
    "        # `edge_index_dict` holds the edge index of all relation types\n",
    "\n",
    "        pred = self.classifier(x_dict[\"user\"], x_dict[\"movie\"], data[\"user\", \"rates\", \"movie\"].edge_label_index)\n",
    "\n",
    "        return pred"
   ]
  },
  {
   "cell_type": "code",
   "execution_count": 43,
   "metadata": {},
   "outputs": [
    {
     "data": {
      "text/plain": [
       "Embedding(610, 10)"
      ]
     },
     "execution_count": 43,
     "metadata": {},
     "output_type": "execute_result"
    }
   ],
   "source": [
    "test_emb = torch.nn.Embedding(data[\"user\"].num_nodes, 10)\n",
    "test_emb"
   ]
  },
  {
   "cell_type": "code",
   "execution_count": 44,
   "metadata": {},
   "outputs": [
    {
     "data": {
      "text/plain": [
       "torch.Size([610, 10])"
      ]
     },
     "execution_count": 44,
     "metadata": {},
     "output_type": "execute_result"
    }
   ],
   "source": [
    "test_emb.weight.shape"
   ]
  },
  {
   "cell_type": "code",
   "execution_count": 45,
   "metadata": {},
   "outputs": [
    {
     "data": {
      "text/plain": [
       "(['user', 'movie'],\n",
       " [('user', 'rates', 'movie'), ('movie', 'rev_rates', 'user')])"
      ]
     },
     "execution_count": 45,
     "metadata": {},
     "output_type": "execute_result"
    }
   ],
   "source": [
    "data.metadata() # metadata of the heterogenous graph\n",
    "# metadata[0] holds the node types\n",
    "# metadata[1] holds the edge types"
   ]
  },
  {
   "cell_type": "markdown",
   "metadata": {},
   "source": [
    "this whole thing's quite confusing, specially the namings \\\n",
    "it seems like sometimes same thing can be accessed by different names \\\n",
    "or different things can be accessed by names quite similar to each other \\\n",
    "hella confusing, at least so far\n",
    "\n",
    "examples: \\\n",
    "`edge_index` and `edge_label_index` \\\n",
    "`data[\"user\", \"rates\", \"movie\"].edge_label_index` and `data.edge_index_dict[(\"user\", \"rates\", \"movie\")]` \\\n",
    "etc."
   ]
  },
  {
   "cell_type": "markdown",
   "metadata": {},
   "source": [
    "## Trainning"
   ]
  },
  {
   "cell_type": "code",
   "execution_count": 46,
   "metadata": {},
   "outputs": [
    {
     "data": {
      "text/plain": [
       "LinkNeighborLoader()"
      ]
     },
     "execution_count": 46,
     "metadata": {},
     "output_type": "execute_result"
    }
   ],
   "source": [
    "train_loader = linkLoaderWrapper(train_data)\n",
    "train_loader"
   ]
  },
  {
   "cell_type": "code",
   "execution_count": 47,
   "metadata": {},
   "outputs": [
    {
     "data": {
      "text/plain": [
       "device(type='cuda')"
      ]
     },
     "execution_count": 47,
     "metadata": {},
     "output_type": "execute_result"
    }
   ],
   "source": [
    "device = torch.device('cuda' if torch.cuda.is_available() else 'cpu')\n",
    "device"
   ]
  },
  {
   "cell_type": "code",
   "execution_count": 48,
   "metadata": {},
   "outputs": [
    {
     "name": "stderr",
     "output_type": "stream",
     "text": [
      "d:\\Installations\\JupyterNotebook\\Lib\\site-packages\\torch\\overrides.py:110: UserWarning: 'has_cuda' is deprecated, please use 'torch.backends.cuda.is_built()'\n",
      "  torch.has_cuda,\n",
      "d:\\Installations\\JupyterNotebook\\Lib\\site-packages\\torch\\overrides.py:111: UserWarning: 'has_cudnn' is deprecated, please use 'torch.backends.cudnn.is_available()'\n",
      "  torch.has_cudnn,\n",
      "d:\\Installations\\JupyterNotebook\\Lib\\site-packages\\torch\\overrides.py:117: UserWarning: 'has_mps' is deprecated, please use 'torch.backends.mps.is_built()'\n",
      "  torch.has_mps,\n",
      "d:\\Installations\\JupyterNotebook\\Lib\\site-packages\\torch\\overrides.py:118: UserWarning: 'has_mkldnn' is deprecated, please use 'torch.backends.mkldnn.is_available()'\n",
      "  torch.has_mkldnn,\n"
     ]
    },
    {
     "data": {
      "text/plain": [
       "Model(\n",
       "  (movie_lin): Linear(in_features=20, out_features=64, bias=True)\n",
       "  (user_emb): Embedding(610, 64)\n",
       "  (movie_emb): Embedding(9742, 64)\n",
       "  (gnn): GraphModule(\n",
       "    (conv1): ModuleDict(\n",
       "      (user__rates__movie): SAGEConv(64, 64, aggr=mean)\n",
       "      (movie__rev_rates__user): SAGEConv(64, 64, aggr=mean)\n",
       "    )\n",
       "    (conv2): ModuleDict(\n",
       "      (user__rates__movie): SAGEConv((64, 64), 64, aggr=mean)\n",
       "      (movie__rev_rates__user): SAGEConv((64, 64), 64, aggr=mean)\n",
       "    )\n",
       "  )\n",
       "  (classifier): Classifier()\n",
       ")"
      ]
     },
     "execution_count": 48,
     "metadata": {},
     "output_type": "execute_result"
    }
   ],
   "source": [
    "model = Model(hidden_channels=64).to(device)\n",
    "model"
   ]
  },
  {
   "cell_type": "code",
   "execution_count": 49,
   "metadata": {},
   "outputs": [
    {
     "data": {
      "text/plain": [
       "Adam (\n",
       "Parameter Group 0\n",
       "    amsgrad: False\n",
       "    betas: (0.9, 0.999)\n",
       "    capturable: False\n",
       "    differentiable: False\n",
       "    eps: 1e-08\n",
       "    foreach: None\n",
       "    fused: None\n",
       "    lr: 0.001\n",
       "    maximize: False\n",
       "    weight_decay: 0\n",
       ")"
      ]
     },
     "execution_count": 49,
     "metadata": {},
     "output_type": "execute_result"
    }
   ],
   "source": [
    "optimizer = torch.optim.Adam(model.parameters(), lr=0.001)\n",
    "optimizer"
   ]
  },
  {
   "cell_type": "code",
   "execution_count": 50,
   "metadata": {},
   "outputs": [
    {
     "name": "stdout",
     "output_type": "stream",
     "text": [
      "x_dict:- {'user': tensor([[ 0.9520, -1.4156,  1.9573,  ...,  1.3740, -1.2360, -1.0918],\n",
      "        [-0.3410,  0.3875,  0.3528,  ...,  0.4325, -0.0878,  0.7170],\n",
      "        [ 1.8927, -1.8302, -0.5237,  ...,  1.6886,  1.0078, -0.7601],\n",
      "        ...,\n",
      "        [ 0.3011, -1.6824, -0.1533,  ..., -0.8090, -0.3014, -0.7080],\n",
      "        [ 0.1532, -1.4077,  0.3137,  ...,  0.7894, -0.8490,  0.1494],\n",
      "        [-0.4863, -0.5454, -1.9786,  ...,  1.6544, -0.5266, -0.4472]],\n",
      "       device='cuda:0', grad_fn=<EmbeddingBackward0>), 'movie': tensor([[ 0.6425,  0.1221,  1.1334,  ...,  0.7525, -0.5464, -1.1403],\n",
      "        [-0.5630, -1.7999, -0.6234,  ..., -0.1322, -0.0713, -0.0610],\n",
      "        [-0.2109,  0.0455,  0.2262,  ...,  1.6161,  1.3001,  0.8588],\n",
      "        ...,\n",
      "        [-0.5602, -1.1230, -0.9346,  ...,  0.0422, -1.0303,  1.5769],\n",
      "        [ 0.1707,  0.9993, -0.0961,  ..., -0.9955,  1.3842,  0.9349],\n",
      "        [ 0.2288, -0.0666, -0.4697,  ..., -0.7250, -0.5584, -0.8381]],\n",
      "       device='cuda:0', grad_fn=<AddBackward0>)}\n",
      "data.edge_index_dict:- {('user', 'rates', 'movie'): tensor([[ 289,  581,  482,  ...,   44,  139,   44],\n",
      "        [1973, 7078,  315,  ..., 3006,  326, 1365]], device='cuda:0'), ('movie', 'rev_rates', 'user'): tensor([[1973, 7078,  315,  ..., 3006,  326, 1365],\n",
      "        [ 289,  581,  482,  ...,   44,  139,   44]], device='cuda:0')}\n",
      "tensor([[ 0.6425,  0.1221,  1.1334,  ...,  0.7525, -0.5464, -1.1403],\n",
      "        [-0.5630, -1.7999, -0.6234,  ..., -0.1322, -0.0713, -0.0610],\n",
      "        [-0.2109,  0.0455,  0.2262,  ...,  1.6161,  1.3001,  0.8588],\n",
      "        ...,\n",
      "        [-0.5602, -1.1230, -0.9346,  ...,  0.0422, -1.0303,  1.5769],\n",
      "        [ 0.1707,  0.9993, -0.0961,  ..., -0.9955,  1.3842,  0.9349],\n",
      "        [ 0.2288, -0.0666, -0.4697,  ..., -0.7250, -0.5584, -0.8381]],\n",
      "       device='cuda:0', grad_fn=<AddBackward0>)\n"
     ]
    },
    {
     "ename": "AttributeError",
     "evalue": "'tuple' object has no attribute 'dim'",
     "output_type": "error",
     "traceback": [
      "\u001b[1;31m---------------------------------------------------------------------------\u001b[0m",
      "\u001b[1;31mAttributeError\u001b[0m                            Traceback (most recent call last)",
      "\u001b[1;32md:\\Codes\\learning_pytorch\\learning_pyg\\link_prediction_het_graph.ipynb Cell 61\u001b[0m line \u001b[0;36m1\n\u001b[1;32m----> <a href='vscode-notebook-cell:/d%3A/Codes/learning_pytorch/learning_pyg/link_prediction_het_graph.ipynb#Y114sZmlsZQ%3D%3D?line=0'>1</a>\u001b[0m model(train_data\u001b[39m.\u001b[39;49mto(device))\n",
      "File \u001b[1;32md:\\Installations\\JupyterNotebook\\Lib\\site-packages\\torch\\nn\\modules\\module.py:1518\u001b[0m, in \u001b[0;36mModule._wrapped_call_impl\u001b[1;34m(self, *args, **kwargs)\u001b[0m\n\u001b[0;32m   1516\u001b[0m     \u001b[39mreturn\u001b[39;00m \u001b[39mself\u001b[39m\u001b[39m.\u001b[39m_compiled_call_impl(\u001b[39m*\u001b[39margs, \u001b[39m*\u001b[39m\u001b[39m*\u001b[39mkwargs)  \u001b[39m# type: ignore[misc]\u001b[39;00m\n\u001b[0;32m   1517\u001b[0m \u001b[39melse\u001b[39;00m:\n\u001b[1;32m-> 1518\u001b[0m     \u001b[39mreturn\u001b[39;00m \u001b[39mself\u001b[39;49m\u001b[39m.\u001b[39;49m_call_impl(\u001b[39m*\u001b[39;49margs, \u001b[39m*\u001b[39;49m\u001b[39m*\u001b[39;49mkwargs)\n",
      "File \u001b[1;32md:\\Installations\\JupyterNotebook\\Lib\\site-packages\\torch\\nn\\modules\\module.py:1527\u001b[0m, in \u001b[0;36mModule._call_impl\u001b[1;34m(self, *args, **kwargs)\u001b[0m\n\u001b[0;32m   1522\u001b[0m \u001b[39m# If we don't have any hooks, we want to skip the rest of the logic in\u001b[39;00m\n\u001b[0;32m   1523\u001b[0m \u001b[39m# this function, and just call forward.\u001b[39;00m\n\u001b[0;32m   1524\u001b[0m \u001b[39mif\u001b[39;00m \u001b[39mnot\u001b[39;00m (\u001b[39mself\u001b[39m\u001b[39m.\u001b[39m_backward_hooks \u001b[39mor\u001b[39;00m \u001b[39mself\u001b[39m\u001b[39m.\u001b[39m_backward_pre_hooks \u001b[39mor\u001b[39;00m \u001b[39mself\u001b[39m\u001b[39m.\u001b[39m_forward_hooks \u001b[39mor\u001b[39;00m \u001b[39mself\u001b[39m\u001b[39m.\u001b[39m_forward_pre_hooks\n\u001b[0;32m   1525\u001b[0m         \u001b[39mor\u001b[39;00m _global_backward_pre_hooks \u001b[39mor\u001b[39;00m _global_backward_hooks\n\u001b[0;32m   1526\u001b[0m         \u001b[39mor\u001b[39;00m _global_forward_hooks \u001b[39mor\u001b[39;00m _global_forward_pre_hooks):\n\u001b[1;32m-> 1527\u001b[0m     \u001b[39mreturn\u001b[39;00m forward_call(\u001b[39m*\u001b[39;49margs, \u001b[39m*\u001b[39;49m\u001b[39m*\u001b[39;49mkwargs)\n\u001b[0;32m   1529\u001b[0m \u001b[39mtry\u001b[39;00m:\n\u001b[0;32m   1530\u001b[0m     result \u001b[39m=\u001b[39m \u001b[39mNone\u001b[39;00m\n",
      "\u001b[1;32md:\\Codes\\learning_pytorch\\learning_pyg\\link_prediction_het_graph.ipynb Cell 61\u001b[0m line \u001b[0;36m3\n\u001b[0;32m     <a href='vscode-notebook-cell:/d%3A/Codes/learning_pytorch/learning_pyg/link_prediction_het_graph.ipynb#Y114sZmlsZQ%3D%3D?line=26'>27</a>\u001b[0m \u001b[39mprint\u001b[39m(\u001b[39m\"\u001b[39m\u001b[39mdata.edge_index_dict:-\u001b[39m\u001b[39m\"\u001b[39m, data\u001b[39m.\u001b[39medge_index_dict)\n\u001b[0;32m     <a href='vscode-notebook-cell:/d%3A/Codes/learning_pytorch/learning_pyg/link_prediction_het_graph.ipynb#Y114sZmlsZQ%3D%3D?line=27'>28</a>\u001b[0m \u001b[39mprint\u001b[39m(x_dict[\u001b[39m\"\u001b[39m\u001b[39mmovie\u001b[39m\u001b[39m\"\u001b[39m])\n\u001b[1;32m---> <a href='vscode-notebook-cell:/d%3A/Codes/learning_pytorch/learning_pyg/link_prediction_het_graph.ipynb#Y114sZmlsZQ%3D%3D?line=29'>30</a>\u001b[0m x_dict \u001b[39m=\u001b[39m \u001b[39mself\u001b[39;49m\u001b[39m.\u001b[39;49mgnn(x_dict, data\u001b[39m.\u001b[39;49medge_index_dict)\n\u001b[0;32m     <a href='vscode-notebook-cell:/d%3A/Codes/learning_pytorch/learning_pyg/link_prediction_het_graph.ipynb#Y114sZmlsZQ%3D%3D?line=30'>31</a>\u001b[0m \u001b[39m# `edge_index_dict` holds the edge index of all relation types\u001b[39;00m\n\u001b[0;32m     <a href='vscode-notebook-cell:/d%3A/Codes/learning_pytorch/learning_pyg/link_prediction_het_graph.ipynb#Y114sZmlsZQ%3D%3D?line=32'>33</a>\u001b[0m pred \u001b[39m=\u001b[39m \u001b[39mself\u001b[39m\u001b[39m.\u001b[39mclassifier(x_dict[\u001b[39m\"\u001b[39m\u001b[39muser\u001b[39m\u001b[39m\"\u001b[39m], x_dict[\u001b[39m\"\u001b[39m\u001b[39mmovie\u001b[39m\u001b[39m\"\u001b[39m], data[\u001b[39m\"\u001b[39m\u001b[39muser\u001b[39m\u001b[39m\"\u001b[39m, \u001b[39m\"\u001b[39m\u001b[39mrates\u001b[39m\u001b[39m\"\u001b[39m, \u001b[39m\"\u001b[39m\u001b[39mmovie\u001b[39m\u001b[39m\"\u001b[39m]\u001b[39m.\u001b[39medge_label_index)\n",
      "File \u001b[1;32md:\\Installations\\JupyterNotebook\\Lib\\site-packages\\torch\\fx\\graph_module.py:678\u001b[0m, in \u001b[0;36mGraphModule.recompile.<locals>.call_wrapped\u001b[1;34m(self, *args, **kwargs)\u001b[0m\n\u001b[0;32m    677\u001b[0m \u001b[39mdef\u001b[39;00m \u001b[39mcall_wrapped\u001b[39m(\u001b[39mself\u001b[39m, \u001b[39m*\u001b[39margs, \u001b[39m*\u001b[39m\u001b[39m*\u001b[39mkwargs):\n\u001b[1;32m--> 678\u001b[0m     \u001b[39mreturn\u001b[39;00m \u001b[39mself\u001b[39;49m\u001b[39m.\u001b[39;49m_wrapped_call(\u001b[39mself\u001b[39;49m, \u001b[39m*\u001b[39;49margs, \u001b[39m*\u001b[39;49m\u001b[39m*\u001b[39;49mkwargs)\n",
      "File \u001b[1;32md:\\Installations\\JupyterNotebook\\Lib\\site-packages\\torch\\fx\\graph_module.py:284\u001b[0m, in \u001b[0;36m_WrappedCall.__call__\u001b[1;34m(self, obj, *args, **kwargs)\u001b[0m\n\u001b[0;32m    282\u001b[0m     \u001b[39mraise\u001b[39;00m e\u001b[39m.\u001b[39mwith_traceback(\u001b[39mNone\u001b[39;00m)\n\u001b[0;32m    283\u001b[0m \u001b[39melse\u001b[39;00m:\n\u001b[1;32m--> 284\u001b[0m     \u001b[39mraise\u001b[39;00m e\n",
      "File \u001b[1;32md:\\Installations\\JupyterNotebook\\Lib\\site-packages\\torch\\fx\\graph_module.py:274\u001b[0m, in \u001b[0;36m_WrappedCall.__call__\u001b[1;34m(self, obj, *args, **kwargs)\u001b[0m\n\u001b[0;32m    272\u001b[0m         \u001b[39mreturn\u001b[39;00m \u001b[39mself\u001b[39m\u001b[39m.\u001b[39mcls_call(obj, \u001b[39m*\u001b[39margs, \u001b[39m*\u001b[39m\u001b[39m*\u001b[39mkwargs)\n\u001b[0;32m    273\u001b[0m     \u001b[39melse\u001b[39;00m:\n\u001b[1;32m--> 274\u001b[0m         \u001b[39mreturn\u001b[39;00m \u001b[39msuper\u001b[39;49m(\u001b[39mself\u001b[39;49m\u001b[39m.\u001b[39;49mcls, obj)\u001b[39m.\u001b[39;49m\u001b[39m__call__\u001b[39;49m(\u001b[39m*\u001b[39;49margs, \u001b[39m*\u001b[39;49m\u001b[39m*\u001b[39;49mkwargs)  \u001b[39m# type: ignore[misc]\u001b[39;00m\n\u001b[0;32m    275\u001b[0m \u001b[39mexcept\u001b[39;00m \u001b[39mException\u001b[39;00m \u001b[39mas\u001b[39;00m e:\n\u001b[0;32m    276\u001b[0m     \u001b[39massert\u001b[39;00m e\u001b[39m.\u001b[39m__traceback__\n",
      "File \u001b[1;32md:\\Installations\\JupyterNotebook\\Lib\\site-packages\\torch\\nn\\modules\\module.py:1518\u001b[0m, in \u001b[0;36mModule._wrapped_call_impl\u001b[1;34m(self, *args, **kwargs)\u001b[0m\n\u001b[0;32m   1516\u001b[0m     \u001b[39mreturn\u001b[39;00m \u001b[39mself\u001b[39m\u001b[39m.\u001b[39m_compiled_call_impl(\u001b[39m*\u001b[39margs, \u001b[39m*\u001b[39m\u001b[39m*\u001b[39mkwargs)  \u001b[39m# type: ignore[misc]\u001b[39;00m\n\u001b[0;32m   1517\u001b[0m \u001b[39melse\u001b[39;00m:\n\u001b[1;32m-> 1518\u001b[0m     \u001b[39mreturn\u001b[39;00m \u001b[39mself\u001b[39;49m\u001b[39m.\u001b[39;49m_call_impl(\u001b[39m*\u001b[39;49margs, \u001b[39m*\u001b[39;49m\u001b[39m*\u001b[39;49mkwargs)\n",
      "File \u001b[1;32md:\\Installations\\JupyterNotebook\\Lib\\site-packages\\torch\\nn\\modules\\module.py:1527\u001b[0m, in \u001b[0;36mModule._call_impl\u001b[1;34m(self, *args, **kwargs)\u001b[0m\n\u001b[0;32m   1522\u001b[0m \u001b[39m# If we don't have any hooks, we want to skip the rest of the logic in\u001b[39;00m\n\u001b[0;32m   1523\u001b[0m \u001b[39m# this function, and just call forward.\u001b[39;00m\n\u001b[0;32m   1524\u001b[0m \u001b[39mif\u001b[39;00m \u001b[39mnot\u001b[39;00m (\u001b[39mself\u001b[39m\u001b[39m.\u001b[39m_backward_hooks \u001b[39mor\u001b[39;00m \u001b[39mself\u001b[39m\u001b[39m.\u001b[39m_backward_pre_hooks \u001b[39mor\u001b[39;00m \u001b[39mself\u001b[39m\u001b[39m.\u001b[39m_forward_hooks \u001b[39mor\u001b[39;00m \u001b[39mself\u001b[39m\u001b[39m.\u001b[39m_forward_pre_hooks\n\u001b[0;32m   1525\u001b[0m         \u001b[39mor\u001b[39;00m _global_backward_pre_hooks \u001b[39mor\u001b[39;00m _global_backward_hooks\n\u001b[0;32m   1526\u001b[0m         \u001b[39mor\u001b[39;00m _global_forward_hooks \u001b[39mor\u001b[39;00m _global_forward_pre_hooks):\n\u001b[1;32m-> 1527\u001b[0m     \u001b[39mreturn\u001b[39;00m forward_call(\u001b[39m*\u001b[39;49margs, \u001b[39m*\u001b[39;49m\u001b[39m*\u001b[39;49mkwargs)\n\u001b[0;32m   1529\u001b[0m \u001b[39mtry\u001b[39;00m:\n\u001b[0;32m   1530\u001b[0m     result \u001b[39m=\u001b[39m \u001b[39mNone\u001b[39;00m\n",
      "File \u001b[1;32m<eval_with_key>.1:15\u001b[0m, in \u001b[0;36mforward\u001b[1;34m(self, x, edge_index)\u001b[0m\n\u001b[0;32m     13\u001b[0m relu__user \u001b[39m=\u001b[39m torch\u001b[39m.\u001b[39mnn\u001b[39m.\u001b[39mfunctional\u001b[39m.\u001b[39mrelu(conv1__user, inplace \u001b[39m=\u001b[39m \u001b[39mFalse\u001b[39;00m);  conv1__user \u001b[39m=\u001b[39m \u001b[39mNone\u001b[39;00m\n\u001b[0;32m     14\u001b[0m relu__movie \u001b[39m=\u001b[39m torch\u001b[39m.\u001b[39mnn\u001b[39m.\u001b[39mfunctional\u001b[39m.\u001b[39mrelu(conv1__movie, inplace \u001b[39m=\u001b[39m \u001b[39mFalse\u001b[39;00m);  conv1__movie \u001b[39m=\u001b[39m \u001b[39mNone\u001b[39;00m\n\u001b[1;32m---> 15\u001b[0m conv2__movie \u001b[39m=\u001b[39m \u001b[39mself\u001b[39;49m\u001b[39m.\u001b[39;49mconv2\u001b[39m.\u001b[39;49muser__rates__movie(((relu__user, relu__movie), (relu__user, relu__movie)), edge_index__user__rates__movie);  edge_index__user__rates__movie \u001b[39m=\u001b[39m \u001b[39mNone\u001b[39;00m\n\u001b[0;32m     16\u001b[0m conv2__user \u001b[39m=\u001b[39m \u001b[39mself\u001b[39m\u001b[39m.\u001b[39mconv2\u001b[39m.\u001b[39mmovie__rev_rates__user(((relu__movie, relu__user), (relu__movie, relu__user)), edge_index__movie__rev_rates__user);  relu__movie \u001b[39m=\u001b[39m relu__user \u001b[39m=\u001b[39m edge_index__movie__rev_rates__user \u001b[39m=\u001b[39m \u001b[39mNone\u001b[39;00m\n\u001b[0;32m     17\u001b[0m \u001b[39mreturn\u001b[39;00m {\u001b[39m'\u001b[39m\u001b[39muser\u001b[39m\u001b[39m'\u001b[39m: conv2__user, \u001b[39m'\u001b[39m\u001b[39mmovie\u001b[39m\u001b[39m'\u001b[39m: conv2__movie}\n",
      "File \u001b[1;32md:\\Installations\\JupyterNotebook\\Lib\\site-packages\\torch\\nn\\modules\\module.py:1518\u001b[0m, in \u001b[0;36mModule._wrapped_call_impl\u001b[1;34m(self, *args, **kwargs)\u001b[0m\n\u001b[0;32m   1516\u001b[0m     \u001b[39mreturn\u001b[39;00m \u001b[39mself\u001b[39m\u001b[39m.\u001b[39m_compiled_call_impl(\u001b[39m*\u001b[39margs, \u001b[39m*\u001b[39m\u001b[39m*\u001b[39mkwargs)  \u001b[39m# type: ignore[misc]\u001b[39;00m\n\u001b[0;32m   1517\u001b[0m \u001b[39melse\u001b[39;00m:\n\u001b[1;32m-> 1518\u001b[0m     \u001b[39mreturn\u001b[39;00m \u001b[39mself\u001b[39;49m\u001b[39m.\u001b[39;49m_call_impl(\u001b[39m*\u001b[39;49margs, \u001b[39m*\u001b[39;49m\u001b[39m*\u001b[39;49mkwargs)\n",
      "File \u001b[1;32md:\\Installations\\JupyterNotebook\\Lib\\site-packages\\torch\\nn\\modules\\module.py:1527\u001b[0m, in \u001b[0;36mModule._call_impl\u001b[1;34m(self, *args, **kwargs)\u001b[0m\n\u001b[0;32m   1522\u001b[0m \u001b[39m# If we don't have any hooks, we want to skip the rest of the logic in\u001b[39;00m\n\u001b[0;32m   1523\u001b[0m \u001b[39m# this function, and just call forward.\u001b[39;00m\n\u001b[0;32m   1524\u001b[0m \u001b[39mif\u001b[39;00m \u001b[39mnot\u001b[39;00m (\u001b[39mself\u001b[39m\u001b[39m.\u001b[39m_backward_hooks \u001b[39mor\u001b[39;00m \u001b[39mself\u001b[39m\u001b[39m.\u001b[39m_backward_pre_hooks \u001b[39mor\u001b[39;00m \u001b[39mself\u001b[39m\u001b[39m.\u001b[39m_forward_hooks \u001b[39mor\u001b[39;00m \u001b[39mself\u001b[39m\u001b[39m.\u001b[39m_forward_pre_hooks\n\u001b[0;32m   1525\u001b[0m         \u001b[39mor\u001b[39;00m _global_backward_pre_hooks \u001b[39mor\u001b[39;00m _global_backward_hooks\n\u001b[0;32m   1526\u001b[0m         \u001b[39mor\u001b[39;00m _global_forward_hooks \u001b[39mor\u001b[39;00m _global_forward_pre_hooks):\n\u001b[1;32m-> 1527\u001b[0m     \u001b[39mreturn\u001b[39;00m forward_call(\u001b[39m*\u001b[39;49margs, \u001b[39m*\u001b[39;49m\u001b[39m*\u001b[39;49mkwargs)\n\u001b[0;32m   1529\u001b[0m \u001b[39mtry\u001b[39;00m:\n\u001b[0;32m   1530\u001b[0m     result \u001b[39m=\u001b[39m \u001b[39mNone\u001b[39;00m\n",
      "File \u001b[1;32md:\\Installations\\JupyterNotebook\\Lib\\site-packages\\torch_geometric\\nn\\conv\\sage_conv.py:130\u001b[0m, in \u001b[0;36mSAGEConv.forward\u001b[1;34m(self, x, edge_index, size)\u001b[0m\n\u001b[0;32m    127\u001b[0m     x \u001b[39m=\u001b[39m (\u001b[39mself\u001b[39m\u001b[39m.\u001b[39mlin(x[\u001b[39m0\u001b[39m])\u001b[39m.\u001b[39mrelu(), x[\u001b[39m1\u001b[39m])\n\u001b[0;32m    129\u001b[0m \u001b[39m# propagate_type: (x: OptPairTensor)\u001b[39;00m\n\u001b[1;32m--> 130\u001b[0m out \u001b[39m=\u001b[39m \u001b[39mself\u001b[39;49m\u001b[39m.\u001b[39;49mpropagate(edge_index, x\u001b[39m=\u001b[39;49mx, size\u001b[39m=\u001b[39;49msize)\n\u001b[0;32m    131\u001b[0m out \u001b[39m=\u001b[39m \u001b[39mself\u001b[39m\u001b[39m.\u001b[39mlin_l(out)\n\u001b[0;32m    133\u001b[0m x_r \u001b[39m=\u001b[39m x[\u001b[39m1\u001b[39m]\n",
      "File \u001b[1;32md:\\Installations\\JupyterNotebook\\Lib\\site-packages\\torch_geometric\\nn\\conv\\message_passing.py:480\u001b[0m, in \u001b[0;36mMessagePassing.propagate\u001b[1;34m(self, edge_index, size, **kwargs)\u001b[0m\n\u001b[0;32m    477\u001b[0m     \u001b[39mif\u001b[39;00m res \u001b[39mis\u001b[39;00m \u001b[39mnot\u001b[39;00m \u001b[39mNone\u001b[39;00m:\n\u001b[0;32m    478\u001b[0m         aggr_kwargs \u001b[39m=\u001b[39m res[\u001b[39m0\u001b[39m] \u001b[39mif\u001b[39;00m \u001b[39misinstance\u001b[39m(res, \u001b[39mtuple\u001b[39m) \u001b[39melse\u001b[39;00m res\n\u001b[1;32m--> 480\u001b[0m out \u001b[39m=\u001b[39m \u001b[39mself\u001b[39;49m\u001b[39m.\u001b[39;49maggregate(out, \u001b[39m*\u001b[39;49m\u001b[39m*\u001b[39;49maggr_kwargs)\n\u001b[0;32m    482\u001b[0m \u001b[39mfor\u001b[39;00m hook \u001b[39min\u001b[39;00m \u001b[39mself\u001b[39m\u001b[39m.\u001b[39m_aggregate_forward_hooks\u001b[39m.\u001b[39mvalues():\n\u001b[0;32m    483\u001b[0m     res \u001b[39m=\u001b[39m hook(\u001b[39mself\u001b[39m, (aggr_kwargs, ), out)\n",
      "File \u001b[1;32md:\\Installations\\JupyterNotebook\\Lib\\site-packages\\torch_geometric\\nn\\conv\\message_passing.py:604\u001b[0m, in \u001b[0;36mMessagePassing.aggregate\u001b[1;34m(self, inputs, index, ptr, dim_size)\u001b[0m\n\u001b[0;32m    591\u001b[0m \u001b[39mdef\u001b[39;00m \u001b[39maggregate\u001b[39m(\u001b[39mself\u001b[39m, inputs: Tensor, index: Tensor,\n\u001b[0;32m    592\u001b[0m               ptr: Optional[Tensor] \u001b[39m=\u001b[39m \u001b[39mNone\u001b[39;00m,\n\u001b[0;32m    593\u001b[0m               dim_size: Optional[\u001b[39mint\u001b[39m] \u001b[39m=\u001b[39m \u001b[39mNone\u001b[39;00m) \u001b[39m-\u001b[39m\u001b[39m>\u001b[39m Tensor:\n\u001b[0;32m    594\u001b[0m \u001b[39m    \u001b[39m\u001b[39mr\u001b[39m\u001b[39m\"\"\"Aggregates messages from neighbors as\u001b[39;00m\n\u001b[0;32m    595\u001b[0m \u001b[39m    :math:`\\bigoplus_{j \\in \\mathcal{N}(i)}`.\u001b[39;00m\n\u001b[0;32m    596\u001b[0m \n\u001b[1;32m   (...)\u001b[0m\n\u001b[0;32m    602\u001b[0m \u001b[39m    as specified in :meth:`__init__` by the :obj:`aggr` argument.\u001b[39;00m\n\u001b[0;32m    603\u001b[0m \u001b[39m    \"\"\"\u001b[39;00m\n\u001b[1;32m--> 604\u001b[0m     \u001b[39mreturn\u001b[39;00m \u001b[39mself\u001b[39;49m\u001b[39m.\u001b[39;49maggr_module(inputs, index, ptr\u001b[39m=\u001b[39;49mptr, dim_size\u001b[39m=\u001b[39;49mdim_size,\n\u001b[0;32m    605\u001b[0m                             dim\u001b[39m=\u001b[39;49m\u001b[39mself\u001b[39;49m\u001b[39m.\u001b[39;49mnode_dim)\n",
      "File \u001b[1;32md:\\Installations\\JupyterNotebook\\Lib\\site-packages\\torch_geometric\\experimental.py:115\u001b[0m, in \u001b[0;36mdisable_dynamic_shapes.<locals>.decorator.<locals>.wrapper\u001b[1;34m(*args, **kwargs)\u001b[0m\n\u001b[0;32m    112\u001b[0m \u001b[39m@functools\u001b[39m\u001b[39m.\u001b[39mwraps(func)\n\u001b[0;32m    113\u001b[0m \u001b[39mdef\u001b[39;00m \u001b[39mwrapper\u001b[39m(\u001b[39m*\u001b[39margs, \u001b[39m*\u001b[39m\u001b[39m*\u001b[39mkwargs):\n\u001b[0;32m    114\u001b[0m     \u001b[39mif\u001b[39;00m \u001b[39mnot\u001b[39;00m is_experimental_mode_enabled(\u001b[39m'\u001b[39m\u001b[39mdisable_dynamic_shapes\u001b[39m\u001b[39m'\u001b[39m):\n\u001b[1;32m--> 115\u001b[0m         \u001b[39mreturn\u001b[39;00m func(\u001b[39m*\u001b[39;49margs, \u001b[39m*\u001b[39;49m\u001b[39m*\u001b[39;49mkwargs)\n\u001b[0;32m    117\u001b[0m     \u001b[39mfor\u001b[39;00m required_arg \u001b[39min\u001b[39;00m required_args:\n\u001b[0;32m    118\u001b[0m         index \u001b[39m=\u001b[39m required_args_pos[required_arg]\n",
      "File \u001b[1;32md:\\Installations\\JupyterNotebook\\Lib\\site-packages\\torch_geometric\\nn\\aggr\\base.py:105\u001b[0m, in \u001b[0;36mAggregation.__call__\u001b[1;34m(self, x, index, ptr, dim_size, dim, **kwargs)\u001b[0m\n\u001b[0;32m     95\u001b[0m \u001b[39m@disable_dynamic_shapes\u001b[39m(required_args\u001b[39m=\u001b[39m[\u001b[39m'\u001b[39m\u001b[39mdim_size\u001b[39m\u001b[39m'\u001b[39m])\n\u001b[0;32m     96\u001b[0m \u001b[39mdef\u001b[39;00m \u001b[39m__call__\u001b[39m(\n\u001b[0;32m     97\u001b[0m     \u001b[39mself\u001b[39m,\n\u001b[1;32m   (...)\u001b[0m\n\u001b[0;32m    103\u001b[0m     \u001b[39m*\u001b[39m\u001b[39m*\u001b[39mkwargs,\n\u001b[0;32m    104\u001b[0m ) \u001b[39m-\u001b[39m\u001b[39m>\u001b[39m Tensor:\n\u001b[1;32m--> 105\u001b[0m     \u001b[39mif\u001b[39;00m dim \u001b[39m>\u001b[39m\u001b[39m=\u001b[39m x\u001b[39m.\u001b[39;49mdim() \u001b[39mor\u001b[39;00m dim \u001b[39m<\u001b[39m \u001b[39m-\u001b[39mx\u001b[39m.\u001b[39mdim():\n\u001b[0;32m    106\u001b[0m         \u001b[39mraise\u001b[39;00m \u001b[39mValueError\u001b[39;00m(\u001b[39mf\u001b[39m\u001b[39m\"\u001b[39m\u001b[39mEncountered invalid dimension \u001b[39m\u001b[39m'\u001b[39m\u001b[39m{\u001b[39;00mdim\u001b[39m}\u001b[39;00m\u001b[39m'\u001b[39m\u001b[39m of \u001b[39m\u001b[39m\"\u001b[39m\n\u001b[0;32m    107\u001b[0m                          \u001b[39mf\u001b[39m\u001b[39m\"\u001b[39m\u001b[39msource tensor with \u001b[39m\u001b[39m{\u001b[39;00mx\u001b[39m.\u001b[39mdim()\u001b[39m}\u001b[39;00m\u001b[39m dimensions\u001b[39m\u001b[39m\"\u001b[39m)\n\u001b[0;32m    109\u001b[0m     \u001b[39mif\u001b[39;00m index \u001b[39mis\u001b[39;00m \u001b[39mNone\u001b[39;00m \u001b[39mand\u001b[39;00m ptr \u001b[39mis\u001b[39;00m \u001b[39mNone\u001b[39;00m:\n",
      "\u001b[1;31mAttributeError\u001b[0m: 'tuple' object has no attribute 'dim'"
     ]
    }
   ],
   "source": [
    "model(train_data.to(device))"
   ]
  },
  {
   "cell_type": "code",
   "execution_count": 51,
   "metadata": {},
   "outputs": [
    {
     "name": "stderr",
     "output_type": "stream",
     "text": [
      "  0%|          | 0/190 [00:00<?, ?it/s]"
     ]
    },
    {
     "name": "stderr",
     "output_type": "stream",
     "text": [
      "  0%|          | 0/190 [00:00<?, ?it/s]\n"
     ]
    },
    {
     "name": "stdout",
     "output_type": "stream",
     "text": [
      "HeteroData(\n",
      "  user={\n",
      "    node_id=[605],\n",
      "    n_id=[605],\n",
      "  },\n",
      "  movie={\n",
      "    node_id=[2762],\n",
      "    x=[2762, 20],\n",
      "    n_id=[2762],\n",
      "  },\n",
      "  (user, rates, movie)={\n",
      "    edge_index=[2, 17605],\n",
      "    edge_label=[384],\n",
      "    edge_label_index=[2, 384],\n",
      "    e_id=[17605],\n",
      "    input_id=[128],\n",
      "  },\n",
      "  (movie, rev_rates, user)={\n",
      "    edge_index=[2, 7851],\n",
      "    e_id=[7851],\n",
      "  }\n",
      ")\n",
      "x_dict:- {'user': tensor([[-0.3410,  0.3875,  0.3528,  ...,  0.4325, -0.0878,  0.7170],\n",
      "        [ 1.8927, -1.8302, -0.5237,  ...,  1.6886,  1.0078, -0.7601],\n",
      "        [-0.0106, -0.5854, -1.3801,  ..., -0.7361, -0.9928,  0.4445],\n",
      "        ...,\n",
      "        [-0.2627,  0.8648, -0.2811,  ...,  1.6395,  1.5637, -1.5371],\n",
      "        [-0.9634,  1.6853,  1.1703,  ...,  1.2882, -1.0497, -0.3536],\n",
      "        [ 0.8950, -1.8852, -0.7841,  ..., -0.6088,  0.4444,  0.9362]],\n",
      "       device='cuda:0', grad_fn=<EmbeddingBackward0>), 'movie': tensor([[-0.3844, -0.2293, -1.3449,  ..., -1.7227,  0.7767, -1.0496],\n",
      "        [ 0.5838, -2.1732,  1.2072,  ...,  0.3382, -0.5188,  0.5477],\n",
      "        [ 1.0426,  0.2291,  1.2145,  ...,  0.7451, -0.3230,  2.4745],\n",
      "        ...,\n",
      "        [ 0.3726, -0.4072,  0.2929,  ..., -1.7310, -0.1365,  0.4803],\n",
      "        [-0.0509,  0.8620,  2.4955,  ...,  1.9415,  0.2070, -0.7518],\n",
      "        [-0.1256,  0.4303,  0.5753,  ...,  1.3397,  0.5873,  1.4885]],\n",
      "       device='cuda:0', grad_fn=<AddBackward0>)}\n",
      "data.edge_index_dict:- {('user', 'rates', 'movie'): tensor([[ 119,  138,  277,  ...,  514,  276,  276],\n",
      "        [   0,    0,    0,  ..., 2353, 2354, 2355]], device='cuda:0'), ('movie', 'rev_rates', 'user'): tensor([[ 370,  371,  372,  ..., 2760, 2761, 2194],\n",
      "        [   0,    0,    0,  ...,  537,  537,  537]], device='cuda:0')}\n",
      "tensor([[-0.3844, -0.2293, -1.3449,  ..., -1.7227,  0.7767, -1.0496],\n",
      "        [ 0.5838, -2.1732,  1.2072,  ...,  0.3382, -0.5188,  0.5477],\n",
      "        [ 1.0426,  0.2291,  1.2145,  ...,  0.7451, -0.3230,  2.4745],\n",
      "        ...,\n",
      "        [ 0.3726, -0.4072,  0.2929,  ..., -1.7310, -0.1365,  0.4803],\n",
      "        [-0.0509,  0.8620,  2.4955,  ...,  1.9415,  0.2070, -0.7518],\n",
      "        [-0.1256,  0.4303,  0.5753,  ...,  1.3397,  0.5873,  1.4885]],\n",
      "       device='cuda:0', grad_fn=<AddBackward0>)\n"
     ]
    },
    {
     "ename": "AttributeError",
     "evalue": "'tuple' object has no attribute 'dim'",
     "output_type": "error",
     "traceback": [
      "\u001b[1;31m---------------------------------------------------------------------------\u001b[0m",
      "\u001b[1;31mAttributeError\u001b[0m                            Traceback (most recent call last)",
      "\u001b[1;32md:\\Codes\\learning_pytorch\\learning_pyg\\link_prediction_het_graph.ipynb Cell 62\u001b[0m line \u001b[0;36m8\n\u001b[0;32m      <a href='vscode-notebook-cell:/d%3A/Codes/learning_pytorch/learning_pyg/link_prediction_het_graph.ipynb#Y111sZmlsZQ%3D%3D?line=4'>5</a>\u001b[0m sampled_data \u001b[39m=\u001b[39m sampled_data\u001b[39m.\u001b[39mto(device)\n\u001b[0;32m      <a href='vscode-notebook-cell:/d%3A/Codes/learning_pytorch/learning_pyg/link_prediction_het_graph.ipynb#Y111sZmlsZQ%3D%3D?line=6'>7</a>\u001b[0m \u001b[39mprint\u001b[39m(sampled_data)\n\u001b[1;32m----> <a href='vscode-notebook-cell:/d%3A/Codes/learning_pytorch/learning_pyg/link_prediction_het_graph.ipynb#Y111sZmlsZQ%3D%3D?line=7'>8</a>\u001b[0m pred \u001b[39m=\u001b[39m model(sampled_data) \u001b[39m# forward pass\u001b[39;00m\n\u001b[0;32m     <a href='vscode-notebook-cell:/d%3A/Codes/learning_pytorch/learning_pyg/link_prediction_het_graph.ipynb#Y111sZmlsZQ%3D%3D?line=9'>10</a>\u001b[0m ground_truth \u001b[39m=\u001b[39m sampled_data[\u001b[39m\"\u001b[39m\u001b[39muser\u001b[39m\u001b[39m\"\u001b[39m, \u001b[39m\"\u001b[39m\u001b[39mrates\u001b[39m\u001b[39m\"\u001b[39m, \u001b[39m\"\u001b[39m\u001b[39mmovie\u001b[39m\u001b[39m\"\u001b[39m]\u001b[39m.\u001b[39medge_label\n\u001b[0;32m     <a href='vscode-notebook-cell:/d%3A/Codes/learning_pytorch/learning_pyg/link_prediction_het_graph.ipynb#Y111sZmlsZQ%3D%3D?line=10'>11</a>\u001b[0m loss \u001b[39m=\u001b[39m F\u001b[39m.\u001b[39mbinary_cross_entropy_with_logits(pred, ground_truth) \u001b[39m# computing the loss\u001b[39;00m\n",
      "File \u001b[1;32md:\\Installations\\JupyterNotebook\\Lib\\site-packages\\torch\\nn\\modules\\module.py:1518\u001b[0m, in \u001b[0;36mModule._wrapped_call_impl\u001b[1;34m(self, *args, **kwargs)\u001b[0m\n\u001b[0;32m   1516\u001b[0m     \u001b[39mreturn\u001b[39;00m \u001b[39mself\u001b[39m\u001b[39m.\u001b[39m_compiled_call_impl(\u001b[39m*\u001b[39margs, \u001b[39m*\u001b[39m\u001b[39m*\u001b[39mkwargs)  \u001b[39m# type: ignore[misc]\u001b[39;00m\n\u001b[0;32m   1517\u001b[0m \u001b[39melse\u001b[39;00m:\n\u001b[1;32m-> 1518\u001b[0m     \u001b[39mreturn\u001b[39;00m \u001b[39mself\u001b[39;49m\u001b[39m.\u001b[39;49m_call_impl(\u001b[39m*\u001b[39;49margs, \u001b[39m*\u001b[39;49m\u001b[39m*\u001b[39;49mkwargs)\n",
      "File \u001b[1;32md:\\Installations\\JupyterNotebook\\Lib\\site-packages\\torch\\nn\\modules\\module.py:1527\u001b[0m, in \u001b[0;36mModule._call_impl\u001b[1;34m(self, *args, **kwargs)\u001b[0m\n\u001b[0;32m   1522\u001b[0m \u001b[39m# If we don't have any hooks, we want to skip the rest of the logic in\u001b[39;00m\n\u001b[0;32m   1523\u001b[0m \u001b[39m# this function, and just call forward.\u001b[39;00m\n\u001b[0;32m   1524\u001b[0m \u001b[39mif\u001b[39;00m \u001b[39mnot\u001b[39;00m (\u001b[39mself\u001b[39m\u001b[39m.\u001b[39m_backward_hooks \u001b[39mor\u001b[39;00m \u001b[39mself\u001b[39m\u001b[39m.\u001b[39m_backward_pre_hooks \u001b[39mor\u001b[39;00m \u001b[39mself\u001b[39m\u001b[39m.\u001b[39m_forward_hooks \u001b[39mor\u001b[39;00m \u001b[39mself\u001b[39m\u001b[39m.\u001b[39m_forward_pre_hooks\n\u001b[0;32m   1525\u001b[0m         \u001b[39mor\u001b[39;00m _global_backward_pre_hooks \u001b[39mor\u001b[39;00m _global_backward_hooks\n\u001b[0;32m   1526\u001b[0m         \u001b[39mor\u001b[39;00m _global_forward_hooks \u001b[39mor\u001b[39;00m _global_forward_pre_hooks):\n\u001b[1;32m-> 1527\u001b[0m     \u001b[39mreturn\u001b[39;00m forward_call(\u001b[39m*\u001b[39;49margs, \u001b[39m*\u001b[39;49m\u001b[39m*\u001b[39;49mkwargs)\n\u001b[0;32m   1529\u001b[0m \u001b[39mtry\u001b[39;00m:\n\u001b[0;32m   1530\u001b[0m     result \u001b[39m=\u001b[39m \u001b[39mNone\u001b[39;00m\n",
      "\u001b[1;32md:\\Codes\\learning_pytorch\\learning_pyg\\link_prediction_het_graph.ipynb Cell 62\u001b[0m line \u001b[0;36m3\n\u001b[0;32m     <a href='vscode-notebook-cell:/d%3A/Codes/learning_pytorch/learning_pyg/link_prediction_het_graph.ipynb#Y111sZmlsZQ%3D%3D?line=26'>27</a>\u001b[0m \u001b[39mprint\u001b[39m(\u001b[39m\"\u001b[39m\u001b[39mdata.edge_index_dict:-\u001b[39m\u001b[39m\"\u001b[39m, data\u001b[39m.\u001b[39medge_index_dict)\n\u001b[0;32m     <a href='vscode-notebook-cell:/d%3A/Codes/learning_pytorch/learning_pyg/link_prediction_het_graph.ipynb#Y111sZmlsZQ%3D%3D?line=27'>28</a>\u001b[0m \u001b[39mprint\u001b[39m(x_dict[\u001b[39m\"\u001b[39m\u001b[39mmovie\u001b[39m\u001b[39m\"\u001b[39m])\n\u001b[1;32m---> <a href='vscode-notebook-cell:/d%3A/Codes/learning_pytorch/learning_pyg/link_prediction_het_graph.ipynb#Y111sZmlsZQ%3D%3D?line=29'>30</a>\u001b[0m x_dict \u001b[39m=\u001b[39m \u001b[39mself\u001b[39;49m\u001b[39m.\u001b[39;49mgnn(x_dict, data\u001b[39m.\u001b[39;49medge_index_dict)\n\u001b[0;32m     <a href='vscode-notebook-cell:/d%3A/Codes/learning_pytorch/learning_pyg/link_prediction_het_graph.ipynb#Y111sZmlsZQ%3D%3D?line=30'>31</a>\u001b[0m \u001b[39m# `edge_index_dict` holds the edge index of all relation types\u001b[39;00m\n\u001b[0;32m     <a href='vscode-notebook-cell:/d%3A/Codes/learning_pytorch/learning_pyg/link_prediction_het_graph.ipynb#Y111sZmlsZQ%3D%3D?line=32'>33</a>\u001b[0m pred \u001b[39m=\u001b[39m \u001b[39mself\u001b[39m\u001b[39m.\u001b[39mclassifier(x_dict[\u001b[39m\"\u001b[39m\u001b[39muser\u001b[39m\u001b[39m\"\u001b[39m], x_dict[\u001b[39m\"\u001b[39m\u001b[39mmovie\u001b[39m\u001b[39m\"\u001b[39m], data[\u001b[39m\"\u001b[39m\u001b[39muser\u001b[39m\u001b[39m\"\u001b[39m, \u001b[39m\"\u001b[39m\u001b[39mrates\u001b[39m\u001b[39m\"\u001b[39m, \u001b[39m\"\u001b[39m\u001b[39mmovie\u001b[39m\u001b[39m\"\u001b[39m]\u001b[39m.\u001b[39medge_label_index)\n",
      "File \u001b[1;32md:\\Installations\\JupyterNotebook\\Lib\\site-packages\\torch\\fx\\graph_module.py:678\u001b[0m, in \u001b[0;36mGraphModule.recompile.<locals>.call_wrapped\u001b[1;34m(self, *args, **kwargs)\u001b[0m\n\u001b[0;32m    677\u001b[0m \u001b[39mdef\u001b[39;00m \u001b[39mcall_wrapped\u001b[39m(\u001b[39mself\u001b[39m, \u001b[39m*\u001b[39margs, \u001b[39m*\u001b[39m\u001b[39m*\u001b[39mkwargs):\n\u001b[1;32m--> 678\u001b[0m     \u001b[39mreturn\u001b[39;00m \u001b[39mself\u001b[39;49m\u001b[39m.\u001b[39;49m_wrapped_call(\u001b[39mself\u001b[39;49m, \u001b[39m*\u001b[39;49margs, \u001b[39m*\u001b[39;49m\u001b[39m*\u001b[39;49mkwargs)\n",
      "File \u001b[1;32md:\\Installations\\JupyterNotebook\\Lib\\site-packages\\torch\\fx\\graph_module.py:284\u001b[0m, in \u001b[0;36m_WrappedCall.__call__\u001b[1;34m(self, obj, *args, **kwargs)\u001b[0m\n\u001b[0;32m    282\u001b[0m     \u001b[39mraise\u001b[39;00m e\u001b[39m.\u001b[39mwith_traceback(\u001b[39mNone\u001b[39;00m)\n\u001b[0;32m    283\u001b[0m \u001b[39melse\u001b[39;00m:\n\u001b[1;32m--> 284\u001b[0m     \u001b[39mraise\u001b[39;00m e\n",
      "File \u001b[1;32md:\\Installations\\JupyterNotebook\\Lib\\site-packages\\torch\\fx\\graph_module.py:274\u001b[0m, in \u001b[0;36m_WrappedCall.__call__\u001b[1;34m(self, obj, *args, **kwargs)\u001b[0m\n\u001b[0;32m    272\u001b[0m         \u001b[39mreturn\u001b[39;00m \u001b[39mself\u001b[39m\u001b[39m.\u001b[39mcls_call(obj, \u001b[39m*\u001b[39margs, \u001b[39m*\u001b[39m\u001b[39m*\u001b[39mkwargs)\n\u001b[0;32m    273\u001b[0m     \u001b[39melse\u001b[39;00m:\n\u001b[1;32m--> 274\u001b[0m         \u001b[39mreturn\u001b[39;00m \u001b[39msuper\u001b[39;49m(\u001b[39mself\u001b[39;49m\u001b[39m.\u001b[39;49mcls, obj)\u001b[39m.\u001b[39;49m\u001b[39m__call__\u001b[39;49m(\u001b[39m*\u001b[39;49margs, \u001b[39m*\u001b[39;49m\u001b[39m*\u001b[39;49mkwargs)  \u001b[39m# type: ignore[misc]\u001b[39;00m\n\u001b[0;32m    275\u001b[0m \u001b[39mexcept\u001b[39;00m \u001b[39mException\u001b[39;00m \u001b[39mas\u001b[39;00m e:\n\u001b[0;32m    276\u001b[0m     \u001b[39massert\u001b[39;00m e\u001b[39m.\u001b[39m__traceback__\n",
      "File \u001b[1;32md:\\Installations\\JupyterNotebook\\Lib\\site-packages\\torch\\nn\\modules\\module.py:1518\u001b[0m, in \u001b[0;36mModule._wrapped_call_impl\u001b[1;34m(self, *args, **kwargs)\u001b[0m\n\u001b[0;32m   1516\u001b[0m     \u001b[39mreturn\u001b[39;00m \u001b[39mself\u001b[39m\u001b[39m.\u001b[39m_compiled_call_impl(\u001b[39m*\u001b[39margs, \u001b[39m*\u001b[39m\u001b[39m*\u001b[39mkwargs)  \u001b[39m# type: ignore[misc]\u001b[39;00m\n\u001b[0;32m   1517\u001b[0m \u001b[39melse\u001b[39;00m:\n\u001b[1;32m-> 1518\u001b[0m     \u001b[39mreturn\u001b[39;00m \u001b[39mself\u001b[39;49m\u001b[39m.\u001b[39;49m_call_impl(\u001b[39m*\u001b[39;49margs, \u001b[39m*\u001b[39;49m\u001b[39m*\u001b[39;49mkwargs)\n",
      "File \u001b[1;32md:\\Installations\\JupyterNotebook\\Lib\\site-packages\\torch\\nn\\modules\\module.py:1527\u001b[0m, in \u001b[0;36mModule._call_impl\u001b[1;34m(self, *args, **kwargs)\u001b[0m\n\u001b[0;32m   1522\u001b[0m \u001b[39m# If we don't have any hooks, we want to skip the rest of the logic in\u001b[39;00m\n\u001b[0;32m   1523\u001b[0m \u001b[39m# this function, and just call forward.\u001b[39;00m\n\u001b[0;32m   1524\u001b[0m \u001b[39mif\u001b[39;00m \u001b[39mnot\u001b[39;00m (\u001b[39mself\u001b[39m\u001b[39m.\u001b[39m_backward_hooks \u001b[39mor\u001b[39;00m \u001b[39mself\u001b[39m\u001b[39m.\u001b[39m_backward_pre_hooks \u001b[39mor\u001b[39;00m \u001b[39mself\u001b[39m\u001b[39m.\u001b[39m_forward_hooks \u001b[39mor\u001b[39;00m \u001b[39mself\u001b[39m\u001b[39m.\u001b[39m_forward_pre_hooks\n\u001b[0;32m   1525\u001b[0m         \u001b[39mor\u001b[39;00m _global_backward_pre_hooks \u001b[39mor\u001b[39;00m _global_backward_hooks\n\u001b[0;32m   1526\u001b[0m         \u001b[39mor\u001b[39;00m _global_forward_hooks \u001b[39mor\u001b[39;00m _global_forward_pre_hooks):\n\u001b[1;32m-> 1527\u001b[0m     \u001b[39mreturn\u001b[39;00m forward_call(\u001b[39m*\u001b[39;49margs, \u001b[39m*\u001b[39;49m\u001b[39m*\u001b[39;49mkwargs)\n\u001b[0;32m   1529\u001b[0m \u001b[39mtry\u001b[39;00m:\n\u001b[0;32m   1530\u001b[0m     result \u001b[39m=\u001b[39m \u001b[39mNone\u001b[39;00m\n",
      "File \u001b[1;32m<eval_with_key>.1:15\u001b[0m, in \u001b[0;36mforward\u001b[1;34m(self, x, edge_index)\u001b[0m\n\u001b[0;32m     13\u001b[0m relu__user \u001b[39m=\u001b[39m torch\u001b[39m.\u001b[39mnn\u001b[39m.\u001b[39mfunctional\u001b[39m.\u001b[39mrelu(conv1__user, inplace \u001b[39m=\u001b[39m \u001b[39mFalse\u001b[39;00m);  conv1__user \u001b[39m=\u001b[39m \u001b[39mNone\u001b[39;00m\n\u001b[0;32m     14\u001b[0m relu__movie \u001b[39m=\u001b[39m torch\u001b[39m.\u001b[39mnn\u001b[39m.\u001b[39mfunctional\u001b[39m.\u001b[39mrelu(conv1__movie, inplace \u001b[39m=\u001b[39m \u001b[39mFalse\u001b[39;00m);  conv1__movie \u001b[39m=\u001b[39m \u001b[39mNone\u001b[39;00m\n\u001b[1;32m---> 15\u001b[0m conv2__movie \u001b[39m=\u001b[39m \u001b[39mself\u001b[39;49m\u001b[39m.\u001b[39;49mconv2\u001b[39m.\u001b[39;49muser__rates__movie(((relu__user, relu__movie), (relu__user, relu__movie)), edge_index__user__rates__movie);  edge_index__user__rates__movie \u001b[39m=\u001b[39m \u001b[39mNone\u001b[39;00m\n\u001b[0;32m     16\u001b[0m conv2__user \u001b[39m=\u001b[39m \u001b[39mself\u001b[39m\u001b[39m.\u001b[39mconv2\u001b[39m.\u001b[39mmovie__rev_rates__user(((relu__movie, relu__user), (relu__movie, relu__user)), edge_index__movie__rev_rates__user);  relu__movie \u001b[39m=\u001b[39m relu__user \u001b[39m=\u001b[39m edge_index__movie__rev_rates__user \u001b[39m=\u001b[39m \u001b[39mNone\u001b[39;00m\n\u001b[0;32m     17\u001b[0m \u001b[39mreturn\u001b[39;00m {\u001b[39m'\u001b[39m\u001b[39muser\u001b[39m\u001b[39m'\u001b[39m: conv2__user, \u001b[39m'\u001b[39m\u001b[39mmovie\u001b[39m\u001b[39m'\u001b[39m: conv2__movie}\n",
      "File \u001b[1;32md:\\Installations\\JupyterNotebook\\Lib\\site-packages\\torch\\nn\\modules\\module.py:1518\u001b[0m, in \u001b[0;36mModule._wrapped_call_impl\u001b[1;34m(self, *args, **kwargs)\u001b[0m\n\u001b[0;32m   1516\u001b[0m     \u001b[39mreturn\u001b[39;00m \u001b[39mself\u001b[39m\u001b[39m.\u001b[39m_compiled_call_impl(\u001b[39m*\u001b[39margs, \u001b[39m*\u001b[39m\u001b[39m*\u001b[39mkwargs)  \u001b[39m# type: ignore[misc]\u001b[39;00m\n\u001b[0;32m   1517\u001b[0m \u001b[39melse\u001b[39;00m:\n\u001b[1;32m-> 1518\u001b[0m     \u001b[39mreturn\u001b[39;00m \u001b[39mself\u001b[39;49m\u001b[39m.\u001b[39;49m_call_impl(\u001b[39m*\u001b[39;49margs, \u001b[39m*\u001b[39;49m\u001b[39m*\u001b[39;49mkwargs)\n",
      "File \u001b[1;32md:\\Installations\\JupyterNotebook\\Lib\\site-packages\\torch\\nn\\modules\\module.py:1527\u001b[0m, in \u001b[0;36mModule._call_impl\u001b[1;34m(self, *args, **kwargs)\u001b[0m\n\u001b[0;32m   1522\u001b[0m \u001b[39m# If we don't have any hooks, we want to skip the rest of the logic in\u001b[39;00m\n\u001b[0;32m   1523\u001b[0m \u001b[39m# this function, and just call forward.\u001b[39;00m\n\u001b[0;32m   1524\u001b[0m \u001b[39mif\u001b[39;00m \u001b[39mnot\u001b[39;00m (\u001b[39mself\u001b[39m\u001b[39m.\u001b[39m_backward_hooks \u001b[39mor\u001b[39;00m \u001b[39mself\u001b[39m\u001b[39m.\u001b[39m_backward_pre_hooks \u001b[39mor\u001b[39;00m \u001b[39mself\u001b[39m\u001b[39m.\u001b[39m_forward_hooks \u001b[39mor\u001b[39;00m \u001b[39mself\u001b[39m\u001b[39m.\u001b[39m_forward_pre_hooks\n\u001b[0;32m   1525\u001b[0m         \u001b[39mor\u001b[39;00m _global_backward_pre_hooks \u001b[39mor\u001b[39;00m _global_backward_hooks\n\u001b[0;32m   1526\u001b[0m         \u001b[39mor\u001b[39;00m _global_forward_hooks \u001b[39mor\u001b[39;00m _global_forward_pre_hooks):\n\u001b[1;32m-> 1527\u001b[0m     \u001b[39mreturn\u001b[39;00m forward_call(\u001b[39m*\u001b[39;49margs, \u001b[39m*\u001b[39;49m\u001b[39m*\u001b[39;49mkwargs)\n\u001b[0;32m   1529\u001b[0m \u001b[39mtry\u001b[39;00m:\n\u001b[0;32m   1530\u001b[0m     result \u001b[39m=\u001b[39m \u001b[39mNone\u001b[39;00m\n",
      "File \u001b[1;32md:\\Installations\\JupyterNotebook\\Lib\\site-packages\\torch_geometric\\nn\\conv\\sage_conv.py:130\u001b[0m, in \u001b[0;36mSAGEConv.forward\u001b[1;34m(self, x, edge_index, size)\u001b[0m\n\u001b[0;32m    127\u001b[0m     x \u001b[39m=\u001b[39m (\u001b[39mself\u001b[39m\u001b[39m.\u001b[39mlin(x[\u001b[39m0\u001b[39m])\u001b[39m.\u001b[39mrelu(), x[\u001b[39m1\u001b[39m])\n\u001b[0;32m    129\u001b[0m \u001b[39m# propagate_type: (x: OptPairTensor)\u001b[39;00m\n\u001b[1;32m--> 130\u001b[0m out \u001b[39m=\u001b[39m \u001b[39mself\u001b[39;49m\u001b[39m.\u001b[39;49mpropagate(edge_index, x\u001b[39m=\u001b[39;49mx, size\u001b[39m=\u001b[39;49msize)\n\u001b[0;32m    131\u001b[0m out \u001b[39m=\u001b[39m \u001b[39mself\u001b[39m\u001b[39m.\u001b[39mlin_l(out)\n\u001b[0;32m    133\u001b[0m x_r \u001b[39m=\u001b[39m x[\u001b[39m1\u001b[39m]\n",
      "File \u001b[1;32md:\\Installations\\JupyterNotebook\\Lib\\site-packages\\torch_geometric\\nn\\conv\\message_passing.py:480\u001b[0m, in \u001b[0;36mMessagePassing.propagate\u001b[1;34m(self, edge_index, size, **kwargs)\u001b[0m\n\u001b[0;32m    477\u001b[0m     \u001b[39mif\u001b[39;00m res \u001b[39mis\u001b[39;00m \u001b[39mnot\u001b[39;00m \u001b[39mNone\u001b[39;00m:\n\u001b[0;32m    478\u001b[0m         aggr_kwargs \u001b[39m=\u001b[39m res[\u001b[39m0\u001b[39m] \u001b[39mif\u001b[39;00m \u001b[39misinstance\u001b[39m(res, \u001b[39mtuple\u001b[39m) \u001b[39melse\u001b[39;00m res\n\u001b[1;32m--> 480\u001b[0m out \u001b[39m=\u001b[39m \u001b[39mself\u001b[39;49m\u001b[39m.\u001b[39;49maggregate(out, \u001b[39m*\u001b[39;49m\u001b[39m*\u001b[39;49maggr_kwargs)\n\u001b[0;32m    482\u001b[0m \u001b[39mfor\u001b[39;00m hook \u001b[39min\u001b[39;00m \u001b[39mself\u001b[39m\u001b[39m.\u001b[39m_aggregate_forward_hooks\u001b[39m.\u001b[39mvalues():\n\u001b[0;32m    483\u001b[0m     res \u001b[39m=\u001b[39m hook(\u001b[39mself\u001b[39m, (aggr_kwargs, ), out)\n",
      "File \u001b[1;32md:\\Installations\\JupyterNotebook\\Lib\\site-packages\\torch_geometric\\nn\\conv\\message_passing.py:604\u001b[0m, in \u001b[0;36mMessagePassing.aggregate\u001b[1;34m(self, inputs, index, ptr, dim_size)\u001b[0m\n\u001b[0;32m    591\u001b[0m \u001b[39mdef\u001b[39;00m \u001b[39maggregate\u001b[39m(\u001b[39mself\u001b[39m, inputs: Tensor, index: Tensor,\n\u001b[0;32m    592\u001b[0m               ptr: Optional[Tensor] \u001b[39m=\u001b[39m \u001b[39mNone\u001b[39;00m,\n\u001b[0;32m    593\u001b[0m               dim_size: Optional[\u001b[39mint\u001b[39m] \u001b[39m=\u001b[39m \u001b[39mNone\u001b[39;00m) \u001b[39m-\u001b[39m\u001b[39m>\u001b[39m Tensor:\n\u001b[0;32m    594\u001b[0m \u001b[39m    \u001b[39m\u001b[39mr\u001b[39m\u001b[39m\"\"\"Aggregates messages from neighbors as\u001b[39;00m\n\u001b[0;32m    595\u001b[0m \u001b[39m    :math:`\\bigoplus_{j \\in \\mathcal{N}(i)}`.\u001b[39;00m\n\u001b[0;32m    596\u001b[0m \n\u001b[1;32m   (...)\u001b[0m\n\u001b[0;32m    602\u001b[0m \u001b[39m    as specified in :meth:`__init__` by the :obj:`aggr` argument.\u001b[39;00m\n\u001b[0;32m    603\u001b[0m \u001b[39m    \"\"\"\u001b[39;00m\n\u001b[1;32m--> 604\u001b[0m     \u001b[39mreturn\u001b[39;00m \u001b[39mself\u001b[39;49m\u001b[39m.\u001b[39;49maggr_module(inputs, index, ptr\u001b[39m=\u001b[39;49mptr, dim_size\u001b[39m=\u001b[39;49mdim_size,\n\u001b[0;32m    605\u001b[0m                             dim\u001b[39m=\u001b[39;49m\u001b[39mself\u001b[39;49m\u001b[39m.\u001b[39;49mnode_dim)\n",
      "File \u001b[1;32md:\\Installations\\JupyterNotebook\\Lib\\site-packages\\torch_geometric\\experimental.py:115\u001b[0m, in \u001b[0;36mdisable_dynamic_shapes.<locals>.decorator.<locals>.wrapper\u001b[1;34m(*args, **kwargs)\u001b[0m\n\u001b[0;32m    112\u001b[0m \u001b[39m@functools\u001b[39m\u001b[39m.\u001b[39mwraps(func)\n\u001b[0;32m    113\u001b[0m \u001b[39mdef\u001b[39;00m \u001b[39mwrapper\u001b[39m(\u001b[39m*\u001b[39margs, \u001b[39m*\u001b[39m\u001b[39m*\u001b[39mkwargs):\n\u001b[0;32m    114\u001b[0m     \u001b[39mif\u001b[39;00m \u001b[39mnot\u001b[39;00m is_experimental_mode_enabled(\u001b[39m'\u001b[39m\u001b[39mdisable_dynamic_shapes\u001b[39m\u001b[39m'\u001b[39m):\n\u001b[1;32m--> 115\u001b[0m         \u001b[39mreturn\u001b[39;00m func(\u001b[39m*\u001b[39;49margs, \u001b[39m*\u001b[39;49m\u001b[39m*\u001b[39;49mkwargs)\n\u001b[0;32m    117\u001b[0m     \u001b[39mfor\u001b[39;00m required_arg \u001b[39min\u001b[39;00m required_args:\n\u001b[0;32m    118\u001b[0m         index \u001b[39m=\u001b[39m required_args_pos[required_arg]\n",
      "File \u001b[1;32md:\\Installations\\JupyterNotebook\\Lib\\site-packages\\torch_geometric\\nn\\aggr\\base.py:105\u001b[0m, in \u001b[0;36mAggregation.__call__\u001b[1;34m(self, x, index, ptr, dim_size, dim, **kwargs)\u001b[0m\n\u001b[0;32m     95\u001b[0m \u001b[39m@disable_dynamic_shapes\u001b[39m(required_args\u001b[39m=\u001b[39m[\u001b[39m'\u001b[39m\u001b[39mdim_size\u001b[39m\u001b[39m'\u001b[39m])\n\u001b[0;32m     96\u001b[0m \u001b[39mdef\u001b[39;00m \u001b[39m__call__\u001b[39m(\n\u001b[0;32m     97\u001b[0m     \u001b[39mself\u001b[39m,\n\u001b[1;32m   (...)\u001b[0m\n\u001b[0;32m    103\u001b[0m     \u001b[39m*\u001b[39m\u001b[39m*\u001b[39mkwargs,\n\u001b[0;32m    104\u001b[0m ) \u001b[39m-\u001b[39m\u001b[39m>\u001b[39m Tensor:\n\u001b[1;32m--> 105\u001b[0m     \u001b[39mif\u001b[39;00m dim \u001b[39m>\u001b[39m\u001b[39m=\u001b[39m x\u001b[39m.\u001b[39;49mdim() \u001b[39mor\u001b[39;00m dim \u001b[39m<\u001b[39m \u001b[39m-\u001b[39mx\u001b[39m.\u001b[39mdim():\n\u001b[0;32m    106\u001b[0m         \u001b[39mraise\u001b[39;00m \u001b[39mValueError\u001b[39;00m(\u001b[39mf\u001b[39m\u001b[39m\"\u001b[39m\u001b[39mEncountered invalid dimension \u001b[39m\u001b[39m'\u001b[39m\u001b[39m{\u001b[39;00mdim\u001b[39m}\u001b[39;00m\u001b[39m'\u001b[39m\u001b[39m of \u001b[39m\u001b[39m\"\u001b[39m\n\u001b[0;32m    107\u001b[0m                          \u001b[39mf\u001b[39m\u001b[39m\"\u001b[39m\u001b[39msource tensor with \u001b[39m\u001b[39m{\u001b[39;00mx\u001b[39m.\u001b[39mdim()\u001b[39m}\u001b[39;00m\u001b[39m dimensions\u001b[39m\u001b[39m\"\u001b[39m)\n\u001b[0;32m    109\u001b[0m     \u001b[39mif\u001b[39;00m index \u001b[39mis\u001b[39;00m \u001b[39mNone\u001b[39;00m \u001b[39mand\u001b[39;00m ptr \u001b[39mis\u001b[39;00m \u001b[39mNone\u001b[39;00m:\n",
      "\u001b[1;31mAttributeError\u001b[0m: 'tuple' object has no attribute 'dim'"
     ]
    }
   ],
   "source": [
    "for epoch in range(1, 6):\n",
    "    total_loss = total_examples = 0\n",
    "    for sampled_data in tqdm.tqdm(train_loader):\n",
    "        optimizer.zero_grad() # zeroing the gradients\n",
    "        sampled_data = sampled_data.to(device)\n",
    "        \n",
    "        print(sampled_data)\n",
    "        pred = model(sampled_data) # forward pass\n",
    "        \n",
    "        ground_truth = sampled_data[\"user\", \"rates\", \"movie\"].edge_label\n",
    "        loss = F.binary_cross_entropy_with_logits(pred, ground_truth) # computing the loss\n",
    "        loss.backward() # backward pass\n",
    "        \n",
    "        optimizer.step() # updating the parameters\n",
    "        \n",
    "        total_loss += loss.item() * pred.numel() # `numel` returns the number of elements in the tensor\n",
    "        total_examples += pred.numel()\n",
    "    \n",
    "    print(f\"Epoch {epoch:03d}: train loss {total_loss / total_examples:.4f}\")"
   ]
  },
  {
   "cell_type": "code",
   "execution_count": 52,
   "metadata": {},
   "outputs": [
    {
     "data": {
      "text/plain": [
       "4"
      ]
     },
     "execution_count": 52,
     "metadata": {},
     "output_type": "execute_result"
    }
   ],
   "source": [
    "torch.Tensor([1, 2, 3, 3]).numel()"
   ]
  },
  {
   "cell_type": "markdown",
   "metadata": {},
   "source": [
    "## Example of a het gnn gone right"
   ]
  },
  {
   "cell_type": "code",
   "execution_count": 53,
   "metadata": {},
   "outputs": [
    {
     "data": {
      "text/plain": [
       "{'author': tensor([[0.0000, 0.1573, 0.0000, 0.0000, 0.2531, 0.1678, 0.2737, 0.3328, 0.0206,\n",
       "          0.1651, 0.0845, 0.0000, 0.0000, 0.0000, 0.0571, 0.0000, 0.0000, 0.0193,\n",
       "          0.0000, 0.0702, 0.0000, 0.1840, 0.2005, 0.0000, 0.0000, 0.0000, 0.0000,\n",
       "          0.1876, 0.0000, 0.3220, 0.2971, 0.3778],\n",
       "         [0.0000, 0.1108, 0.0000, 0.0000, 0.0000, 0.0000, 0.4385, 0.3311, 0.0000,\n",
       "          0.4554, 0.0000, 0.0000, 0.1417, 0.0000, 0.0000, 0.0000, 0.2335, 0.1601,\n",
       "          0.0000, 0.3007, 0.0000, 0.1033, 0.3556, 0.0071, 0.0000, 0.0412, 0.0831,\n",
       "          0.0000, 0.0000, 0.0000, 0.0000, 0.6886],\n",
       "         [0.1687, 0.0000, 0.0000, 0.1705, 0.0000, 0.2716, 0.4504, 0.0701, 0.1509,\n",
       "          0.3530, 0.0307, 0.0000, 0.1314, 0.0000, 0.0000, 0.1756, 0.1084, 0.0000,\n",
       "          0.0000, 0.3543, 0.4484, 0.0000, 0.0000, 0.1295, 0.0000, 0.0000, 0.8107,\n",
       "          0.0569, 0.0000, 0.5997, 0.2878, 0.0376],\n",
       "         [0.0000, 0.0000, 0.0750, 0.0000, 0.2361, 0.0000, 0.1362, 0.0000, 0.2585,\n",
       "          0.0000, 0.0480, 0.1379, 0.2138, 0.0000, 0.0510, 0.0000, 0.1276, 0.1221,\n",
       "          0.0000, 0.0000, 0.0000, 0.3162, 0.0000, 0.0428, 0.0000, 0.0000, 0.0000,\n",
       "          0.0000, 0.0000, 0.4417, 0.2869, 0.3899],\n",
       "         [0.0000, 0.0000, 0.5138, 0.6018, 0.0000, 0.1675, 0.2809, 0.0000, 0.0307,\n",
       "          0.3686, 0.0000, 0.7241, 0.3322, 0.1721, 0.0000, 0.3885, 1.0734, 0.0000,\n",
       "          0.0000, 0.4233, 0.0135, 0.8182, 0.1102, 0.0000, 0.0645, 0.0000, 0.5347,\n",
       "          0.0000, 0.0000, 1.0508, 0.6393, 0.0000],\n",
       "         [0.0000, 0.0609, 0.0000, 0.0000, 0.0000, 0.0049, 0.4775, 0.2769, 0.0000,\n",
       "          0.6371, 0.0000, 0.0000, 0.2651, 0.0000, 0.0000, 0.0000, 0.1121, 0.2132,\n",
       "          0.0000, 0.3821, 0.0226, 0.2495, 0.5179, 0.0000, 0.0000, 0.0000, 0.0000,\n",
       "          0.0000, 0.0316, 0.0000, 0.0921, 1.0307],\n",
       "         [0.0000, 0.3870, 0.0000, 0.0793, 0.0000, 0.0000, 0.2614, 0.3064, 0.4116,\n",
       "          0.3907, 0.1327, 0.0000, 0.0000, 0.0000, 0.1006, 0.0000, 0.2722, 0.1538,\n",
       "          0.1109, 0.0000, 0.0000, 0.0245, 0.1964, 0.4238, 0.0000, 0.2391, 0.3281,\n",
       "          0.0000, 0.0000, 0.0000, 0.0000, 0.1476],\n",
       "         [0.0912, 0.0000, 0.0000, 0.1150, 0.0383, 0.0000, 0.0734, 0.1088, 0.1133,\n",
       "          0.1400, 0.0000, 0.0306, 0.0177, 0.0000, 0.0000, 0.0000, 0.2901, 0.1430,\n",
       "          0.0000, 0.2462, 0.0000, 0.0000, 0.0000, 0.0106, 0.0000, 0.1269, 0.0806,\n",
       "          0.0000, 0.0000, 0.0000, 0.0000, 0.0000],\n",
       "         [0.0000, 0.0000, 0.0000, 0.2243, 0.3979, 0.0281, 0.0000, 0.0000, 0.0000,\n",
       "          0.1371, 0.0000, 0.3185, 0.7270, 0.0000, 0.1776, 0.0000, 0.8507, 0.0000,\n",
       "          0.0000, 0.0000, 0.0000, 0.0000, 0.0000, 0.0000, 0.1107, 0.1748, 0.4837,\n",
       "          0.0000, 0.0000, 0.6187, 0.2255, 0.0719],\n",
       "         [0.0000, 0.0000, 0.0000, 0.2691, 0.0000, 0.0000, 0.1634, 0.0000, 0.0000,\n",
       "          0.0866, 0.0000, 0.0483, 0.5779, 0.0000, 0.2496, 0.0000, 0.7409, 0.0000,\n",
       "          0.0000, 0.0835, 0.0000, 0.5644, 0.0049, 0.0000, 0.1611, 0.0843, 0.0000,\n",
       "          0.0000, 0.0875, 0.4270, 0.1655, 0.2372],\n",
       "         [0.0000, 0.0000, 0.0000, 0.0000, 0.0000, 0.1749, 0.6394, 0.1568, 0.2850,\n",
       "          0.6237, 0.1830, 0.1201, 0.2724, 0.0000, 0.0000, 0.0000, 0.3679, 0.5763,\n",
       "          0.0000, 0.1351, 0.5043, 0.0000, 0.0000, 0.1725, 0.0901, 0.0000, 0.6123,\n",
       "          0.0616, 0.0000, 1.0667, 0.4432, 0.3843],\n",
       "         [0.1279, 0.0000, 0.0000, 0.1074, 0.1028, 0.0000, 0.0000, 0.0000, 0.3600,\n",
       "          0.0636, 0.0498, 0.0669, 0.2048, 0.0000, 0.0000, 0.0000, 0.2312, 0.2563,\n",
       "          0.0000, 0.1759, 0.0000, 0.1453, 0.0000, 0.1500, 0.0000, 0.1030, 0.0787,\n",
       "          0.0000, 0.0000, 0.0079, 0.0996, 0.0000],\n",
       "         [0.0000, 0.4144, 0.0000, 0.0000, 0.2190, 0.2521, 0.3673, 0.5007, 0.2205,\n",
       "          0.3187, 0.2657, 0.0000, 0.0000, 0.0000, 0.0902, 0.0000, 0.0000, 0.0931,\n",
       "          0.0927, 0.0000, 0.0000, 0.0505, 0.3594, 0.1457, 0.0000, 0.0000, 0.0769,\n",
       "          0.2020, 0.0000, 0.2837, 0.2780, 0.3178],\n",
       "         [0.1156, 0.0000, 0.0000, 0.0414, 0.1224, 0.0000, 0.0000, 0.0764, 0.2715,\n",
       "          0.0000, 0.0000, 0.1355, 0.1383, 0.0875, 0.0000, 0.0000, 0.1070, 0.0000,\n",
       "          0.0000, 0.2221, 0.0000, 0.1368, 0.0000, 0.0237, 0.0000, 0.0251, 0.0534,\n",
       "          0.0000, 0.0000, 0.0000, 0.1950, 0.0000],\n",
       "         [0.0000, 0.5255, 0.2900, 0.0778, 0.0000, 0.0000, 0.8203, 0.0000, 0.4638,\n",
       "          1.1603, 0.5166, 0.0000, 0.0526, 0.0000, 0.2701, 0.0000, 0.5219, 0.2131,\n",
       "          0.0000, 0.4851, 0.0000, 0.0000, 0.0000, 0.8078, 0.0000, 0.4487, 0.0000,\n",
       "          0.0000, 0.0000, 0.7553, 0.8198, 0.5277],\n",
       "         [0.0000, 0.0726, 0.0000, 0.0000, 0.0984, 0.0250, 0.4021, 0.3364, 0.0000,\n",
       "          0.4322, 0.0000, 0.0450, 0.2474, 0.0000, 0.0000, 0.0000, 0.0764, 0.0104,\n",
       "          0.0000, 0.2407, 0.0000, 0.4246, 0.4267, 0.0000, 0.1084, 0.0000, 0.0000,\n",
       "          0.0000, 0.0755, 0.0000, 0.2510, 0.8192],\n",
       "         [0.0000, 0.0269, 0.0558, 0.0000, 0.0407, 0.0702, 0.2886, 0.3593, 0.0000,\n",
       "          0.4335, 0.0000, 0.0000, 0.0000, 0.0000, 0.0000, 0.0000, 0.0000, 0.1131,\n",
       "          0.0000, 0.1617, 0.0000, 0.2139, 0.4138, 0.0485, 0.0000, 0.0000, 0.0000,\n",
       "          0.1179, 0.0000, 0.0319, 0.1394, 0.5237],\n",
       "         [0.0000, 0.0000, 0.0000, 0.0122, 0.1336, 0.0000, 0.0617, 0.0376, 0.4533,\n",
       "          0.2666, 0.1607, 0.0000, 0.3360, 0.0000, 0.0000, 0.0000, 0.2581, 0.3240,\n",
       "          0.0000, 0.0199, 0.0000, 0.2244, 0.0000, 0.2565, 0.0000, 0.0158, 0.1564,\n",
       "          0.0000, 0.0000, 0.2040, 0.1241, 0.2915],\n",
       "         [0.0000, 0.0000, 0.0000, 0.6097, 0.0000, 0.2027, 0.9257, 0.3830, 0.8001,\n",
       "          0.8862, 0.3544, 0.0000, 0.2489, 0.0000, 0.0000, 0.3319, 0.5008, 0.3402,\n",
       "          0.0000, 0.0811, 0.9396, 0.4543, 0.0000, 0.0969, 0.4100, 0.0000, 1.4016,\n",
       "          0.0358, 0.0000, 1.1006, 0.7501, 0.5388],\n",
       "         [0.0000, 0.0000, 0.0000, 0.1792, 0.0000, 0.0000, 0.0000, 0.0000, 0.0000,\n",
       "          0.0217, 0.1494, 0.0000, 0.2057, 0.0000, 0.5269, 0.0000, 0.2580, 0.0000,\n",
       "          0.0000, 0.0000, 0.0000, 0.0000, 0.0000, 0.0000, 0.0000, 0.9904, 0.1114,\n",
       "          0.0000, 0.0000, 0.0000, 0.0000, 0.0000]], grad_fn=<ReluBackward0>),\n",
       " 'paper': tensor([[0.3756, 0.0000, 0.3634, 0.5069, 0.0000, 0.0000, 0.0000, 0.1377, 0.0932,\n",
       "          0.3260, 0.0000, 0.4220, 0.0000, 0.0000, 0.0000, 0.0643, 0.2179, 0.1188,\n",
       "          0.7503, 0.0000, 0.3393, 0.0838, 0.0000, 0.0667, 0.0000, 0.0000, 0.2718,\n",
       "          0.0000, 0.0000, 0.0000, 0.5272, 0.3649],\n",
       "         [0.3798, 0.0000, 0.1729, 0.3467, 0.0332, 0.1261, 0.0000, 0.0000, 0.1626,\n",
       "          0.3616, 0.0000, 0.2420, 0.0149, 0.0395, 0.0371, 0.0000, 0.0644, 0.3715,\n",
       "          0.5180, 0.0710, 0.4424, 0.2564, 0.0000, 0.3092, 0.0000, 0.1081, 0.1688,\n",
       "          0.0000, 0.0079, 0.0000, 0.3388, 0.2354],\n",
       "         [0.4004, 0.0000, 0.5499, 2.4142, 0.7677, 0.2748, 0.7491, 1.0366, 0.7434,\n",
       "          1.1463, 0.0000, 0.0635, 0.0000, 0.0000, 0.0000, 1.3981, 0.0000, 0.8539,\n",
       "          1.3432, 0.0000, 2.0163, 0.0000, 0.0000, 1.0520, 2.5267, 0.0000, 0.0000,\n",
       "          0.0000, 0.8372, 0.8243, 0.9459, 0.7466],\n",
       "         [0.3300, 0.0000, 0.0000, 0.2925, 0.0000, 1.2640, 0.1366, 0.5111, 0.0000,\n",
       "          1.2041, 0.0477, 0.7710, 0.0000, 0.0000, 0.4718, 1.0935, 0.0000, 0.6593,\n",
       "          0.2315, 0.9381, 0.0000, 0.0000, 0.0000, 1.1505, 0.8734, 0.3147, 0.4327,\n",
       "          0.0000, 0.0000, 0.2043, 0.6552, 1.6287],\n",
       "         [0.0000, 0.0000, 0.4720, 1.0969, 1.6670, 0.5325, 0.4086, 0.3916, 0.3518,\n",
       "          0.7500, 0.4167, 0.6905, 0.2111, 0.0366, 0.7129, 0.0000, 0.0000, 0.9243,\n",
       "          0.9096, 0.0000, 1.6612, 0.8060, 0.0000, 1.5856, 0.2565, 0.0000, 0.0000,\n",
       "          0.0000, 0.0000, 0.3382, 0.8372, 0.2809],\n",
       "         [0.0086, 0.0000, 0.7103, 0.1360, 0.0000, 0.2452, 0.0000, 0.4876, 0.0000,\n",
       "          0.5792, 0.1493, 0.1165, 0.0000, 0.0000, 0.2435, 0.0000, 0.0000, 0.0000,\n",
       "          0.6576, 0.3283, 0.0000, 0.0000, 0.0000, 0.9269, 0.0000, 0.3339, 0.0112,\n",
       "          0.0414, 0.0000, 0.0000, 0.4288, 0.6032],\n",
       "         [0.0873, 0.0000, 0.0000, 1.7336, 2.3165, 1.2250, 1.7146, 0.1691, 0.0680,\n",
       "          2.0909, 0.3122, 0.7871, 0.6229, 0.0000, 0.2599, 0.1084, 0.0000, 1.6091,\n",
       "          0.8212, 0.0000, 1.5659, 0.3904, 0.0000, 1.6339, 1.8026, 0.1964, 0.0000,\n",
       "          0.0000, 0.1141, 0.0825, 1.9186, 0.7441],\n",
       "         [0.2022, 0.0000, 0.0000, 0.0000, 0.0000, 0.8268, 0.0000, 0.1015, 0.3127,\n",
       "          0.6936, 0.0000, 0.0085, 0.4783, 0.0000, 0.1335, 0.1733, 0.0000, 1.8165,\n",
       "          0.8389, 0.0000, 0.6166, 0.0190, 0.0000, 0.1118, 0.1967, 1.1599, 0.5510,\n",
       "          0.6723, 0.0000, 0.0000, 0.9971, 0.8980],\n",
       "         [0.2189, 0.0000, 0.0513, 0.6581, 0.6113, 0.2380, 0.1412, 0.0176, 0.1449,\n",
       "          0.0503, 0.0000, 0.2584, 0.0318, 0.1217, 0.1824, 0.0000, 0.0000, 0.7951,\n",
       "          0.3464, 0.0000, 1.0649, 0.2318, 0.0000, 0.2840, 0.0000, 0.0000, 0.0707,\n",
       "          0.0000, 0.0000, 0.0000, 0.7076, 0.3191],\n",
       "         [0.7254, 0.0000, 0.1715, 0.3942, 0.1303, 0.3518, 0.0000, 0.0100, 0.2912,\n",
       "          0.8536, 0.0948, 0.2878, 0.1850, 0.0000, 0.1388, 0.3297, 0.1359, 0.8727,\n",
       "          1.1150, 0.4921, 0.5306, 0.5035, 0.0000, 0.6401, 0.2954, 0.6758, 0.1176,\n",
       "          0.0000, 0.4622, 0.0000, 0.5891, 0.3778],\n",
       "         [0.5066, 0.0000, 0.8856, 0.5347, 0.2218, 0.2835, 0.0000, 0.4932, 0.0000,\n",
       "          0.4567, 0.0000, 0.1998, 0.0000, 0.0000, 0.0000, 0.0000, 0.0000, 0.5837,\n",
       "          0.9681, 0.0388, 0.1843, 0.0000, 0.0924, 0.0662, 0.0000, 0.6589, 0.0000,\n",
       "          0.0000, 0.0000, 0.0000, 0.4619, 0.8049],\n",
       "         [0.4936, 0.0000, 0.8787, 0.8462, 0.4999, 0.0000, 0.6097, 0.0000, 0.0000,\n",
       "          0.7344, 0.0000, 0.0000, 0.0000, 0.0000, 0.0000, 0.5376, 0.7858, 0.0000,\n",
       "          1.2398, 0.0000, 0.0000, 0.0000, 0.1169, 1.7119, 0.0000, 0.0000, 0.0000,\n",
       "          0.0000, 0.2994, 0.0000, 0.8199, 1.8223],\n",
       "         [0.9605, 0.3636, 0.0000, 0.4137, 0.0000, 0.5210, 0.0000, 0.0000, 0.2666,\n",
       "          0.7782, 0.0000, 0.4993, 0.0000, 0.0000, 0.2528, 0.6584, 0.1793, 1.3892,\n",
       "          1.1389, 0.3997, 0.5326, 0.0155, 0.0000, 0.0000, 0.9027, 0.9912, 0.7652,\n",
       "          0.5654, 0.0000, 0.0000, 0.8934, 0.7222],\n",
       "         [0.5258, 0.9002, 0.4376, 0.9267, 0.0000, 0.0000, 0.0000, 0.8900, 0.1432,\n",
       "          0.1992, 0.0000, 0.0000, 0.0000, 0.4590, 0.0000, 0.0000, 1.2475, 0.7182,\n",
       "          0.0000, 0.0000, 0.0000, 0.0000, 0.0000, 1.2204, 0.0000, 0.0000, 0.0000,\n",
       "          1.2609, 0.0000, 0.1112, 0.8204, 0.8241],\n",
       "         [0.5796, 0.0000, 0.2637, 1.2787, 1.1071, 0.3895, 0.2979, 0.1239, 0.0591,\n",
       "          0.6125, 0.0000, 0.6483, 0.0000, 0.0033, 0.0000, 0.0000, 0.2694, 0.5634,\n",
       "          0.1810, 0.0000, 0.8648, 0.0774, 0.0000, 0.0000, 0.0431, 0.0000, 0.0000,\n",
       "          0.0000, 0.0000, 0.0000, 0.9771, 0.1781],\n",
       "         [0.0000, 0.0000, 0.6338, 0.0826, 0.0000, 0.0535, 0.0000, 0.7876, 0.0000,\n",
       "          0.0709, 0.0000, 0.0926, 0.0000, 0.0000, 0.1219, 0.0000, 0.0123, 0.2302,\n",
       "          0.4592, 0.0000, 0.2815, 0.0000, 0.0000, 0.5921, 0.0000, 0.1113, 0.1033,\n",
       "          0.2035, 0.0000, 0.0000, 0.4914, 0.7906],\n",
       "         [0.1187, 0.0000, 0.0000, 0.7438, 0.5089, 0.9324, 1.1214, 0.0356, 0.0000,\n",
       "          0.9205, 0.0000, 0.0000, 0.1211, 0.0000, 0.1803, 0.2908, 0.1519, 1.7781,\n",
       "          1.6613, 0.0000, 1.5739, 0.0000, 0.0000, 0.0000, 0.5859, 0.1105, 0.0198,\n",
       "          0.4392, 0.0000, 0.0000, 1.7706, 0.7744],\n",
       "         [0.4865, 0.0000, 0.0000, 0.0000, 1.2737, 0.9106, 0.3032, 0.0000, 0.3384,\n",
       "          0.8960, 0.6262, 0.3547, 1.0901, 0.4601, 0.9470, 0.0000, 0.0000, 2.1563,\n",
       "          0.4688, 0.0000, 1.5349, 0.6280, 0.0000, 1.1300, 0.3419, 0.7755, 0.0170,\n",
       "          0.0000, 0.0000, 0.0000, 1.0169, 0.7688],\n",
       "         [0.4242, 0.0000, 0.0930, 0.5011, 0.1687, 0.0000, 0.0000, 0.0000, 0.0000,\n",
       "          0.0000, 0.0000, 0.2043, 0.0000, 0.1249, 0.0000, 0.0000, 0.0079, 0.5384,\n",
       "          0.2164, 0.0000, 0.5233, 0.0394, 0.0000, 0.0000, 0.0000, 0.0000, 0.4407,\n",
       "          0.0000, 0.0000, 0.0000, 0.5807, 0.2666],\n",
       "         [0.0000, 0.0000, 0.0000, 0.7185, 1.2458, 1.2097, 1.7348, 0.0000, 0.0000,\n",
       "          0.8275, 0.2654, 0.2376, 0.9175, 0.0000, 0.7772, 0.0000, 0.1156, 0.7349,\n",
       "          0.6700, 0.0000, 2.0041, 0.2605, 0.0000, 0.7159, 0.3127, 0.0000, 0.0000,\n",
       "          0.0000, 0.0000, 0.0000, 1.8016, 1.1027],\n",
       "         [0.0827, 0.0000, 0.3502, 0.6090, 0.3764, 0.0000, 0.0000, 0.0595, 0.0000,\n",
       "          0.0000, 0.0000, 0.4915, 0.0000, 0.0000, 0.0000, 0.0000, 0.1768, 0.2727,\n",
       "          0.2875, 0.0000, 0.7856, 0.1925, 0.0000, 0.0000, 0.0000, 0.0000, 0.3454,\n",
       "          0.0000, 0.0000, 0.0000, 0.5032, 0.3390],\n",
       "         [0.0329, 0.0000, 0.6590, 0.2636, 1.4715, 0.8966, 0.4161, 0.0000, 0.3360,\n",
       "          0.0000, 0.0000, 0.0595, 0.8027, 0.3016, 0.0000, 0.0000, 0.1876, 1.8036,\n",
       "          0.0000, 0.0000, 0.7151, 0.0000, 0.4324, 1.4413, 0.0000, 0.4187, 0.0000,\n",
       "          0.0000, 0.0000, 0.5080, 1.2833, 2.2265],\n",
       "         [0.0000, 0.0000, 0.0958, 0.0000, 0.0000, 1.3649, 0.0000, 0.6004, 0.3703,\n",
       "          0.7419, 0.0000, 0.0000, 0.5299, 0.0000, 0.1807, 0.0000, 0.0000, 1.3706,\n",
       "          0.1516, 0.0000, 0.9847, 0.2062, 0.0000, 0.3344, 0.0000, 0.7731, 0.0000,\n",
       "          0.1902, 0.0000, 0.0000, 0.5998, 0.4759],\n",
       "         [0.0857, 0.2654, 0.3493, 0.0457, 0.0000, 1.0497, 0.0000, 0.3332, 0.8820,\n",
       "          0.8708, 0.0000, 0.0000, 0.1139, 0.0000, 0.0000, 0.6493, 0.0488, 2.3246,\n",
       "          0.0876, 0.2971, 0.0000, 0.0000, 0.0000, 1.1777, 0.6518, 1.0013, 0.0000,\n",
       "          1.5964, 0.0000, 0.0000, 0.8685, 0.7413],\n",
       "         [0.3926, 0.0000, 0.1284, 0.5834, 0.3445, 0.0000, 0.0000, 0.0000, 0.0000,\n",
       "          0.0000, 0.0000, 0.3074, 0.0000, 0.1300, 0.0000, 0.0000, 0.0043, 0.6196,\n",
       "          0.1727, 0.0000, 0.6340, 0.0767, 0.0000, 0.0000, 0.0000, 0.0000, 0.4140,\n",
       "          0.0000, 0.0000, 0.0000, 0.6880, 0.2975]], grad_fn=<ReluBackward0>)}"
      ]
     },
     "execution_count": 53,
     "metadata": {},
     "output_type": "execute_result"
    }
   ],
   "source": [
    "import torch\n",
    "from torch_geometric.nn import SAGEConv, to_hetero\n",
    "\n",
    "class GNN2(torch.nn.Module):\n",
    "    def __init__(self):\n",
    "        super().__init__()\n",
    "        self.conv1 = SAGEConv((-1, -1), 32)\n",
    "        self.conv2 = SAGEConv((32, 32), 32)\n",
    "\n",
    "    def forward(self, x, edge_index):\n",
    "        x = self.conv1(x, edge_index).relu()\n",
    "        x = self.conv2(x, edge_index).relu()\n",
    "        return x\n",
    "\n",
    "model2 = GNN2()\n",
    "\n",
    "node_types = ['author', 'paper']\n",
    "edge_types = [\n",
    "    ('author', 'writes', 'paper'),\n",
    "    ('paper', 'cites', 'paper'),\n",
    "    ('paper', 'written_by', 'author'),\n",
    "]\n",
    "metadata = (node_types, edge_types)\n",
    "\n",
    "x_dict = {\n",
    "    \"author\": torch.randn((20, 5)),\n",
    "    \"paper\": torch.randn((25, 4))\n",
    "}\n",
    "auths = torch.randint(0, 20, (10,))\n",
    "paps = torch.randint(0, 25, (10,))\n",
    "edge_index_dict = {\n",
    "    ('author', 'writes', 'paper'): torch.stack((auths, paps)),\n",
    "    ('paper', 'cites', 'paper'): torch.randint(0, 25, (2, 10)),\n",
    "    ('paper', 'written_by', 'author'): torch.stack((paps, auths))\n",
    "}\n",
    "\n",
    "model2 = to_hetero(model2, metadata)\n",
    "model2(x_dict, edge_index_dict)"
   ]
  },
  {
   "cell_type": "code",
   "execution_count": 54,
   "metadata": {},
   "outputs": [
    {
     "data": {
      "text/plain": [
       "GraphModule(\n",
       "  (conv1): ModuleDict(\n",
       "    (user__rates__movie): SAGEConv((-1, -1), 32, aggr=mean)\n",
       "    (movie__rev_rates__user): SAGEConv((-1, -1), 32, aggr=mean)\n",
       "  )\n",
       "  (conv2): ModuleDict(\n",
       "    (user__rates__movie): SAGEConv((32, 32), 32, aggr=mean)\n",
       "    (movie__rev_rates__user): SAGEConv((32, 32), 32, aggr=mean)\n",
       "  )\n",
       ")"
      ]
     },
     "execution_count": 54,
     "metadata": {},
     "output_type": "execute_result"
    }
   ],
   "source": [
    "model3 = GNN2()\n",
    "model3 = to_hetero(model3, train_data.metadata())\n",
    "model3.to(device)\n",
    "model3"
   ]
  },
  {
   "cell_type": "code",
   "execution_count": 55,
   "metadata": {},
   "outputs": [
    {
     "data": {
      "text/plain": [
       "{'user': tensor([[0.0121, 0.0000, 0.0120,  ..., 0.0000, 0.0257, 0.0000],\n",
       "         [0.0000, 0.0000, 0.0295,  ..., 0.0000, 0.0000, 0.0000],\n",
       "         [0.0000, 0.0000, 0.0191,  ..., 0.0000, 0.0000, 0.0000],\n",
       "         ...,\n",
       "         [0.0927, 0.0000, 0.0974,  ..., 0.0000, 0.0000, 0.0000],\n",
       "         [0.0927, 0.0000, 0.0974,  ..., 0.0000, 0.0000, 0.0000],\n",
       "         [0.0927, 0.0000, 0.0974,  ..., 0.0000, 0.0000, 0.0000]],\n",
       "        device='cuda:0', grad_fn=<ReluBackward0>),\n",
       " 'movie': tensor([[0.0000, 0.0000, 0.0875,  ..., 0.0000, 0.0000, 0.0000],\n",
       "         [0.0000, 0.1182, 0.0560,  ..., 0.0000, 0.0000, 0.0709],\n",
       "         [0.0000, 0.0000, 0.0478,  ..., 0.0000, 0.0000, 0.0982],\n",
       "         ...,\n",
       "         [0.0000, 0.0067, 0.0778,  ..., 0.0000, 0.0000, 0.0352],\n",
       "         [0.0000, 0.0139, 0.1604,  ..., 0.0000, 0.0000, 0.1290],\n",
       "         [0.0062, 0.0000, 0.2689,  ..., 0.0000, 0.0000, 0.0463]],\n",
       "        device='cuda:0', grad_fn=<ReluBackward0>)}"
      ]
     },
     "execution_count": 55,
     "metadata": {},
     "output_type": "execute_result"
    }
   ],
   "source": [
    "x_dict = sampled_data.x_dict\n",
    "x_dict[\"user\"] = torch.zeros(len(sampled_data[\"user\"].node_id), 64).to(device)\n",
    "model3(\n",
    "    # {\n",
    "    #     \"user\": torch.zeros(len(sampled_data[\"user\"].node_id), 64).to(device),\n",
    "    #     \"movie\": sampled_data[\"movie\"].x.to(device)\n",
    "    # },\n",
    "    x_dict,\n",
    "    # {\n",
    "    #     ('user', 'rates', 'movie'): sampled_data[\"user\", \"rates\", \"movie\"].edge_index.to(device),\n",
    "    #     ('movie', 'rev_rates', 'user'): sampled_data[\"movie\", \"rev_rates\", \"user\"].edge_index.to(device)\n",
    "    # }\n",
    "    sampled_data.edge_index_dict\n",
    ")\n"
   ]
  },
  {
   "cell_type": "code",
   "execution_count": 56,
   "metadata": {},
   "outputs": [
    {
     "data": {
      "text/plain": [
       "(torch.Size([610, 64]), torch.Size([9742, 20]))"
      ]
     },
     "execution_count": 56,
     "metadata": {},
     "output_type": "execute_result"
    }
   ],
   "source": [
    "torch.zeros(len(train_data[\"user\"].node_id), 64).shape, train_data[\"movie\"].x.shape"
   ]
  },
  {
   "cell_type": "code",
   "execution_count": 57,
   "metadata": {},
   "outputs": [
    {
     "data": {
      "text/plain": [
       "{('user',\n",
       "  'rates',\n",
       "  'movie'): tensor([[ 119,  138,  277,  ...,  514,  276,  276],\n",
       "         [   0,    0,    0,  ..., 2353, 2354, 2355]], device='cuda:0'),\n",
       " ('movie',\n",
       "  'rev_rates',\n",
       "  'user'): tensor([[ 370,  371,  372,  ..., 2760, 2761, 2194],\n",
       "         [   0,    0,    0,  ...,  537,  537,  537]], device='cuda:0')}"
      ]
     },
     "execution_count": 57,
     "metadata": {},
     "output_type": "execute_result"
    }
   ],
   "source": [
    "sampled_data.edge_index_dict"
   ]
  },
  {
   "cell_type": "code",
   "execution_count": null,
   "metadata": {},
   "outputs": [],
   "source": []
  },
  {
   "cell_type": "code",
   "execution_count": null,
   "metadata": {},
   "outputs": [],
   "source": []
  }
 ],
 "metadata": {
  "kernelspec": {
   "display_name": "JupyterNotebook",
   "language": "python",
   "name": "python3"
  },
  "language_info": {
   "codemirror_mode": {
    "name": "ipython",
    "version": 3
   },
   "file_extension": ".py",
   "mimetype": "text/x-python",
   "name": "python",
   "nbconvert_exporter": "python",
   "pygments_lexer": "ipython3",
   "version": "3.11.2"
  }
 },
 "nbformat": 4,
 "nbformat_minor": 2
}
