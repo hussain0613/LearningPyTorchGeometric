{
 "cells": [
  {
   "cell_type": "markdown",
   "metadata": {},
   "source": [
    "# Practicing link regression on heterogenous graph\n",
    "Source: https://colab.research.google.com/drive/1N3LvAO0AXV4kBPbTMX866OwJM9YS6Ji2 \\\n",
    "This notebook also uses [sentence-transforemers](https://www.sbert.net/) which we could use to embed sentences and paragraphs. \\\n",
    "This might come in handy if we want to encode the diseases ourselves. \\\n",
    "More on sentence-transformers: https://huggingface.co/sentence-transformers"
   ]
  },
  {
   "cell_type": "code",
   "execution_count": 1,
   "metadata": {},
   "outputs": [],
   "source": [
    "import torch\n",
    "from torch_geometric.data  import download_url, extract_zip, HeteroData\n",
    "import pandas as pd\n",
    "\n",
    "import numpy as np\n",
    "from sentence_transformers import SentenceTransformer\n",
    "\n",
    "import torch_geometric.transforms as T\n",
    "\n",
    "from torch_geometric.nn import SAGEConv, to_hetero\n",
    "\n",
    "import torch.nn.functional as F"
   ]
  },
  {
   "cell_type": "markdown",
   "metadata": {},
   "source": [
    "## Gathering data"
   ]
  },
  {
   "cell_type": "markdown",
   "metadata": {},
   "source": [
    "### Downloading Movielense Data"
   ]
  },
  {
   "cell_type": "code",
   "execution_count": 2,
   "metadata": {},
   "outputs": [
    {
     "name": "stderr",
     "output_type": "stream",
     "text": [
      "Using existing file ml-latest-small.zip\n",
      "Extracting datasets/ml-latest-small.zip\n"
     ]
    }
   ],
   "source": [
    "\n",
    "dataset_name = 'ml-latest-small'\n",
    "\n",
    "url = f'https://files.grouplens.org/datasets/movielens/{dataset_name}.zip'\n",
    "extract_zip(download_url(url, 'datasets/'), 'datasets')\n",
    "\n",
    "movies_path = f'datasets/{dataset_name}/movies.csv'\n",
    "ratings_path = f'datasets/{dataset_name}/ratings.csv'"
   ]
  },
  {
   "cell_type": "code",
   "execution_count": 3,
   "metadata": {},
   "outputs": [],
   "source": [
    "ratings_df = pd.read_csv(ratings_path)\n",
    "movies_df = pd.read_csv(movies_path)"
   ]
  },
  {
   "cell_type": "code",
   "execution_count": 4,
   "metadata": {},
   "outputs": [
    {
     "name": "stdout",
     "output_type": "stream",
     "text": [
      "(9742, 3)\n"
     ]
    },
    {
     "data": {
      "text/html": [
       "<div>\n",
       "<style scoped>\n",
       "    .dataframe tbody tr th:only-of-type {\n",
       "        vertical-align: middle;\n",
       "    }\n",
       "\n",
       "    .dataframe tbody tr th {\n",
       "        vertical-align: top;\n",
       "    }\n",
       "\n",
       "    .dataframe thead th {\n",
       "        text-align: right;\n",
       "    }\n",
       "</style>\n",
       "<table border=\"1\" class=\"dataframe\">\n",
       "  <thead>\n",
       "    <tr style=\"text-align: right;\">\n",
       "      <th></th>\n",
       "      <th>movieId</th>\n",
       "      <th>title</th>\n",
       "      <th>genres</th>\n",
       "    </tr>\n",
       "  </thead>\n",
       "  <tbody>\n",
       "    <tr>\n",
       "      <th>0</th>\n",
       "      <td>1</td>\n",
       "      <td>Toy Story (1995)</td>\n",
       "      <td>Adventure|Animation|Children|Comedy|Fantasy</td>\n",
       "    </tr>\n",
       "    <tr>\n",
       "      <th>1</th>\n",
       "      <td>2</td>\n",
       "      <td>Jumanji (1995)</td>\n",
       "      <td>Adventure|Children|Fantasy</td>\n",
       "    </tr>\n",
       "    <tr>\n",
       "      <th>2</th>\n",
       "      <td>3</td>\n",
       "      <td>Grumpier Old Men (1995)</td>\n",
       "      <td>Comedy|Romance</td>\n",
       "    </tr>\n",
       "    <tr>\n",
       "      <th>3</th>\n",
       "      <td>4</td>\n",
       "      <td>Waiting to Exhale (1995)</td>\n",
       "      <td>Comedy|Drama|Romance</td>\n",
       "    </tr>\n",
       "    <tr>\n",
       "      <th>4</th>\n",
       "      <td>5</td>\n",
       "      <td>Father of the Bride Part II (1995)</td>\n",
       "      <td>Comedy</td>\n",
       "    </tr>\n",
       "  </tbody>\n",
       "</table>\n",
       "</div>"
      ],
      "text/plain": [
       "   movieId                               title   \n",
       "0        1                    Toy Story (1995)  \\\n",
       "1        2                      Jumanji (1995)   \n",
       "2        3             Grumpier Old Men (1995)   \n",
       "3        4            Waiting to Exhale (1995)   \n",
       "4        5  Father of the Bride Part II (1995)   \n",
       "\n",
       "                                        genres  \n",
       "0  Adventure|Animation|Children|Comedy|Fantasy  \n",
       "1                   Adventure|Children|Fantasy  \n",
       "2                               Comedy|Romance  \n",
       "3                         Comedy|Drama|Romance  \n",
       "4                                       Comedy  "
      ]
     },
     "execution_count": 4,
     "metadata": {},
     "output_type": "execute_result"
    }
   ],
   "source": [
    "print(movies_df.shape)\n",
    "movies_df.head()"
   ]
  },
  {
   "cell_type": "code",
   "execution_count": 5,
   "metadata": {},
   "outputs": [
    {
     "name": "stdout",
     "output_type": "stream",
     "text": [
      "(100836, 4)\n"
     ]
    },
    {
     "data": {
      "text/html": [
       "<div>\n",
       "<style scoped>\n",
       "    .dataframe tbody tr th:only-of-type {\n",
       "        vertical-align: middle;\n",
       "    }\n",
       "\n",
       "    .dataframe tbody tr th {\n",
       "        vertical-align: top;\n",
       "    }\n",
       "\n",
       "    .dataframe thead th {\n",
       "        text-align: right;\n",
       "    }\n",
       "</style>\n",
       "<table border=\"1\" class=\"dataframe\">\n",
       "  <thead>\n",
       "    <tr style=\"text-align: right;\">\n",
       "      <th></th>\n",
       "      <th>userId</th>\n",
       "      <th>movieId</th>\n",
       "      <th>rating</th>\n",
       "      <th>timestamp</th>\n",
       "    </tr>\n",
       "  </thead>\n",
       "  <tbody>\n",
       "    <tr>\n",
       "      <th>0</th>\n",
       "      <td>1</td>\n",
       "      <td>1</td>\n",
       "      <td>4.0</td>\n",
       "      <td>964982703</td>\n",
       "    </tr>\n",
       "    <tr>\n",
       "      <th>1</th>\n",
       "      <td>1</td>\n",
       "      <td>3</td>\n",
       "      <td>4.0</td>\n",
       "      <td>964981247</td>\n",
       "    </tr>\n",
       "    <tr>\n",
       "      <th>2</th>\n",
       "      <td>1</td>\n",
       "      <td>6</td>\n",
       "      <td>4.0</td>\n",
       "      <td>964982224</td>\n",
       "    </tr>\n",
       "    <tr>\n",
       "      <th>3</th>\n",
       "      <td>1</td>\n",
       "      <td>47</td>\n",
       "      <td>5.0</td>\n",
       "      <td>964983815</td>\n",
       "    </tr>\n",
       "    <tr>\n",
       "      <th>4</th>\n",
       "      <td>1</td>\n",
       "      <td>50</td>\n",
       "      <td>5.0</td>\n",
       "      <td>964982931</td>\n",
       "    </tr>\n",
       "  </tbody>\n",
       "</table>\n",
       "</div>"
      ],
      "text/plain": [
       "   userId  movieId  rating  timestamp\n",
       "0       1        1     4.0  964982703\n",
       "1       1        3     4.0  964981247\n",
       "2       1        6     4.0  964982224\n",
       "3       1       47     5.0  964983815\n",
       "4       1       50     5.0  964982931"
      ]
     },
     "execution_count": 5,
     "metadata": {},
     "output_type": "execute_result"
    }
   ],
   "source": [
    "print(ratings_df.shape)\n",
    "ratings_df.head()"
   ]
  },
  {
   "cell_type": "markdown",
   "metadata": {},
   "source": [
    "### Importing my IMDb ratings"
   ]
  },
  {
   "cell_type": "code",
   "execution_count": 6,
   "metadata": {},
   "outputs": [
    {
     "name": "stdout",
     "output_type": "stream",
     "text": [
      "My user id: 611\n",
      "(595, 13)\n"
     ]
    },
    {
     "data": {
      "text/html": [
       "<div>\n",
       "<style scoped>\n",
       "    .dataframe tbody tr th:only-of-type {\n",
       "        vertical-align: middle;\n",
       "    }\n",
       "\n",
       "    .dataframe tbody tr th {\n",
       "        vertical-align: top;\n",
       "    }\n",
       "\n",
       "    .dataframe thead th {\n",
       "        text-align: right;\n",
       "    }\n",
       "</style>\n",
       "<table border=\"1\" class=\"dataframe\">\n",
       "  <thead>\n",
       "    <tr style=\"text-align: right;\">\n",
       "      <th></th>\n",
       "      <th>Const</th>\n",
       "      <th>Your Rating</th>\n",
       "      <th>Date Rated</th>\n",
       "      <th>Title</th>\n",
       "      <th>URL</th>\n",
       "      <th>Title Type</th>\n",
       "      <th>IMDb Rating</th>\n",
       "      <th>Runtime (mins)</th>\n",
       "      <th>Year</th>\n",
       "      <th>Genres</th>\n",
       "      <th>Num Votes</th>\n",
       "      <th>Release Date</th>\n",
       "      <th>Directors</th>\n",
       "    </tr>\n",
       "  </thead>\n",
       "  <tbody>\n",
       "    <tr>\n",
       "      <th>0</th>\n",
       "      <td>tt1001526</td>\n",
       "      <td>9</td>\n",
       "      <td>2013-02-22</td>\n",
       "      <td>Megamind</td>\n",
       "      <td>https://www.imdb.com/title/tt1001526/</td>\n",
       "      <td>movie</td>\n",
       "      <td>7.3</td>\n",
       "      <td>95.0</td>\n",
       "      <td>2010</td>\n",
       "      <td>Animation, Action, Comedy, Crime, Family, Myst...</td>\n",
       "      <td>285237.0</td>\n",
       "      <td>2010-10-28</td>\n",
       "      <td>Tom McGrath</td>\n",
       "    </tr>\n",
       "    <tr>\n",
       "      <th>1</th>\n",
       "      <td>tt0101414</td>\n",
       "      <td>9</td>\n",
       "      <td>2013-06-01</td>\n",
       "      <td>Beauty and the Beast</td>\n",
       "      <td>https://www.imdb.com/title/tt0101414/</td>\n",
       "      <td>movie</td>\n",
       "      <td>8.0</td>\n",
       "      <td>84.0</td>\n",
       "      <td>1991</td>\n",
       "      <td>Animation, Family, Fantasy, Musical, Romance</td>\n",
       "      <td>471957.0</td>\n",
       "      <td>1991-09-29</td>\n",
       "      <td>Kirk Wise, Gary Trousdale</td>\n",
       "    </tr>\n",
       "    <tr>\n",
       "      <th>2</th>\n",
       "      <td>tt1029231</td>\n",
       "      <td>6</td>\n",
       "      <td>2014-05-25</td>\n",
       "      <td>Krrish 3</td>\n",
       "      <td>https://www.imdb.com/title/tt1029231/</td>\n",
       "      <td>movie</td>\n",
       "      <td>5.3</td>\n",
       "      <td>152.0</td>\n",
       "      <td>2013</td>\n",
       "      <td>Action, Adventure, Sci-Fi</td>\n",
       "      <td>24624.0</td>\n",
       "      <td>2013-10-31</td>\n",
       "      <td>Rakesh Roshan</td>\n",
       "    </tr>\n",
       "    <tr>\n",
       "      <th>3</th>\n",
       "      <td>tt0103064</td>\n",
       "      <td>9</td>\n",
       "      <td>2013-05-21</td>\n",
       "      <td>Terminator 2: Judgment Day</td>\n",
       "      <td>https://www.imdb.com/title/tt0103064/</td>\n",
       "      <td>movie</td>\n",
       "      <td>8.6</td>\n",
       "      <td>137.0</td>\n",
       "      <td>1991</td>\n",
       "      <td>Action, Sci-Fi</td>\n",
       "      <td>1147386.0</td>\n",
       "      <td>1991-07-01</td>\n",
       "      <td>James Cameron</td>\n",
       "    </tr>\n",
       "    <tr>\n",
       "      <th>4</th>\n",
       "      <td>tt1037705</td>\n",
       "      <td>8</td>\n",
       "      <td>2020-11-01</td>\n",
       "      <td>The Book of Eli</td>\n",
       "      <td>https://www.imdb.com/title/tt1037705/</td>\n",
       "      <td>movie</td>\n",
       "      <td>6.8</td>\n",
       "      <td>118.0</td>\n",
       "      <td>2010</td>\n",
       "      <td>Action, Adventure, Drama, Thriller</td>\n",
       "      <td>332877.0</td>\n",
       "      <td>2010-01-11</td>\n",
       "      <td>Allen Hughes, Albert Hughes</td>\n",
       "    </tr>\n",
       "  </tbody>\n",
       "</table>\n",
       "</div>"
      ],
      "text/plain": [
       "       Const  Your Rating  Date Rated                       Title   \n",
       "0  tt1001526            9  2013-02-22                    Megamind  \\\n",
       "1  tt0101414            9  2013-06-01        Beauty and the Beast   \n",
       "2  tt1029231            6  2014-05-25                    Krrish 3   \n",
       "3  tt0103064            9  2013-05-21  Terminator 2: Judgment Day   \n",
       "4  tt1037705            8  2020-11-01             The Book of Eli   \n",
       "\n",
       "                                     URL Title Type  IMDb Rating   \n",
       "0  https://www.imdb.com/title/tt1001526/      movie          7.3  \\\n",
       "1  https://www.imdb.com/title/tt0101414/      movie          8.0   \n",
       "2  https://www.imdb.com/title/tt1029231/      movie          5.3   \n",
       "3  https://www.imdb.com/title/tt0103064/      movie          8.6   \n",
       "4  https://www.imdb.com/title/tt1037705/      movie          6.8   \n",
       "\n",
       "   Runtime (mins)  Year                                             Genres   \n",
       "0            95.0  2010  Animation, Action, Comedy, Crime, Family, Myst...  \\\n",
       "1            84.0  1991       Animation, Family, Fantasy, Musical, Romance   \n",
       "2           152.0  2013                          Action, Adventure, Sci-Fi   \n",
       "3           137.0  1991                                     Action, Sci-Fi   \n",
       "4           118.0  2010                 Action, Adventure, Drama, Thriller   \n",
       "\n",
       "   Num Votes Release Date                    Directors  \n",
       "0   285237.0   2010-10-28                  Tom McGrath  \n",
       "1   471957.0   1991-09-29    Kirk Wise, Gary Trousdale  \n",
       "2    24624.0   2013-10-31                Rakesh Roshan  \n",
       "3  1147386.0   1991-07-01                James Cameron  \n",
       "4   332877.0   2010-01-11  Allen Hughes, Albert Hughes  "
      ]
     },
     "execution_count": 6,
     "metadata": {},
     "output_type": "execute_result"
    }
   ],
   "source": [
    "my_user_id = ratings_df['userId'].max() + 1\n",
    "print(\"My user id:\", my_user_id)\n",
    "\n",
    "# loading my ratings\n",
    "my_ratings_df = pd.read_csv('datasets/my_ratings.csv')\n",
    "print(my_ratings_df.shape)\n",
    "my_ratings_df.head()"
   ]
  },
  {
   "cell_type": "markdown",
   "metadata": {},
   "source": [
    "#### Processing IMDb ratings dataframe"
   ]
  },
  {
   "cell_type": "markdown",
   "metadata": {},
   "source": [
    "IMDb ratings' coulmns names are capitalized, but the movielense ratings are not. \\\n",
    "So lowering the column names of IMDb ratings."
   ]
  },
  {
   "cell_type": "code",
   "execution_count": 7,
   "metadata": {},
   "outputs": [
    {
     "data": {
      "text/html": [
       "<div>\n",
       "<style scoped>\n",
       "    .dataframe tbody tr th:only-of-type {\n",
       "        vertical-align: middle;\n",
       "    }\n",
       "\n",
       "    .dataframe tbody tr th {\n",
       "        vertical-align: top;\n",
       "    }\n",
       "\n",
       "    .dataframe thead th {\n",
       "        text-align: right;\n",
       "    }\n",
       "</style>\n",
       "<table border=\"1\" class=\"dataframe\">\n",
       "  <thead>\n",
       "    <tr style=\"text-align: right;\">\n",
       "      <th></th>\n",
       "      <th>const</th>\n",
       "      <th>your rating</th>\n",
       "      <th>date rated</th>\n",
       "      <th>title</th>\n",
       "      <th>url</th>\n",
       "      <th>title type</th>\n",
       "      <th>imdb rating</th>\n",
       "      <th>runtime (mins)</th>\n",
       "      <th>year</th>\n",
       "      <th>genres</th>\n",
       "      <th>num votes</th>\n",
       "      <th>release date</th>\n",
       "      <th>directors</th>\n",
       "    </tr>\n",
       "  </thead>\n",
       "  <tbody>\n",
       "    <tr>\n",
       "      <th>0</th>\n",
       "      <td>tt1001526</td>\n",
       "      <td>9</td>\n",
       "      <td>2013-02-22</td>\n",
       "      <td>Megamind</td>\n",
       "      <td>https://www.imdb.com/title/tt1001526/</td>\n",
       "      <td>movie</td>\n",
       "      <td>7.3</td>\n",
       "      <td>95.0</td>\n",
       "      <td>2010</td>\n",
       "      <td>Animation, Action, Comedy, Crime, Family, Myst...</td>\n",
       "      <td>285237.0</td>\n",
       "      <td>2010-10-28</td>\n",
       "      <td>Tom McGrath</td>\n",
       "    </tr>\n",
       "    <tr>\n",
       "      <th>1</th>\n",
       "      <td>tt0101414</td>\n",
       "      <td>9</td>\n",
       "      <td>2013-06-01</td>\n",
       "      <td>Beauty and the Beast</td>\n",
       "      <td>https://www.imdb.com/title/tt0101414/</td>\n",
       "      <td>movie</td>\n",
       "      <td>8.0</td>\n",
       "      <td>84.0</td>\n",
       "      <td>1991</td>\n",
       "      <td>Animation, Family, Fantasy, Musical, Romance</td>\n",
       "      <td>471957.0</td>\n",
       "      <td>1991-09-29</td>\n",
       "      <td>Kirk Wise, Gary Trousdale</td>\n",
       "    </tr>\n",
       "    <tr>\n",
       "      <th>2</th>\n",
       "      <td>tt1029231</td>\n",
       "      <td>6</td>\n",
       "      <td>2014-05-25</td>\n",
       "      <td>Krrish 3</td>\n",
       "      <td>https://www.imdb.com/title/tt1029231/</td>\n",
       "      <td>movie</td>\n",
       "      <td>5.3</td>\n",
       "      <td>152.0</td>\n",
       "      <td>2013</td>\n",
       "      <td>Action, Adventure, Sci-Fi</td>\n",
       "      <td>24624.0</td>\n",
       "      <td>2013-10-31</td>\n",
       "      <td>Rakesh Roshan</td>\n",
       "    </tr>\n",
       "    <tr>\n",
       "      <th>3</th>\n",
       "      <td>tt0103064</td>\n",
       "      <td>9</td>\n",
       "      <td>2013-05-21</td>\n",
       "      <td>Terminator 2: Judgment Day</td>\n",
       "      <td>https://www.imdb.com/title/tt0103064/</td>\n",
       "      <td>movie</td>\n",
       "      <td>8.6</td>\n",
       "      <td>137.0</td>\n",
       "      <td>1991</td>\n",
       "      <td>Action, Sci-Fi</td>\n",
       "      <td>1147386.0</td>\n",
       "      <td>1991-07-01</td>\n",
       "      <td>James Cameron</td>\n",
       "    </tr>\n",
       "    <tr>\n",
       "      <th>4</th>\n",
       "      <td>tt1037705</td>\n",
       "      <td>8</td>\n",
       "      <td>2020-11-01</td>\n",
       "      <td>The Book of Eli</td>\n",
       "      <td>https://www.imdb.com/title/tt1037705/</td>\n",
       "      <td>movie</td>\n",
       "      <td>6.8</td>\n",
       "      <td>118.0</td>\n",
       "      <td>2010</td>\n",
       "      <td>Action, Adventure, Drama, Thriller</td>\n",
       "      <td>332877.0</td>\n",
       "      <td>2010-01-11</td>\n",
       "      <td>Allen Hughes, Albert Hughes</td>\n",
       "    </tr>\n",
       "  </tbody>\n",
       "</table>\n",
       "</div>"
      ],
      "text/plain": [
       "       const  your rating  date rated                       title   \n",
       "0  tt1001526            9  2013-02-22                    Megamind  \\\n",
       "1  tt0101414            9  2013-06-01        Beauty and the Beast   \n",
       "2  tt1029231            6  2014-05-25                    Krrish 3   \n",
       "3  tt0103064            9  2013-05-21  Terminator 2: Judgment Day   \n",
       "4  tt1037705            8  2020-11-01             The Book of Eli   \n",
       "\n",
       "                                     url title type  imdb rating   \n",
       "0  https://www.imdb.com/title/tt1001526/      movie          7.3  \\\n",
       "1  https://www.imdb.com/title/tt0101414/      movie          8.0   \n",
       "2  https://www.imdb.com/title/tt1029231/      movie          5.3   \n",
       "3  https://www.imdb.com/title/tt0103064/      movie          8.6   \n",
       "4  https://www.imdb.com/title/tt1037705/      movie          6.8   \n",
       "\n",
       "   runtime (mins)  year                                             genres   \n",
       "0            95.0  2010  Animation, Action, Comedy, Crime, Family, Myst...  \\\n",
       "1            84.0  1991       Animation, Family, Fantasy, Musical, Romance   \n",
       "2           152.0  2013                          Action, Adventure, Sci-Fi   \n",
       "3           137.0  1991                                     Action, Sci-Fi   \n",
       "4           118.0  2010                 Action, Adventure, Drama, Thriller   \n",
       "\n",
       "   num votes release date                    directors  \n",
       "0   285237.0   2010-10-28                  Tom McGrath  \n",
       "1   471957.0   1991-09-29    Kirk Wise, Gary Trousdale  \n",
       "2    24624.0   2013-10-31                Rakesh Roshan  \n",
       "3  1147386.0   1991-07-01                James Cameron  \n",
       "4   332877.0   2010-01-11  Allen Hughes, Albert Hughes  "
      ]
     },
     "execution_count": 7,
     "metadata": {},
     "output_type": "execute_result"
    }
   ],
   "source": [
    "my_ratings_df.columns = my_ratings_df.columns.str.strip().str.lower()\n",
    "my_ratings_df.head()"
   ]
  },
  {
   "cell_type": "markdown",
   "metadata": {},
   "source": [
    "Movie titles in IMDb ratings are not in the same format as in movielense. \\\n",
    "IMDb movie titles are just titles. Movielense movie titles are titles + year. \\\n",
    "So adding the year to the IMDb movie titles."
   ]
  },
  {
   "cell_type": "code",
   "execution_count": 8,
   "metadata": {},
   "outputs": [
    {
     "data": {
      "text/html": [
       "<div>\n",
       "<style scoped>\n",
       "    .dataframe tbody tr th:only-of-type {\n",
       "        vertical-align: middle;\n",
       "    }\n",
       "\n",
       "    .dataframe tbody tr th {\n",
       "        vertical-align: top;\n",
       "    }\n",
       "\n",
       "    .dataframe thead th {\n",
       "        text-align: right;\n",
       "    }\n",
       "</style>\n",
       "<table border=\"1\" class=\"dataframe\">\n",
       "  <thead>\n",
       "    <tr style=\"text-align: right;\">\n",
       "      <th></th>\n",
       "      <th>const</th>\n",
       "      <th>your rating</th>\n",
       "      <th>date rated</th>\n",
       "      <th>title</th>\n",
       "      <th>url</th>\n",
       "      <th>title type</th>\n",
       "      <th>imdb rating</th>\n",
       "      <th>runtime (mins)</th>\n",
       "      <th>year</th>\n",
       "      <th>genres</th>\n",
       "      <th>num votes</th>\n",
       "      <th>release date</th>\n",
       "      <th>directors</th>\n",
       "    </tr>\n",
       "  </thead>\n",
       "  <tbody>\n",
       "    <tr>\n",
       "      <th>0</th>\n",
       "      <td>tt1001526</td>\n",
       "      <td>9</td>\n",
       "      <td>2013-02-22</td>\n",
       "      <td>Megamind (2010)</td>\n",
       "      <td>https://www.imdb.com/title/tt1001526/</td>\n",
       "      <td>movie</td>\n",
       "      <td>7.3</td>\n",
       "      <td>95.0</td>\n",
       "      <td>2010</td>\n",
       "      <td>Animation, Action, Comedy, Crime, Family, Myst...</td>\n",
       "      <td>285237.0</td>\n",
       "      <td>2010-10-28</td>\n",
       "      <td>Tom McGrath</td>\n",
       "    </tr>\n",
       "    <tr>\n",
       "      <th>1</th>\n",
       "      <td>tt0101414</td>\n",
       "      <td>9</td>\n",
       "      <td>2013-06-01</td>\n",
       "      <td>Beauty and the Beast (1991)</td>\n",
       "      <td>https://www.imdb.com/title/tt0101414/</td>\n",
       "      <td>movie</td>\n",
       "      <td>8.0</td>\n",
       "      <td>84.0</td>\n",
       "      <td>1991</td>\n",
       "      <td>Animation, Family, Fantasy, Musical, Romance</td>\n",
       "      <td>471957.0</td>\n",
       "      <td>1991-09-29</td>\n",
       "      <td>Kirk Wise, Gary Trousdale</td>\n",
       "    </tr>\n",
       "    <tr>\n",
       "      <th>2</th>\n",
       "      <td>tt1029231</td>\n",
       "      <td>6</td>\n",
       "      <td>2014-05-25</td>\n",
       "      <td>Krrish 3 (2013)</td>\n",
       "      <td>https://www.imdb.com/title/tt1029231/</td>\n",
       "      <td>movie</td>\n",
       "      <td>5.3</td>\n",
       "      <td>152.0</td>\n",
       "      <td>2013</td>\n",
       "      <td>Action, Adventure, Sci-Fi</td>\n",
       "      <td>24624.0</td>\n",
       "      <td>2013-10-31</td>\n",
       "      <td>Rakesh Roshan</td>\n",
       "    </tr>\n",
       "    <tr>\n",
       "      <th>3</th>\n",
       "      <td>tt0103064</td>\n",
       "      <td>9</td>\n",
       "      <td>2013-05-21</td>\n",
       "      <td>Terminator 2: Judgment Day (1991)</td>\n",
       "      <td>https://www.imdb.com/title/tt0103064/</td>\n",
       "      <td>movie</td>\n",
       "      <td>8.6</td>\n",
       "      <td>137.0</td>\n",
       "      <td>1991</td>\n",
       "      <td>Action, Sci-Fi</td>\n",
       "      <td>1147386.0</td>\n",
       "      <td>1991-07-01</td>\n",
       "      <td>James Cameron</td>\n",
       "    </tr>\n",
       "    <tr>\n",
       "      <th>4</th>\n",
       "      <td>tt1037705</td>\n",
       "      <td>8</td>\n",
       "      <td>2020-11-01</td>\n",
       "      <td>The Book of Eli (2010)</td>\n",
       "      <td>https://www.imdb.com/title/tt1037705/</td>\n",
       "      <td>movie</td>\n",
       "      <td>6.8</td>\n",
       "      <td>118.0</td>\n",
       "      <td>2010</td>\n",
       "      <td>Action, Adventure, Drama, Thriller</td>\n",
       "      <td>332877.0</td>\n",
       "      <td>2010-01-11</td>\n",
       "      <td>Allen Hughes, Albert Hughes</td>\n",
       "    </tr>\n",
       "  </tbody>\n",
       "</table>\n",
       "</div>"
      ],
      "text/plain": [
       "       const  your rating  date rated                              title   \n",
       "0  tt1001526            9  2013-02-22                    Megamind (2010)  \\\n",
       "1  tt0101414            9  2013-06-01        Beauty and the Beast (1991)   \n",
       "2  tt1029231            6  2014-05-25                    Krrish 3 (2013)   \n",
       "3  tt0103064            9  2013-05-21  Terminator 2: Judgment Day (1991)   \n",
       "4  tt1037705            8  2020-11-01             The Book of Eli (2010)   \n",
       "\n",
       "                                     url title type  imdb rating   \n",
       "0  https://www.imdb.com/title/tt1001526/      movie          7.3  \\\n",
       "1  https://www.imdb.com/title/tt0101414/      movie          8.0   \n",
       "2  https://www.imdb.com/title/tt1029231/      movie          5.3   \n",
       "3  https://www.imdb.com/title/tt0103064/      movie          8.6   \n",
       "4  https://www.imdb.com/title/tt1037705/      movie          6.8   \n",
       "\n",
       "   runtime (mins)  year                                             genres   \n",
       "0            95.0  2010  Animation, Action, Comedy, Crime, Family, Myst...  \\\n",
       "1            84.0  1991       Animation, Family, Fantasy, Musical, Romance   \n",
       "2           152.0  2013                          Action, Adventure, Sci-Fi   \n",
       "3           137.0  1991                                     Action, Sci-Fi   \n",
       "4           118.0  2010                 Action, Adventure, Drama, Thriller   \n",
       "\n",
       "   num votes release date                    directors  \n",
       "0   285237.0   2010-10-28                  Tom McGrath  \n",
       "1   471957.0   1991-09-29    Kirk Wise, Gary Trousdale  \n",
       "2    24624.0   2013-10-31                Rakesh Roshan  \n",
       "3  1147386.0   1991-07-01                James Cameron  \n",
       "4   332877.0   2010-01-11  Allen Hughes, Albert Hughes  "
      ]
     },
     "execution_count": 8,
     "metadata": {},
     "output_type": "execute_result"
    }
   ],
   "source": [
    "my_ratings_df['title'] = my_ratings_df['title'] + ' (' + my_ratings_df['year'].astype(str) + ')'\n",
    "my_ratings_df.head()"
   ]
  },
  {
   "cell_type": "markdown",
   "metadata": {},
   "source": [
    "IMDb ratings are in the range of 1 to 10. \\\n",
    "Movielense ratings are in the range of 0.5 to 5. \\\n",
    "So multiplying the IMDb ratings by 0.5."
   ]
  },
  {
   "cell_type": "code",
   "execution_count": 9,
   "metadata": {},
   "outputs": [
    {
     "data": {
      "text/html": [
       "<div>\n",
       "<style scoped>\n",
       "    .dataframe tbody tr th:only-of-type {\n",
       "        vertical-align: middle;\n",
       "    }\n",
       "\n",
       "    .dataframe tbody tr th {\n",
       "        vertical-align: top;\n",
       "    }\n",
       "\n",
       "    .dataframe thead th {\n",
       "        text-align: right;\n",
       "    }\n",
       "</style>\n",
       "<table border=\"1\" class=\"dataframe\">\n",
       "  <thead>\n",
       "    <tr style=\"text-align: right;\">\n",
       "      <th></th>\n",
       "      <th>const</th>\n",
       "      <th>your rating</th>\n",
       "      <th>date rated</th>\n",
       "      <th>title</th>\n",
       "      <th>url</th>\n",
       "      <th>title type</th>\n",
       "      <th>imdb rating</th>\n",
       "      <th>runtime (mins)</th>\n",
       "      <th>year</th>\n",
       "      <th>genres</th>\n",
       "      <th>num votes</th>\n",
       "      <th>release date</th>\n",
       "      <th>directors</th>\n",
       "      <th>rating</th>\n",
       "    </tr>\n",
       "  </thead>\n",
       "  <tbody>\n",
       "    <tr>\n",
       "      <th>0</th>\n",
       "      <td>tt1001526</td>\n",
       "      <td>9</td>\n",
       "      <td>2013-02-22</td>\n",
       "      <td>Megamind (2010)</td>\n",
       "      <td>https://www.imdb.com/title/tt1001526/</td>\n",
       "      <td>movie</td>\n",
       "      <td>7.3</td>\n",
       "      <td>95.0</td>\n",
       "      <td>2010</td>\n",
       "      <td>Animation, Action, Comedy, Crime, Family, Myst...</td>\n",
       "      <td>285237.0</td>\n",
       "      <td>2010-10-28</td>\n",
       "      <td>Tom McGrath</td>\n",
       "      <td>4</td>\n",
       "    </tr>\n",
       "    <tr>\n",
       "      <th>1</th>\n",
       "      <td>tt0101414</td>\n",
       "      <td>9</td>\n",
       "      <td>2013-06-01</td>\n",
       "      <td>Beauty and the Beast (1991)</td>\n",
       "      <td>https://www.imdb.com/title/tt0101414/</td>\n",
       "      <td>movie</td>\n",
       "      <td>8.0</td>\n",
       "      <td>84.0</td>\n",
       "      <td>1991</td>\n",
       "      <td>Animation, Family, Fantasy, Musical, Romance</td>\n",
       "      <td>471957.0</td>\n",
       "      <td>1991-09-29</td>\n",
       "      <td>Kirk Wise, Gary Trousdale</td>\n",
       "      <td>4</td>\n",
       "    </tr>\n",
       "    <tr>\n",
       "      <th>2</th>\n",
       "      <td>tt1029231</td>\n",
       "      <td>6</td>\n",
       "      <td>2014-05-25</td>\n",
       "      <td>Krrish 3 (2013)</td>\n",
       "      <td>https://www.imdb.com/title/tt1029231/</td>\n",
       "      <td>movie</td>\n",
       "      <td>5.3</td>\n",
       "      <td>152.0</td>\n",
       "      <td>2013</td>\n",
       "      <td>Action, Adventure, Sci-Fi</td>\n",
       "      <td>24624.0</td>\n",
       "      <td>2013-10-31</td>\n",
       "      <td>Rakesh Roshan</td>\n",
       "      <td>3</td>\n",
       "    </tr>\n",
       "    <tr>\n",
       "      <th>3</th>\n",
       "      <td>tt0103064</td>\n",
       "      <td>9</td>\n",
       "      <td>2013-05-21</td>\n",
       "      <td>Terminator 2: Judgment Day (1991)</td>\n",
       "      <td>https://www.imdb.com/title/tt0103064/</td>\n",
       "      <td>movie</td>\n",
       "      <td>8.6</td>\n",
       "      <td>137.0</td>\n",
       "      <td>1991</td>\n",
       "      <td>Action, Sci-Fi</td>\n",
       "      <td>1147386.0</td>\n",
       "      <td>1991-07-01</td>\n",
       "      <td>James Cameron</td>\n",
       "      <td>4</td>\n",
       "    </tr>\n",
       "    <tr>\n",
       "      <th>4</th>\n",
       "      <td>tt1037705</td>\n",
       "      <td>8</td>\n",
       "      <td>2020-11-01</td>\n",
       "      <td>The Book of Eli (2010)</td>\n",
       "      <td>https://www.imdb.com/title/tt1037705/</td>\n",
       "      <td>movie</td>\n",
       "      <td>6.8</td>\n",
       "      <td>118.0</td>\n",
       "      <td>2010</td>\n",
       "      <td>Action, Adventure, Drama, Thriller</td>\n",
       "      <td>332877.0</td>\n",
       "      <td>2010-01-11</td>\n",
       "      <td>Allen Hughes, Albert Hughes</td>\n",
       "      <td>4</td>\n",
       "    </tr>\n",
       "  </tbody>\n",
       "</table>\n",
       "</div>"
      ],
      "text/plain": [
       "       const  your rating  date rated                              title   \n",
       "0  tt1001526            9  2013-02-22                    Megamind (2010)  \\\n",
       "1  tt0101414            9  2013-06-01        Beauty and the Beast (1991)   \n",
       "2  tt1029231            6  2014-05-25                    Krrish 3 (2013)   \n",
       "3  tt0103064            9  2013-05-21  Terminator 2: Judgment Day (1991)   \n",
       "4  tt1037705            8  2020-11-01             The Book of Eli (2010)   \n",
       "\n",
       "                                     url title type  imdb rating   \n",
       "0  https://www.imdb.com/title/tt1001526/      movie          7.3  \\\n",
       "1  https://www.imdb.com/title/tt0101414/      movie          8.0   \n",
       "2  https://www.imdb.com/title/tt1029231/      movie          5.3   \n",
       "3  https://www.imdb.com/title/tt0103064/      movie          8.6   \n",
       "4  https://www.imdb.com/title/tt1037705/      movie          6.8   \n",
       "\n",
       "   runtime (mins)  year                                             genres   \n",
       "0            95.0  2010  Animation, Action, Comedy, Crime, Family, Myst...  \\\n",
       "1            84.0  1991       Animation, Family, Fantasy, Musical, Romance   \n",
       "2           152.0  2013                          Action, Adventure, Sci-Fi   \n",
       "3           137.0  1991                                     Action, Sci-Fi   \n",
       "4           118.0  2010                 Action, Adventure, Drama, Thriller   \n",
       "\n",
       "   num votes release date                    directors  rating  \n",
       "0   285237.0   2010-10-28                  Tom McGrath       4  \n",
       "1   471957.0   1991-09-29    Kirk Wise, Gary Trousdale       4  \n",
       "2    24624.0   2013-10-31                Rakesh Roshan       3  \n",
       "3  1147386.0   1991-07-01                James Cameron       4  \n",
       "4   332877.0   2010-01-11  Allen Hughes, Albert Hughes       4  "
      ]
     },
     "execution_count": 9,
     "metadata": {},
     "output_type": "execute_result"
    }
   ],
   "source": [
    "my_ratings_df['rating'] = (my_ratings_df['your rating'] / 2).astype(int)\n",
    "my_ratings_df.head()"
   ]
  },
  {
   "cell_type": "markdown",
   "metadata": {},
   "source": [
    "keeping only the titles that are in both IMDb ratings and movielense movies"
   ]
  },
  {
   "cell_type": "code",
   "execution_count": 10,
   "metadata": {},
   "outputs": [
    {
     "name": "stdout",
     "output_type": "stream",
     "text": [
      "(298, 3)\n"
     ]
    },
    {
     "data": {
      "text/html": [
       "<div>\n",
       "<style scoped>\n",
       "    .dataframe tbody tr th:only-of-type {\n",
       "        vertical-align: middle;\n",
       "    }\n",
       "\n",
       "    .dataframe tbody tr th {\n",
       "        vertical-align: top;\n",
       "    }\n",
       "\n",
       "    .dataframe thead th {\n",
       "        text-align: right;\n",
       "    }\n",
       "</style>\n",
       "<table border=\"1\" class=\"dataframe\">\n",
       "  <thead>\n",
       "    <tr style=\"text-align: right;\">\n",
       "      <th></th>\n",
       "      <th>userId</th>\n",
       "      <th>movieId</th>\n",
       "      <th>rating</th>\n",
       "    </tr>\n",
       "  </thead>\n",
       "  <tbody>\n",
       "    <tr>\n",
       "      <th>0</th>\n",
       "      <td>611</td>\n",
       "      <td>81564</td>\n",
       "      <td>4</td>\n",
       "    </tr>\n",
       "    <tr>\n",
       "      <th>1</th>\n",
       "      <td>611</td>\n",
       "      <td>595</td>\n",
       "      <td>4</td>\n",
       "    </tr>\n",
       "    <tr>\n",
       "      <th>2</th>\n",
       "      <td>611</td>\n",
       "      <td>589</td>\n",
       "      <td>4</td>\n",
       "    </tr>\n",
       "    <tr>\n",
       "      <th>3</th>\n",
       "      <td>611</td>\n",
       "      <td>97921</td>\n",
       "      <td>4</td>\n",
       "    </tr>\n",
       "    <tr>\n",
       "      <th>4</th>\n",
       "      <td>611</td>\n",
       "      <td>68954</td>\n",
       "      <td>4</td>\n",
       "    </tr>\n",
       "  </tbody>\n",
       "</table>\n",
       "</div>"
      ],
      "text/plain": [
       "   userId  movieId  rating\n",
       "0     611    81564       4\n",
       "1     611      595       4\n",
       "2     611      589       4\n",
       "3     611    97921       4\n",
       "4     611    68954       4"
      ]
     },
     "execution_count": 10,
     "metadata": {},
     "output_type": "execute_result"
    }
   ],
   "source": [
    "my_ratings_df['userId'] = my_user_id\n",
    "\n",
    "my_ratings_df['title'] = my_ratings_df['title'].str.strip()\n",
    "movies_df['title'] = movies_df['title'].str.strip()\n",
    "\n",
    "my_ratings_df_cropped = my_ratings_df[['title', 'rating', 'userId']].merge(movies_df[['movieId', 'title']], on='title')\n",
    "\n",
    "# reordering columns to match the ratings_df\n",
    "my_ratings_df_cropped = my_ratings_df_cropped[['userId', 'movieId', 'rating']]\n",
    "\n",
    "print(my_ratings_df_cropped.shape)\n",
    "my_ratings_df_cropped.head()"
   ]
  },
  {
   "cell_type": "code",
   "execution_count": 11,
   "metadata": {},
   "outputs": [
    {
     "name": "stdout",
     "output_type": "stream",
     "text": [
      "(101134, 4)\n"
     ]
    },
    {
     "data": {
      "text/html": [
       "<div>\n",
       "<style scoped>\n",
       "    .dataframe tbody tr th:only-of-type {\n",
       "        vertical-align: middle;\n",
       "    }\n",
       "\n",
       "    .dataframe tbody tr th {\n",
       "        vertical-align: top;\n",
       "    }\n",
       "\n",
       "    .dataframe thead th {\n",
       "        text-align: right;\n",
       "    }\n",
       "</style>\n",
       "<table border=\"1\" class=\"dataframe\">\n",
       "  <thead>\n",
       "    <tr style=\"text-align: right;\">\n",
       "      <th></th>\n",
       "      <th>userId</th>\n",
       "      <th>movieId</th>\n",
       "      <th>rating</th>\n",
       "      <th>timestamp</th>\n",
       "    </tr>\n",
       "  </thead>\n",
       "  <tbody>\n",
       "    <tr>\n",
       "      <th>293</th>\n",
       "      <td>611</td>\n",
       "      <td>90866</td>\n",
       "      <td>4.0</td>\n",
       "      <td>NaN</td>\n",
       "    </tr>\n",
       "    <tr>\n",
       "      <th>294</th>\n",
       "      <td>611</td>\n",
       "      <td>1291</td>\n",
       "      <td>3.0</td>\n",
       "      <td>NaN</td>\n",
       "    </tr>\n",
       "    <tr>\n",
       "      <th>295</th>\n",
       "      <td>611</td>\n",
       "      <td>2012</td>\n",
       "      <td>4.0</td>\n",
       "      <td>NaN</td>\n",
       "    </tr>\n",
       "    <tr>\n",
       "      <th>296</th>\n",
       "      <td>611</td>\n",
       "      <td>1213</td>\n",
       "      <td>4.0</td>\n",
       "      <td>NaN</td>\n",
       "    </tr>\n",
       "    <tr>\n",
       "      <th>297</th>\n",
       "      <td>611</td>\n",
       "      <td>586</td>\n",
       "      <td>4.0</td>\n",
       "      <td>NaN</td>\n",
       "    </tr>\n",
       "  </tbody>\n",
       "</table>\n",
       "</div>"
      ],
      "text/plain": [
       "     userId  movieId  rating  timestamp\n",
       "293     611    90866     4.0        NaN\n",
       "294     611     1291     3.0        NaN\n",
       "295     611     2012     4.0        NaN\n",
       "296     611     1213     4.0        NaN\n",
       "297     611      586     4.0        NaN"
      ]
     },
     "execution_count": 11,
     "metadata": {},
     "output_type": "execute_result"
    }
   ],
   "source": [
    "ratings_final_df = pd.concat([ratings_df, my_ratings_df_cropped])\n",
    "print(ratings_final_df.shape)\n",
    "ratings_final_df.tail()"
   ]
  },
  {
   "cell_type": "markdown",
   "metadata": {},
   "source": [
    "## Preprocessing data"
   ]
  },
  {
   "cell_type": "markdown",
   "metadata": {},
   "source": [
    "### Feature generation"
   ]
  },
  {
   "cell_type": "markdown",
   "metadata": {},
   "source": [
    "#### For movies from genres"
   ]
  },
  {
   "cell_type": "code",
   "execution_count": 12,
   "metadata": {},
   "outputs": [
    {
     "name": "stdout",
     "output_type": "stream",
     "text": [
      "torch.Size([9742, 20])\n"
     ]
    },
    {
     "data": {
      "text/plain": [
       "tensor([[0., 0., 1.,  ..., 0., 0., 0.],\n",
       "        [0., 0., 1.,  ..., 0., 0., 0.],\n",
       "        [0., 0., 0.,  ..., 0., 0., 0.],\n",
       "        ...,\n",
       "        [0., 0., 0.,  ..., 0., 0., 0.],\n",
       "        [0., 1., 0.,  ..., 0., 0., 0.],\n",
       "        [0., 0., 0.,  ..., 0., 0., 0.]])"
      ]
     },
     "execution_count": 12,
     "metadata": {},
     "output_type": "execute_result"
    }
   ],
   "source": [
    "movie_genres_one_hot = movies_df['genres'].str.get_dummies('|').values\n",
    "movie_genres_one_hot = torch.from_numpy(movie_genres_one_hot).to(torch.float)\n",
    "print(movie_genres_one_hot.shape)\n",
    "movie_genres_one_hot"
   ]
  },
  {
   "cell_type": "markdown",
   "metadata": {},
   "source": [
    "#### For movies from titles using `sentence-transformers`"
   ]
  },
  {
   "cell_type": "code",
   "execution_count": 13,
   "metadata": {},
   "outputs": [
    {
     "data": {
      "text/plain": [
       "SentenceTransformer(\n",
       "  (0): Transformer({'max_seq_length': 256, 'do_lower_case': False}) with Transformer model: BertModel \n",
       "  (1): Pooling({'word_embedding_dimension': 384, 'pooling_mode_cls_token': False, 'pooling_mode_mean_tokens': True, 'pooling_mode_max_tokens': False, 'pooling_mode_mean_sqrt_len_tokens': False})\n",
       "  (2): Normalize()\n",
       ")"
      ]
     },
     "execution_count": 13,
     "metadata": {},
     "output_type": "execute_result"
    }
   ],
   "source": [
    "sentence_encoder = SentenceTransformer('all-MiniLM-L6-v2')\n",
    "sentence_encoder"
   ]
  },
  {
   "cell_type": "code",
   "execution_count": 14,
   "metadata": {},
   "outputs": [
    {
     "data": {
      "application/vnd.jupyter.widget-view+json": {
       "model_id": "6638593162854048bf4f022099c316bf",
       "version_major": 2,
       "version_minor": 0
      },
      "text/plain": [
       "Batches:   0%|          | 0/305 [00:00<?, ?it/s]"
      ]
     },
     "metadata": {},
     "output_type": "display_data"
    },
    {
     "name": "stdout",
     "output_type": "stream",
     "text": [
      "torch.Size([9742, 384])\n"
     ]
    },
    {
     "data": {
      "text/plain": [
       "tensor([[-0.0828,  0.0530,  0.0536,  ...,  0.0226,  0.0538,  0.1030],\n",
       "        [-0.1053,  0.1508, -0.0264,  ...,  0.0106, -0.0726,  0.0086],\n",
       "        [-0.0988,  0.0176, -0.0527,  ..., -0.0120,  0.0303,  0.0004],\n",
       "        ...,\n",
       "        [-0.1115,  0.0310, -0.0177,  ...,  0.0147,  0.0299,  0.0200],\n",
       "        [ 0.0366,  0.0137,  0.0315,  ..., -0.0516, -0.0143,  0.1012],\n",
       "        [-0.0500, -0.0141, -0.0031,  ...,  0.0320,  0.0546, -0.0271]])"
      ]
     },
     "execution_count": 14,
     "metadata": {},
     "output_type": "execute_result"
    }
   ],
   "source": [
    "with torch.no_grad():\n",
    "    movie_titles_embeddings = sentence_encoder.encode(movies_df['title'].tolist(), convert_to_tensor=True, show_progress_bar=True)\n",
    "    movie_titles_embeddings = movie_titles_embeddings.to(torch.float).cpu()\n",
    "\n",
    "print(movie_titles_embeddings.shape)\n",
    "movie_titles_embeddings"
   ]
  },
  {
   "cell_type": "code",
   "execution_count": 15,
   "metadata": {},
   "outputs": [
    {
     "name": "stdout",
     "output_type": "stream",
     "text": [
      "torch.Size([9742, 404])\n"
     ]
    },
    {
     "data": {
      "text/plain": [
       "tensor([[ 0.0000e+00,  0.0000e+00,  1.0000e+00,  ...,  2.2616e-02,\n",
       "          5.3814e-02,  1.0297e-01],\n",
       "        [ 0.0000e+00,  0.0000e+00,  1.0000e+00,  ...,  1.0561e-02,\n",
       "         -7.2631e-02,  8.6104e-03],\n",
       "        [ 0.0000e+00,  0.0000e+00,  0.0000e+00,  ..., -1.2006e-02,\n",
       "          3.0255e-02,  4.1660e-04],\n",
       "        ...,\n",
       "        [ 0.0000e+00,  0.0000e+00,  0.0000e+00,  ...,  1.4684e-02,\n",
       "          2.9905e-02,  2.0007e-02],\n",
       "        [ 0.0000e+00,  1.0000e+00,  0.0000e+00,  ..., -5.1593e-02,\n",
       "         -1.4267e-02,  1.0123e-01],\n",
       "        [ 0.0000e+00,  0.0000e+00,  0.0000e+00,  ...,  3.1982e-02,\n",
       "          5.4629e-02, -2.7146e-02]])"
      ]
     },
     "execution_count": 15,
     "metadata": {},
     "output_type": "execute_result"
    }
   ],
   "source": [
    "movie_features = torch.cat([\n",
    "    movie_genres_one_hot, \n",
    "    movie_titles_embeddings\n",
    "], dim=-1)\n",
    "print(movie_features.shape)\n",
    "movie_features"
   ]
  },
  {
   "cell_type": "markdown",
   "metadata": {},
   "source": [
    "#### For user (identity matrix)"
   ]
  },
  {
   "cell_type": "code",
   "execution_count": 16,
   "metadata": {},
   "outputs": [
    {
     "name": "stdout",
     "output_type": "stream",
     "text": [
      "torch.Size([611, 611])\n"
     ]
    },
    {
     "data": {
      "text/plain": [
       "tensor([[1., 0., 0.,  ..., 0., 0., 0.],\n",
       "        [0., 1., 0.,  ..., 0., 0., 0.],\n",
       "        [0., 0., 1.,  ..., 0., 0., 0.],\n",
       "        ...,\n",
       "        [0., 0., 0.,  ..., 1., 0., 0.],\n",
       "        [0., 0., 0.,  ..., 0., 1., 0.],\n",
       "        [0., 0., 0.,  ..., 0., 0., 1.]])"
      ]
     },
     "execution_count": 16,
     "metadata": {},
     "output_type": "execute_result"
    }
   ],
   "source": [
    "user_features = torch.eye(ratings_final_df['userId'].nunique()) # as we do not have any user features, we will use the identity matrix\n",
    "print(user_features.shape)\n",
    "user_features"
   ]
  },
  {
   "cell_type": "markdown",
   "metadata": {},
   "source": [
    "### Edge generation"
   ]
  },
  {
   "cell_type": "code",
   "execution_count": 17,
   "metadata": {},
   "outputs": [],
   "source": [
    "def generate_edges(movies_df: pd.DataFrame, ratings_df: pd.DataFrame) -> tuple[torch.Tensor, torch.Tensor, np.ndarray, np.ndarray]:\n",
    "    \n",
    "    # creating movies id to index mapping\n",
    "    unique_movie_ids = movies_df['movieId'].unique()\n",
    "    movie_ids_to_idx_df = pd.DataFrame({\n",
    "        'movieId': unique_movie_ids,\n",
    "        'movie_idx': np.arange(len(unique_movie_ids))\n",
    "    })\n",
    "    \n",
    "    # creating users id to index mapping\n",
    "    unique_user_ids = ratings_df['userId'].unique()\n",
    "    user_ids_to_idx_df = pd.DataFrame({\n",
    "        'userId': unique_user_ids,\n",
    "        'user_idx': np.arange(len(unique_user_ids))\n",
    "    })\n",
    "    \n",
    "    # generating user to movie edges\n",
    "    user_rates_movies = pd.merge( # edges\n",
    "        left = pd.merge(\n",
    "            left = ratings_df,\n",
    "            right = user_ids_to_idx_df,\n",
    "            on = 'userId',\n",
    "            how = 'left'\n",
    "        ),\n",
    "        right = movie_ids_to_idx_df,\n",
    "        on = 'movieId',\n",
    "        how = 'left'\n",
    "    ).loc[:, ['user_idx', 'movie_idx']].values\n",
    "\n",
    "    ratings = ratings_df['rating'].values\n",
    "    \n",
    "    edge_index = torch.from_numpy(user_rates_movies).to(torch.long).t().contiguous()\n",
    "    edge_labels = torch.from_numpy(ratings).to(torch.float)\n",
    "    \n",
    "    return edge_index, edge_labels, unique_user_ids, unique_movie_ids\n"
   ]
  },
  {
   "cell_type": "code",
   "execution_count": 18,
   "metadata": {},
   "outputs": [
    {
     "name": "stdout",
     "output_type": "stream",
     "text": [
      "torch.Size([2, 101134])\n"
     ]
    },
    {
     "data": {
      "text/plain": [
       "tensor([[   0,    0,    0,  ...,  610,  610,  610],\n",
       "        [   0,    2,    5,  ..., 1487,  914,  504]])"
      ]
     },
     "execution_count": 18,
     "metadata": {},
     "output_type": "execute_result"
    }
   ],
   "source": [
    "edge_index, edge_labels, _, _ = generate_edges(movies_df, ratings_final_df)\n",
    "print(edge_index.shape)\n",
    "edge_index"
   ]
  },
  {
   "cell_type": "code",
   "execution_count": 19,
   "metadata": {},
   "outputs": [
    {
     "name": "stdout",
     "output_type": "stream",
     "text": [
      "torch.Size([101134])\n"
     ]
    },
    {
     "data": {
      "text/plain": [
       "tensor([4., 4., 4.,  ..., 4., 4., 4.])"
      ]
     },
     "execution_count": 19,
     "metadata": {},
     "output_type": "execute_result"
    }
   ],
   "source": [
    "print(edge_labels.shape)\n",
    "edge_labels"
   ]
  },
  {
   "cell_type": "markdown",
   "metadata": {},
   "source": [
    "### Graph building"
   ]
  },
  {
   "cell_type": "code",
   "execution_count": 20,
   "metadata": {},
   "outputs": [],
   "source": [
    "def build_graph(user_feats: torch.Tensor, movie_feats: torch.Tensor, edge_index: torch.Tensor, edge_labels: torch.Tensor) -> HeteroData:\n",
    "    graph = HeteroData()\n",
    "\n",
    "    graph['user'].x = user_feats\n",
    "    graph['movie'].x = movie_feats\n",
    "\n",
    "\n",
    "    graph['user', 'rates', 'movie'].edge_index = edge_index\n",
    "    graph['user', 'rates', 'movie'].edge_label = edge_labels\n",
    "\n",
    "    graph = T.ToUndirected()(graph)\n",
    "\n",
    "    del graph['movie', 'rev_rates', 'user'].edge_label # we do not need reverse edges labels\n",
    "\n",
    "    return graph\n"
   ]
  },
  {
   "cell_type": "code",
   "execution_count": 21,
   "metadata": {},
   "outputs": [
    {
     "data": {
      "text/plain": [
       "HeteroData(\n",
       "  user={ x=[611, 611] },\n",
       "  movie={ x=[9742, 404] },\n",
       "  (user, rates, movie)={\n",
       "    edge_index=[2, 101134],\n",
       "    edge_label=[101134],\n",
       "  },\n",
       "  (movie, rev_rates, user)={ edge_index=[2, 101134] }\n",
       ")"
      ]
     },
     "execution_count": 21,
     "metadata": {},
     "output_type": "execute_result"
    }
   ],
   "source": [
    "data = build_graph(user_features, movie_features, edge_index, edge_labels)\n",
    "data"
   ]
  },
  {
   "cell_type": "markdown",
   "metadata": {},
   "source": [
    "### Dataset splitting"
   ]
  },
  {
   "cell_type": "code",
   "execution_count": 22,
   "metadata": {},
   "outputs": [],
   "source": [
    "transform = T.RandomLinkSplit(\n",
    "    num_val=0.1,\n",
    "    num_test=0.1,\n",
    "    neg_sampling_ratio=0.0, # not now, will generate them on the fly later\n",
    "    # disjoint_train_ratio=0.3,\n",
    "    edge_types = [('user', 'rates', 'movie')],\n",
    "    rev_edge_types = [('movie', 'rev_rates', 'user')] \n",
    ")"
   ]
  },
  {
   "cell_type": "code",
   "execution_count": 23,
   "metadata": {},
   "outputs": [
    {
     "data": {
      "text/plain": [
       "(HeteroData(\n",
       "   user={ x=[611, 611] },\n",
       "   movie={ x=[9742, 404] },\n",
       "   (user, rates, movie)={\n",
       "     edge_index=[2, 80908],\n",
       "     edge_label=[80908],\n",
       "     edge_label_index=[2, 80908],\n",
       "   },\n",
       "   (movie, rev_rates, user)={ edge_index=[2, 80908] }\n",
       " ),\n",
       " HeteroData(\n",
       "   user={ x=[611, 611] },\n",
       "   movie={ x=[9742, 404] },\n",
       "   (user, rates, movie)={\n",
       "     edge_index=[2, 80908],\n",
       "     edge_label=[10113],\n",
       "     edge_label_index=[2, 10113],\n",
       "   },\n",
       "   (movie, rev_rates, user)={ edge_index=[2, 80908] }\n",
       " ),\n",
       " HeteroData(\n",
       "   user={ x=[611, 611] },\n",
       "   movie={ x=[9742, 404] },\n",
       "   (user, rates, movie)={\n",
       "     edge_index=[2, 91021],\n",
       "     edge_label=[10113],\n",
       "     edge_label_index=[2, 10113],\n",
       "   },\n",
       "   (movie, rev_rates, user)={ edge_index=[2, 91021] }\n",
       " ))"
      ]
     },
     "execution_count": 23,
     "metadata": {},
     "output_type": "execute_result"
    }
   ],
   "source": [
    "train_data, val_data, test_data = transform(data)\n",
    "train_data, val_data, test_data"
   ]
  },
  {
   "cell_type": "markdown",
   "metadata": {},
   "source": [
    "## Model"
   ]
  },
  {
   "cell_type": "markdown",
   "metadata": {},
   "source": [
    "### Encoder"
   ]
  },
  {
   "cell_type": "code",
   "execution_count": 24,
   "metadata": {},
   "outputs": [],
   "source": [
    "class GNNEncoder(torch.nn.Module):\n",
    "    def __init__(self, hidden_channels: int, out_channels: int):\n",
    "        super().__init__()\n",
    "        \n",
    "        # self.conv = torch.nn.ModuleList()\n",
    "        # self.conv.append(SAGEConv((-1, -1), hidden_channels))\n",
    "        \n",
    "        # for i in range(num_layers - 1):\n",
    "        #     self.conv.append(SAGEConv(hidden_channels, hidden_channels))\n",
    "\n",
    "        self.conv1 = SAGEConv((-1, -1), hidden_channels)\n",
    "        self.conv2 = SAGEConv(hidden_channels, out_channels)\n",
    "\n",
    "    \n",
    "    def forward(self, x: torch.Tensor, edge_index: torch.Tensor) -> torch.Tensor:\n",
    "        x = self.conv1(x, edge_index).relu()\n",
    "        x = self.conv2(x, edge_index)\n",
    "        return x"
   ]
  },
  {
   "cell_type": "markdown",
   "metadata": {},
   "source": [
    "### Decoder"
   ]
  },
  {
   "cell_type": "code",
   "execution_count": 25,
   "metadata": {},
   "outputs": [],
   "source": [
    "class EdgeDecoder(torch.nn.Module):\n",
    "    def __init__(self, input_channels: int):\n",
    "        super().__init__()\n",
    "        self.lin1 = torch.nn.Linear(2 * input_channels, input_channels) # 2 * input_channels because we are concatenating user and movie embeddings\n",
    "        self.lin2 = torch.nn.Linear(input_channels, 1)\n",
    "\n",
    "    def forward(self, z_dict: dict[str, torch.Tensor], edge_label_index: torch.Tensor) -> torch.Tensor:\n",
    "        z: torch.Tensor = torch.cat([\n",
    "            z_dict['user'][edge_label_index[0]], \n",
    "            z_dict['movie'][edge_label_index[1]]\n",
    "        ], dim=-1) # concatenating user and movie embeddings, only the ones that are in the edge_label_index (supervised edges)\n",
    "\n",
    "        z = self.lin1(z).relu()\n",
    "        z = self.lin2(z)\n",
    "        return z.view(-1)\n"
   ]
  },
  {
   "cell_type": "markdown",
   "metadata": {},
   "source": [
    "### Model"
   ]
  },
  {
   "cell_type": "code",
   "execution_count": 26,
   "metadata": {},
   "outputs": [],
   "source": [
    "class Model(torch.nn.Module):\n",
    "    def __init__(self, hidden_channels: int, out_channels: int):\n",
    "        super().__init__()\n",
    "\n",
    "        self.encoder = GNNEncoder(hidden_channels, out_channels)\n",
    "        self.encoder = to_hetero(self.encoder, data.metadata())\n",
    "        \n",
    "        self.decoder = EdgeDecoder(out_channels)\n",
    "\n",
    "    def forward(self, x_dict: dict[str, torch.Tensor], edge_index_dict: torch.Tensor, edge_label_index: torch.Tensor) -> torch.Tensor:\n",
    "        z_dict = self.encoder(x_dict, edge_index_dict) ## message passing using edge_index\n",
    "        return self.decoder(z_dict, edge_label_index) ## prediction for the edges in edge_label_index"
   ]
  },
  {
   "cell_type": "markdown",
   "metadata": {},
   "source": [
    "## Trainning"
   ]
  },
  {
   "cell_type": "code",
   "execution_count": 27,
   "metadata": {},
   "outputs": [
    {
     "data": {
      "text/plain": [
       "device(type='cuda')"
      ]
     },
     "execution_count": 27,
     "metadata": {},
     "output_type": "execute_result"
    }
   ],
   "source": [
    "device = torch.device('cuda' if torch.cuda.is_available() else 'cpu')\n",
    "device"
   ]
  },
  {
   "cell_type": "code",
   "execution_count": 28,
   "metadata": {},
   "outputs": [
    {
     "data": {
      "text/plain": [
       "Model(\n",
       "  (encoder): GraphModule(\n",
       "    (conv1): ModuleDict(\n",
       "      (user__rates__movie): SAGEConv((-1, -1), 64, aggr=mean)\n",
       "      (movie__rev_rates__user): SAGEConv((-1, -1), 64, aggr=mean)\n",
       "    )\n",
       "    (conv2): ModuleDict(\n",
       "      (user__rates__movie): SAGEConv(64, 32, aggr=mean)\n",
       "      (movie__rev_rates__user): SAGEConv(64, 32, aggr=mean)\n",
       "    )\n",
       "  )\n",
       "  (decoder): EdgeDecoder(\n",
       "    (lin1): Linear(in_features=64, out_features=32, bias=True)\n",
       "    (lin2): Linear(in_features=32, out_features=1, bias=True)\n",
       "  )\n",
       ")"
      ]
     },
     "execution_count": 28,
     "metadata": {},
     "output_type": "execute_result"
    }
   ],
   "source": [
    "model = Model(64, 32).to(device)\n",
    "model"
   ]
  },
  {
   "cell_type": "code",
   "execution_count": 29,
   "metadata": {},
   "outputs": [
    {
     "data": {
      "text/plain": [
       "Adam (\n",
       "Parameter Group 0\n",
       "    amsgrad: False\n",
       "    betas: (0.9, 0.999)\n",
       "    capturable: False\n",
       "    differentiable: False\n",
       "    eps: 1e-08\n",
       "    foreach: None\n",
       "    fused: None\n",
       "    lr: 0.01\n",
       "    maximize: False\n",
       "    weight_decay: 0\n",
       ")"
      ]
     },
     "execution_count": 29,
     "metadata": {},
     "output_type": "execute_result"
    }
   ],
   "source": [
    "optimizer = torch.optim.Adam(model.parameters(), lr=0.01)\n",
    "optimizer"
   ]
  },
  {
   "cell_type": "code",
   "execution_count": 30,
   "metadata": {},
   "outputs": [],
   "source": [
    "def train(data: HeteroData):\n",
    "    data = data.to(device)\n",
    "    \n",
    "    model.train()\n",
    "    optimizer.zero_grad()\n",
    "\n",
    "    pred = model(\n",
    "        data.x_dict,\n",
    "        data.edge_index_dict, # for message passing\n",
    "        data.edge_label_index_dict[\"user\", \"rates\", \"movie\"] # for edge prediction\n",
    "        # for message passing we're using edges from both directions, but for edge prediction we're only using edges from one direction (user -> movie)\n",
    "    )\n",
    "\n",
    "    target = data['user', 'movie'].edge_label\n",
    "    loss = F.mse_loss(pred, target)\n",
    "    loss.backward()\n",
    "    optimizer.step()\n",
    "\n",
    "    return loss.item()"
   ]
  },
  {
   "cell_type": "markdown",
   "metadata": {},
   "source": [
    "#### Some notes and explorations"
   ]
  },
  {
   "cell_type": "code",
   "execution_count": 31,
   "metadata": {},
   "outputs": [
    {
     "data": {
      "text/plain": [
       "{'user': tensor([[1., 0., 0.,  ..., 0., 0., 0.],\n",
       "         [0., 1., 0.,  ..., 0., 0., 0.],\n",
       "         [0., 0., 1.,  ..., 0., 0., 0.],\n",
       "         ...,\n",
       "         [0., 0., 0.,  ..., 1., 0., 0.],\n",
       "         [0., 0., 0.,  ..., 0., 1., 0.],\n",
       "         [0., 0., 0.,  ..., 0., 0., 1.]]),\n",
       " 'movie': tensor([[ 0.0000e+00,  0.0000e+00,  1.0000e+00,  ...,  2.2616e-02,\n",
       "           5.3814e-02,  1.0297e-01],\n",
       "         [ 0.0000e+00,  0.0000e+00,  1.0000e+00,  ...,  1.0561e-02,\n",
       "          -7.2631e-02,  8.6104e-03],\n",
       "         [ 0.0000e+00,  0.0000e+00,  0.0000e+00,  ..., -1.2006e-02,\n",
       "           3.0255e-02,  4.1660e-04],\n",
       "         ...,\n",
       "         [ 0.0000e+00,  0.0000e+00,  0.0000e+00,  ...,  1.4684e-02,\n",
       "           2.9905e-02,  2.0007e-02],\n",
       "         [ 0.0000e+00,  1.0000e+00,  0.0000e+00,  ..., -5.1593e-02,\n",
       "          -1.4267e-02,  1.0123e-01],\n",
       "         [ 0.0000e+00,  0.0000e+00,  0.0000e+00,  ...,  3.1982e-02,\n",
       "           5.4629e-02, -2.7146e-02]])}"
      ]
     },
     "execution_count": 31,
     "metadata": {},
     "output_type": "execute_result"
    }
   ],
   "source": [
    "data.x_dict"
   ]
  },
  {
   "cell_type": "code",
   "execution_count": 32,
   "metadata": {},
   "outputs": [
    {
     "data": {
      "text/plain": [
       "{('user',\n",
       "  'rates',\n",
       "  'movie'): tensor([[   0,    0,    0,  ...,  610,  610,  610],\n",
       "         [   0,    2,    5,  ..., 1487,  914,  504]]),\n",
       " ('movie',\n",
       "  'rev_rates',\n",
       "  'user'): tensor([[   0,    2,    5,  ..., 1487,  914,  504],\n",
       "         [   0,    0,    0,  ...,  610,  610,  610]])}"
      ]
     },
     "execution_count": 32,
     "metadata": {},
     "output_type": "execute_result"
    }
   ],
   "source": [
    "data.edge_index_dict"
   ]
  },
  {
   "cell_type": "code",
   "execution_count": 33,
   "metadata": {},
   "outputs": [
    {
     "data": {
      "text/plain": [
       "tensor(True)"
      ]
     },
     "execution_count": 33,
     "metadata": {},
     "output_type": "execute_result"
    }
   ],
   "source": [
    "(data['user', 'movie'].edge_label == data['user', 'rates', 'movie'].edge_label).all()"
   ]
  },
  {
   "cell_type": "code",
   "execution_count": 34,
   "metadata": {},
   "outputs": [
    {
     "data": {
      "text/plain": [
       "tensor(True)"
      ]
     },
     "execution_count": 34,
     "metadata": {},
     "output_type": "execute_result"
    }
   ],
   "source": [
    "(data.edge_label_dict['user', 'rates', 'movie'] == data['user', 'movie'].edge_label).all()\n",
    "# however data.edge_label_dict['user', 'movie'] will not work\n",
    "# on `*_dict` we need the full 'identifier'"
   ]
  },
  {
   "cell_type": "code",
   "execution_count": 35,
   "metadata": {},
   "outputs": [
    {
     "data": {
      "text/plain": [
       "{('user',\n",
       "  'rates',\n",
       "  'movie'): tensor([[ 350,  434,  329,  ...,  367,   14,  103],\n",
       "         [6387, 7483, 3574,  ..., 2849,  220, 3583]])}"
      ]
     },
     "execution_count": 35,
     "metadata": {},
     "output_type": "execute_result"
    }
   ],
   "source": [
    "train_data.edge_label_index_dict # from the looks of it, `*_dict` is generated from on the fly in `HeeroData` instances\n",
    "# for example from all the `x`, `x_dict` is generated\n",
    "# our `data` does not have any `edge_label_index`. so there's no `edge_label_index_dict` on `data`\n",
    "# however T.RandomLinkSplit generates `edge_label_index` and as a result we can get `edge_label_index_dict` for `train_data`, `val_data` and `test_data`"
   ]
  },
  {
   "cell_type": "code",
   "execution_count": null,
   "metadata": {},
   "outputs": [],
   "source": []
  },
  {
   "cell_type": "markdown",
   "metadata": {},
   "source": [
    "#### Back to trainning"
   ]
  },
  {
   "cell_type": "code",
   "execution_count": 36,
   "metadata": {},
   "outputs": [],
   "source": [
    "@torch.no_grad()\n",
    "def test(data: HeteroData):\n",
    "    data = data.to(device)\n",
    "    \n",
    "    model.eval()\n",
    "    pred = model(\n",
    "        data.x_dict,\n",
    "        data.edge_index_dict, # for message passing\n",
    "        data.edge_label_index_dict[\"user\", \"rates\", \"movie\"] # for edge prediction\n",
    "    )\n",
    "\n",
    "    pred = pred.clamp(0, 5) # ratings are between 0 and 5\n",
    "    target = data['user', 'movie'].edge_label\n",
    "    \n",
    "    rmse = F.mse_loss(pred, target).sqrt()\n",
    "    return rmse.item()\n"
   ]
  },
  {
   "cell_type": "code",
   "execution_count": 37,
   "metadata": {},
   "outputs": [
    {
     "name": "stdout",
     "output_type": "stream",
     "text": [
      "Epoch: 001, Train Loss: 12.6544, Val RMSE: 3.3516\n",
      "Epoch: 002, Train Loss: 11.1626, Val RMSE: 2.9873\n",
      "Epoch: 003, Train Loss: 8.8473, Val RMSE: 2.2311\n",
      "Epoch: 004, Train Loss: 4.8993, Val RMSE: 1.1226\n",
      "Epoch: 005, Train Loss: 1.2340, Val RMSE: 1.7932\n",
      "Epoch: 006, Train Loss: 5.6613, Val RMSE: 1.6920\n",
      "Epoch: 007, Train Loss: 3.2343, Val RMSE: 1.0664\n",
      "Epoch: 008, Train Loss: 1.1544, Val RMSE: 1.2527\n",
      "Epoch: 009, Train Loss: 1.5282, Val RMSE: 1.5944\n",
      "Epoch: 010, Train Loss: 2.4816, Val RMSE: 1.7334\n",
      "Epoch: 011, Train Loss: 2.9397, Val RMSE: 1.6907\n",
      "Epoch: 012, Train Loss: 2.7955, Val RMSE: 1.5126\n",
      "Epoch: 013, Train Loss: 2.2321, Val RMSE: 1.2548\n",
      "Epoch: 014, Train Loss: 1.5337, Val RMSE: 1.0440\n",
      "Epoch: 015, Train Loss: 1.0758, Val RMSE: 1.0710\n",
      "Epoch: 016, Train Loss: 1.1696, Val RMSE: 1.2463\n",
      "Epoch: 017, Train Loss: 1.6074, Val RMSE: 1.2899\n",
      "Epoch: 018, Train Loss: 1.7238, Val RMSE: 1.1528\n",
      "Epoch: 019, Train Loss: 1.3677, Val RMSE: 1.0181\n",
      "Epoch: 020, Train Loss: 1.0443, Val RMSE: 1.0463\n",
      "Epoch: 021, Train Loss: 1.0776, Val RMSE: 1.1550\n",
      "Epoch: 022, Train Loss: 1.3033, Val RMSE: 1.2007\n",
      "Epoch: 023, Train Loss: 1.4071, Val RMSE: 1.1548\n",
      "Epoch: 024, Train Loss: 1.3020, Val RMSE: 1.0606\n",
      "Epoch: 025, Train Loss: 1.1029, Val RMSE: 0.9970\n",
      "Epoch: 026, Train Loss: 0.9871, Val RMSE: 1.0160\n",
      "Epoch: 027, Train Loss: 1.0427, Val RMSE: 1.0688\n",
      "Epoch: 028, Train Loss: 1.1650, Val RMSE: 1.0734\n",
      "Epoch: 029, Train Loss: 1.1757, Val RMSE: 1.0249\n",
      "Epoch: 030, Train Loss: 1.0637, Val RMSE: 0.9846\n",
      "Epoch: 031, Train Loss: 0.9680, Val RMSE: 0.9927\n",
      "Epoch: 032, Train Loss: 0.9712, Val RMSE: 1.0268\n",
      "Epoch: 033, Train Loss: 1.0316, Val RMSE: 1.0458\n",
      "Epoch: 034, Train Loss: 1.0675, Val RMSE: 1.0324\n",
      "Epoch: 035, Train Loss: 1.0410, Val RMSE: 0.9983\n",
      "Epoch: 036, Train Loss: 0.9769, Val RMSE: 0.9713\n",
      "Epoch: 037, Train Loss: 0.9318, Val RMSE: 0.9708\n",
      "Epoch: 038, Train Loss: 0.9398, Val RMSE: 0.9859\n",
      "Epoch: 039, Train Loss: 0.9757, Val RMSE: 0.9894\n",
      "Epoch: 040, Train Loss: 0.9838, Val RMSE: 0.9742\n",
      "Epoch: 041, Train Loss: 0.9496, Val RMSE: 0.9586\n",
      "Epoch: 042, Train Loss: 0.9119, Val RMSE: 0.9590\n",
      "Epoch: 043, Train Loss: 0.9051, Val RMSE: 0.9705\n",
      "Epoch: 044, Train Loss: 0.9219, Val RMSE: 0.9774\n",
      "Epoch: 045, Train Loss: 0.9328, Val RMSE: 0.9712\n",
      "Epoch: 046, Train Loss: 0.9213, Val RMSE: 0.9566\n",
      "Epoch: 047, Train Loss: 0.8964, Val RMSE: 0.9457\n",
      "Epoch: 048, Train Loss: 0.8804, Val RMSE: 0.9450\n",
      "Epoch: 049, Train Loss: 0.8835, Val RMSE: 0.9485\n"
     ]
    }
   ],
   "source": [
    "for epoch in range(1, 50):\n",
    "    train_data = train_data.to(device)\n",
    "    train_loss = train(train_data)\n",
    "    val_rmse = test(val_data)\n",
    "    print(f'Epoch: {epoch:03d}, Train Loss: {train_loss:.4f}, Val RMSE: {val_rmse:.4f}')"
   ]
  },
  {
   "cell_type": "markdown",
   "metadata": {},
   "source": [
    "Avg rmse after 50 epochs: 0.9538 out of 5 = 19.076% error \\"
   ]
  },
  {
   "cell_type": "markdown",
   "metadata": {},
   "source": [
    "## Evaluation"
   ]
  },
  {
   "cell_type": "code",
   "execution_count": 38,
   "metadata": {},
   "outputs": [
    {
     "name": "stdout",
     "output_type": "stream",
     "text": [
      "Test RMSE: 0.9566\n"
     ]
    },
    {
     "data": {
      "text/html": [
       "<div>\n",
       "<style scoped>\n",
       "    .dataframe tbody tr th:only-of-type {\n",
       "        vertical-align: middle;\n",
       "    }\n",
       "\n",
       "    .dataframe tbody tr th {\n",
       "        vertical-align: top;\n",
       "    }\n",
       "\n",
       "    .dataframe thead th {\n",
       "        text-align: right;\n",
       "    }\n",
       "</style>\n",
       "<table border=\"1\" class=\"dataframe\">\n",
       "  <thead>\n",
       "    <tr style=\"text-align: right;\">\n",
       "      <th></th>\n",
       "      <th>user_idx</th>\n",
       "      <th>movie_idx</th>\n",
       "      <th>pred</th>\n",
       "      <th>target</th>\n",
       "    </tr>\n",
       "  </thead>\n",
       "  <tbody>\n",
       "    <tr>\n",
       "      <th>0</th>\n",
       "      <td>461</td>\n",
       "      <td>3750</td>\n",
       "      <td>3.740891</td>\n",
       "      <td>4.5</td>\n",
       "    </tr>\n",
       "    <tr>\n",
       "      <th>1</th>\n",
       "      <td>300</td>\n",
       "      <td>3614</td>\n",
       "      <td>3.766444</td>\n",
       "      <td>4.0</td>\n",
       "    </tr>\n",
       "    <tr>\n",
       "      <th>2</th>\n",
       "      <td>588</td>\n",
       "      <td>300</td>\n",
       "      <td>3.808590</td>\n",
       "      <td>4.0</td>\n",
       "    </tr>\n",
       "    <tr>\n",
       "      <th>3</th>\n",
       "      <td>447</td>\n",
       "      <td>8434</td>\n",
       "      <td>3.123514</td>\n",
       "      <td>1.5</td>\n",
       "    </tr>\n",
       "    <tr>\n",
       "      <th>4</th>\n",
       "      <td>138</td>\n",
       "      <td>7039</td>\n",
       "      <td>3.433520</td>\n",
       "      <td>2.5</td>\n",
       "    </tr>\n",
       "    <tr>\n",
       "      <th>...</th>\n",
       "      <td>...</td>\n",
       "      <td>...</td>\n",
       "      <td>...</td>\n",
       "      <td>...</td>\n",
       "    </tr>\n",
       "    <tr>\n",
       "      <th>10108</th>\n",
       "      <td>516</td>\n",
       "      <td>792</td>\n",
       "      <td>3.357395</td>\n",
       "      <td>5.0</td>\n",
       "    </tr>\n",
       "    <tr>\n",
       "      <th>10109</th>\n",
       "      <td>508</td>\n",
       "      <td>8395</td>\n",
       "      <td>3.627212</td>\n",
       "      <td>3.5</td>\n",
       "    </tr>\n",
       "    <tr>\n",
       "      <th>10110</th>\n",
       "      <td>218</td>\n",
       "      <td>2028</td>\n",
       "      <td>3.466542</td>\n",
       "      <td>5.0</td>\n",
       "    </tr>\n",
       "    <tr>\n",
       "      <th>10111</th>\n",
       "      <td>367</td>\n",
       "      <td>2006</td>\n",
       "      <td>3.548701</td>\n",
       "      <td>3.0</td>\n",
       "    </tr>\n",
       "    <tr>\n",
       "      <th>10112</th>\n",
       "      <td>274</td>\n",
       "      <td>3344</td>\n",
       "      <td>4.054687</td>\n",
       "      <td>4.0</td>\n",
       "    </tr>\n",
       "  </tbody>\n",
       "</table>\n",
       "<p>10113 rows × 4 columns</p>\n",
       "</div>"
      ],
      "text/plain": [
       "       user_idx  movie_idx      pred  target\n",
       "0           461       3750  3.740891     4.5\n",
       "1           300       3614  3.766444     4.0\n",
       "2           588        300  3.808590     4.0\n",
       "3           447       8434  3.123514     1.5\n",
       "4           138       7039  3.433520     2.5\n",
       "...         ...        ...       ...     ...\n",
       "10108       516        792  3.357395     5.0\n",
       "10109       508       8395  3.627212     3.5\n",
       "10110       218       2028  3.466542     5.0\n",
       "10111       367       2006  3.548701     3.0\n",
       "10112       274       3344  4.054687     4.0\n",
       "\n",
       "[10113 rows x 4 columns]"
      ]
     },
     "execution_count": 38,
     "metadata": {},
     "output_type": "execute_result"
    }
   ],
   "source": [
    "with torch.no_grad():\n",
    "    test_data = test_data.to(device)\n",
    "\n",
    "    pred = model(\n",
    "        test_data.x_dict,\n",
    "        test_data.edge_index_dict, # for message passing\n",
    "        test_data['user', 'movie'].edge_label_index # for edge prediction\n",
    "    )\n",
    "\n",
    "    pred = pred.clamp(0, 5) # ratings are between 0 and 5\n",
    "\n",
    "    target = test_data['user', 'movie'].edge_label\n",
    "\n",
    "    rmse = F.mse_loss(pred, target).sqrt()\n",
    "    print(f'Test RMSE: {rmse:.4f}')\n",
    "\n",
    "userId = test_data[\"user\", \"movie\"].edge_label_index[0].cpu().numpy()\n",
    "movieId = test_data[\"user\", \"movie\"].edge_label_index[1].cpu().numpy()\n",
    "\n",
    "pred = pred.cpu().numpy()\n",
    "target = target.cpu().numpy()\n",
    "\n",
    "pred_df = pd.DataFrame({\n",
    "    'user_idx': userId,\n",
    "    'movie_idx': movieId,\n",
    "    'pred': pred,\n",
    "    'target': target\n",
    "})\n",
    "pred_df"
   ]
  },
  {
   "cell_type": "code",
   "execution_count": 39,
   "metadata": {},
   "outputs": [
    {
     "data": {
      "text/html": [
       "<div>\n",
       "<style scoped>\n",
       "    .dataframe tbody tr th:only-of-type {\n",
       "        vertical-align: middle;\n",
       "    }\n",
       "\n",
       "    .dataframe tbody tr th {\n",
       "        vertical-align: top;\n",
       "    }\n",
       "\n",
       "    .dataframe thead th {\n",
       "        text-align: right;\n",
       "    }\n",
       "</style>\n",
       "<table border=\"1\" class=\"dataframe\">\n",
       "  <thead>\n",
       "    <tr style=\"text-align: right;\">\n",
       "      <th></th>\n",
       "      <th>user_idx</th>\n",
       "      <th>movie_idx</th>\n",
       "      <th>pred</th>\n",
       "      <th>target</th>\n",
       "    </tr>\n",
       "  </thead>\n",
       "  <tbody>\n",
       "    <tr>\n",
       "      <th>266</th>\n",
       "      <td>610</td>\n",
       "      <td>8098</td>\n",
       "      <td>3.217542</td>\n",
       "      <td>3.0</td>\n",
       "    </tr>\n",
       "    <tr>\n",
       "      <th>321</th>\n",
       "      <td>610</td>\n",
       "      <td>5</td>\n",
       "      <td>3.703855</td>\n",
       "      <td>4.0</td>\n",
       "    </tr>\n",
       "    <tr>\n",
       "      <th>423</th>\n",
       "      <td>610</td>\n",
       "      <td>1231</td>\n",
       "      <td>3.644765</td>\n",
       "      <td>4.0</td>\n",
       "    </tr>\n",
       "    <tr>\n",
       "      <th>581</th>\n",
       "      <td>610</td>\n",
       "      <td>8032</td>\n",
       "      <td>3.507788</td>\n",
       "      <td>4.0</td>\n",
       "    </tr>\n",
       "    <tr>\n",
       "      <th>758</th>\n",
       "      <td>610</td>\n",
       "      <td>6631</td>\n",
       "      <td>3.535485</td>\n",
       "      <td>4.0</td>\n",
       "    </tr>\n",
       "    <tr>\n",
       "      <th>935</th>\n",
       "      <td>610</td>\n",
       "      <td>5366</td>\n",
       "      <td>3.970212</td>\n",
       "      <td>4.0</td>\n",
       "    </tr>\n",
       "    <tr>\n",
       "      <th>1289</th>\n",
       "      <td>610</td>\n",
       "      <td>8793</td>\n",
       "      <td>3.548608</td>\n",
       "      <td>3.0</td>\n",
       "    </tr>\n",
       "    <tr>\n",
       "      <th>1360</th>\n",
       "      <td>610</td>\n",
       "      <td>8144</td>\n",
       "      <td>3.293791</td>\n",
       "      <td>3.0</td>\n",
       "    </tr>\n",
       "    <tr>\n",
       "      <th>1873</th>\n",
       "      <td>610</td>\n",
       "      <td>8039</td>\n",
       "      <td>3.767250</td>\n",
       "      <td>4.0</td>\n",
       "    </tr>\n",
       "    <tr>\n",
       "      <th>1998</th>\n",
       "      <td>610</td>\n",
       "      <td>7016</td>\n",
       "      <td>3.634480</td>\n",
       "      <td>4.0</td>\n",
       "    </tr>\n",
       "    <tr>\n",
       "      <th>2270</th>\n",
       "      <td>610</td>\n",
       "      <td>8237</td>\n",
       "      <td>3.537963</td>\n",
       "      <td>3.0</td>\n",
       "    </tr>\n",
       "    <tr>\n",
       "      <th>2623</th>\n",
       "      <td>610</td>\n",
       "      <td>8257</td>\n",
       "      <td>3.513335</td>\n",
       "      <td>3.0</td>\n",
       "    </tr>\n",
       "    <tr>\n",
       "      <th>2795</th>\n",
       "      <td>610</td>\n",
       "      <td>7467</td>\n",
       "      <td>3.955127</td>\n",
       "      <td>4.0</td>\n",
       "    </tr>\n",
       "    <tr>\n",
       "      <th>3015</th>\n",
       "      <td>610</td>\n",
       "      <td>8273</td>\n",
       "      <td>3.375936</td>\n",
       "      <td>3.0</td>\n",
       "    </tr>\n",
       "    <tr>\n",
       "      <th>3246</th>\n",
       "      <td>610</td>\n",
       "      <td>5260</td>\n",
       "      <td>3.749511</td>\n",
       "      <td>3.0</td>\n",
       "    </tr>\n",
       "    <tr>\n",
       "      <th>3597</th>\n",
       "      <td>610</td>\n",
       "      <td>7212</td>\n",
       "      <td>3.788980</td>\n",
       "      <td>4.0</td>\n",
       "    </tr>\n",
       "    <tr>\n",
       "      <th>3752</th>\n",
       "      <td>610</td>\n",
       "      <td>1466</td>\n",
       "      <td>3.415912</td>\n",
       "      <td>2.0</td>\n",
       "    </tr>\n",
       "    <tr>\n",
       "      <th>3758</th>\n",
       "      <td>610</td>\n",
       "      <td>8183</td>\n",
       "      <td>3.884153</td>\n",
       "      <td>4.0</td>\n",
       "    </tr>\n",
       "    <tr>\n",
       "      <th>4039</th>\n",
       "      <td>610</td>\n",
       "      <td>7031</td>\n",
       "      <td>3.609182</td>\n",
       "      <td>3.0</td>\n",
       "    </tr>\n",
       "    <tr>\n",
       "      <th>4458</th>\n",
       "      <td>610</td>\n",
       "      <td>7090</td>\n",
       "      <td>3.630114</td>\n",
       "      <td>4.0</td>\n",
       "    </tr>\n",
       "    <tr>\n",
       "      <th>4587</th>\n",
       "      <td>610</td>\n",
       "      <td>7562</td>\n",
       "      <td>3.852891</td>\n",
       "      <td>4.0</td>\n",
       "    </tr>\n",
       "    <tr>\n",
       "      <th>4902</th>\n",
       "      <td>610</td>\n",
       "      <td>8806</td>\n",
       "      <td>3.679429</td>\n",
       "      <td>3.0</td>\n",
       "    </tr>\n",
       "    <tr>\n",
       "      <th>5064</th>\n",
       "      <td>610</td>\n",
       "      <td>7014</td>\n",
       "      <td>3.893287</td>\n",
       "      <td>4.0</td>\n",
       "    </tr>\n",
       "    <tr>\n",
       "      <th>5350</th>\n",
       "      <td>610</td>\n",
       "      <td>1940</td>\n",
       "      <td>3.520692</td>\n",
       "      <td>4.0</td>\n",
       "    </tr>\n",
       "    <tr>\n",
       "      <th>5451</th>\n",
       "      <td>610</td>\n",
       "      <td>7853</td>\n",
       "      <td>3.657080</td>\n",
       "      <td>4.0</td>\n",
       "    </tr>\n",
       "    <tr>\n",
       "      <th>5608</th>\n",
       "      <td>610</td>\n",
       "      <td>8449</td>\n",
       "      <td>3.557039</td>\n",
       "      <td>3.0</td>\n",
       "    </tr>\n",
       "    <tr>\n",
       "      <th>5628</th>\n",
       "      <td>610</td>\n",
       "      <td>3839</td>\n",
       "      <td>3.940223</td>\n",
       "      <td>4.0</td>\n",
       "    </tr>\n",
       "    <tr>\n",
       "      <th>5894</th>\n",
       "      <td>610</td>\n",
       "      <td>4159</td>\n",
       "      <td>3.801712</td>\n",
       "      <td>4.0</td>\n",
       "    </tr>\n",
       "    <tr>\n",
       "      <th>5998</th>\n",
       "      <td>610</td>\n",
       "      <td>7258</td>\n",
       "      <td>3.943883</td>\n",
       "      <td>4.0</td>\n",
       "    </tr>\n",
       "    <tr>\n",
       "      <th>6567</th>\n",
       "      <td>610</td>\n",
       "      <td>7608</td>\n",
       "      <td>3.712361</td>\n",
       "      <td>4.0</td>\n",
       "    </tr>\n",
       "    <tr>\n",
       "      <th>7886</th>\n",
       "      <td>610</td>\n",
       "      <td>6521</td>\n",
       "      <td>3.629305</td>\n",
       "      <td>3.0</td>\n",
       "    </tr>\n",
       "    <tr>\n",
       "      <th>9134</th>\n",
       "      <td>610</td>\n",
       "      <td>3467</td>\n",
       "      <td>3.643451</td>\n",
       "      <td>3.0</td>\n",
       "    </tr>\n",
       "    <tr>\n",
       "      <th>9187</th>\n",
       "      <td>610</td>\n",
       "      <td>7371</td>\n",
       "      <td>3.785451</td>\n",
       "      <td>4.0</td>\n",
       "    </tr>\n",
       "    <tr>\n",
       "      <th>9395</th>\n",
       "      <td>610</td>\n",
       "      <td>7372</td>\n",
       "      <td>4.123287</td>\n",
       "      <td>4.0</td>\n",
       "    </tr>\n",
       "  </tbody>\n",
       "</table>\n",
       "</div>"
      ],
      "text/plain": [
       "      user_idx  movie_idx      pred  target\n",
       "266        610       8098  3.217542     3.0\n",
       "321        610          5  3.703855     4.0\n",
       "423        610       1231  3.644765     4.0\n",
       "581        610       8032  3.507788     4.0\n",
       "758        610       6631  3.535485     4.0\n",
       "935        610       5366  3.970212     4.0\n",
       "1289       610       8793  3.548608     3.0\n",
       "1360       610       8144  3.293791     3.0\n",
       "1873       610       8039  3.767250     4.0\n",
       "1998       610       7016  3.634480     4.0\n",
       "2270       610       8237  3.537963     3.0\n",
       "2623       610       8257  3.513335     3.0\n",
       "2795       610       7467  3.955127     4.0\n",
       "3015       610       8273  3.375936     3.0\n",
       "3246       610       5260  3.749511     3.0\n",
       "3597       610       7212  3.788980     4.0\n",
       "3752       610       1466  3.415912     2.0\n",
       "3758       610       8183  3.884153     4.0\n",
       "4039       610       7031  3.609182     3.0\n",
       "4458       610       7090  3.630114     4.0\n",
       "4587       610       7562  3.852891     4.0\n",
       "4902       610       8806  3.679429     3.0\n",
       "5064       610       7014  3.893287     4.0\n",
       "5350       610       1940  3.520692     4.0\n",
       "5451       610       7853  3.657080     4.0\n",
       "5608       610       8449  3.557039     3.0\n",
       "5628       610       3839  3.940223     4.0\n",
       "5894       610       4159  3.801712     4.0\n",
       "5998       610       7258  3.943883     4.0\n",
       "6567       610       7608  3.712361     4.0\n",
       "7886       610       6521  3.629305     3.0\n",
       "9134       610       3467  3.643451     3.0\n",
       "9187       610       7371  3.785451     4.0\n",
       "9395       610       7372  4.123287     4.0"
      ]
     },
     "execution_count": 39,
     "metadata": {},
     "output_type": "execute_result"
    }
   ],
   "source": [
    "pred_df[pred_df['user_idx'] == my_user_id-1]"
   ]
  },
  {
   "cell_type": "markdown",
   "metadata": {},
   "source": [
    "## Makeing recommendations"
   ]
  },
  {
   "cell_type": "markdown",
   "metadata": {},
   "source": [
    "### Selecting the movies I have not watched"
   ]
  },
  {
   "cell_type": "code",
   "execution_count": 40,
   "metadata": {},
   "outputs": [],
   "source": [
    "# generating the id to index mapping for movies and users\n",
    "\n",
    "# creating movies id to index mapping\n",
    "unique_movie_ids = movies_df['movieId'].unique()\n",
    "movie_ids_to_idx_df = pd.DataFrame({\n",
    "    'movieId': unique_movie_ids,\n",
    "    'movie_idx': np.arange(len(unique_movie_ids))\n",
    "})\n",
    "\n",
    "# creating users id to index mapping\n",
    "unique_user_ids = ratings_final_df['userId'].unique()\n",
    "user_ids_to_idx_df = pd.DataFrame({\n",
    "    'userId': unique_user_ids,\n",
    "    'user_idx': np.arange(len(unique_user_ids))\n",
    "})"
   ]
  },
  {
   "cell_type": "code",
   "execution_count": 41,
   "metadata": {},
   "outputs": [
    {
     "data": {
      "text/plain": [
       "610"
      ]
     },
     "execution_count": 41,
     "metadata": {},
     "output_type": "execute_result"
    }
   ],
   "source": [
    "# fetching the index of my user id\n",
    "\n",
    "my_user_idx = user_ids_to_idx_df[user_ids_to_idx_df['userId'] == my_user_id]['user_idx'].values[0]\n",
    "my_user_idx"
   ]
  },
  {
   "cell_type": "code",
   "execution_count": 42,
   "metadata": {},
   "outputs": [
    {
     "data": {
      "text/html": [
       "<div>\n",
       "<style scoped>\n",
       "    .dataframe tbody tr th:only-of-type {\n",
       "        vertical-align: middle;\n",
       "    }\n",
       "\n",
       "    .dataframe tbody tr th {\n",
       "        vertical-align: top;\n",
       "    }\n",
       "\n",
       "    .dataframe thead th {\n",
       "        text-align: right;\n",
       "    }\n",
       "</style>\n",
       "<table border=\"1\" class=\"dataframe\">\n",
       "  <thead>\n",
       "    <tr style=\"text-align: right;\">\n",
       "      <th></th>\n",
       "      <th>movieId</th>\n",
       "      <th>title</th>\n",
       "      <th>genres</th>\n",
       "    </tr>\n",
       "  </thead>\n",
       "  <tbody>\n",
       "    <tr>\n",
       "      <th>1</th>\n",
       "      <td>2</td>\n",
       "      <td>Jumanji (1995)</td>\n",
       "      <td>Adventure|Children|Fantasy</td>\n",
       "    </tr>\n",
       "    <tr>\n",
       "      <th>2</th>\n",
       "      <td>3</td>\n",
       "      <td>Grumpier Old Men (1995)</td>\n",
       "      <td>Comedy|Romance</td>\n",
       "    </tr>\n",
       "    <tr>\n",
       "      <th>3</th>\n",
       "      <td>4</td>\n",
       "      <td>Waiting to Exhale (1995)</td>\n",
       "      <td>Comedy|Drama|Romance</td>\n",
       "    </tr>\n",
       "    <tr>\n",
       "      <th>4</th>\n",
       "      <td>5</td>\n",
       "      <td>Father of the Bride Part II (1995)</td>\n",
       "      <td>Comedy</td>\n",
       "    </tr>\n",
       "    <tr>\n",
       "      <th>6</th>\n",
       "      <td>7</td>\n",
       "      <td>Sabrina (1995)</td>\n",
       "      <td>Comedy|Romance</td>\n",
       "    </tr>\n",
       "    <tr>\n",
       "      <th>...</th>\n",
       "      <td>...</td>\n",
       "      <td>...</td>\n",
       "      <td>...</td>\n",
       "    </tr>\n",
       "    <tr>\n",
       "      <th>9737</th>\n",
       "      <td>193581</td>\n",
       "      <td>Black Butler: Book of the Atlantic (2017)</td>\n",
       "      <td>Action|Animation|Comedy|Fantasy</td>\n",
       "    </tr>\n",
       "    <tr>\n",
       "      <th>9738</th>\n",
       "      <td>193583</td>\n",
       "      <td>No Game No Life: Zero (2017)</td>\n",
       "      <td>Animation|Comedy|Fantasy</td>\n",
       "    </tr>\n",
       "    <tr>\n",
       "      <th>9739</th>\n",
       "      <td>193585</td>\n",
       "      <td>Flint (2017)</td>\n",
       "      <td>Drama</td>\n",
       "    </tr>\n",
       "    <tr>\n",
       "      <th>9740</th>\n",
       "      <td>193587</td>\n",
       "      <td>Bungo Stray Dogs: Dead Apple (2018)</td>\n",
       "      <td>Action|Animation</td>\n",
       "    </tr>\n",
       "    <tr>\n",
       "      <th>9741</th>\n",
       "      <td>193609</td>\n",
       "      <td>Andrew Dice Clay: Dice Rules (1991)</td>\n",
       "      <td>Comedy</td>\n",
       "    </tr>\n",
       "  </tbody>\n",
       "</table>\n",
       "<p>9444 rows × 3 columns</p>\n",
       "</div>"
      ],
      "text/plain": [
       "      movieId                                      title   \n",
       "1           2                             Jumanji (1995)  \\\n",
       "2           3                    Grumpier Old Men (1995)   \n",
       "3           4                   Waiting to Exhale (1995)   \n",
       "4           5         Father of the Bride Part II (1995)   \n",
       "6           7                             Sabrina (1995)   \n",
       "...       ...                                        ...   \n",
       "9737   193581  Black Butler: Book of the Atlantic (2017)   \n",
       "9738   193583               No Game No Life: Zero (2017)   \n",
       "9739   193585                               Flint (2017)   \n",
       "9740   193587        Bungo Stray Dogs: Dead Apple (2018)   \n",
       "9741   193609        Andrew Dice Clay: Dice Rules (1991)   \n",
       "\n",
       "                               genres  \n",
       "1          Adventure|Children|Fantasy  \n",
       "2                      Comedy|Romance  \n",
       "3                Comedy|Drama|Romance  \n",
       "4                              Comedy  \n",
       "6                      Comedy|Romance  \n",
       "...                               ...  \n",
       "9737  Action|Animation|Comedy|Fantasy  \n",
       "9738         Animation|Comedy|Fantasy  \n",
       "9739                            Drama  \n",
       "9740                 Action|Animation  \n",
       "9741                           Comedy  \n",
       "\n",
       "[9444 rows x 3 columns]"
      ]
     },
     "execution_count": 42,
     "metadata": {},
     "output_type": "execute_result"
    }
   ],
   "source": [
    "# selecting movies that my user has not rated\n",
    "\n",
    "movies_not_rated_by_me = movies_df[~movies_df['movieId'].isin(my_ratings_df_cropped['movieId'])]\n",
    "movies_not_rated_by_me"
   ]
  },
  {
   "cell_type": "markdown",
   "metadata": {},
   "source": [
    "### Predicting the ratings"
   ]
  },
  {
   "cell_type": "code",
   "execution_count": 43,
   "metadata": {},
   "outputs": [
    {
     "data": {
      "text/html": [
       "<div>\n",
       "<style scoped>\n",
       "    .dataframe tbody tr th:only-of-type {\n",
       "        vertical-align: middle;\n",
       "    }\n",
       "\n",
       "    .dataframe tbody tr th {\n",
       "        vertical-align: top;\n",
       "    }\n",
       "\n",
       "    .dataframe thead th {\n",
       "        text-align: right;\n",
       "    }\n",
       "</style>\n",
       "<table border=\"1\" class=\"dataframe\">\n",
       "  <thead>\n",
       "    <tr style=\"text-align: right;\">\n",
       "      <th></th>\n",
       "      <th>movieId</th>\n",
       "      <th>title</th>\n",
       "      <th>genres</th>\n",
       "    </tr>\n",
       "  </thead>\n",
       "  <tbody>\n",
       "    <tr>\n",
       "      <th>4961</th>\n",
       "      <td>7561</td>\n",
       "      <td>Paperhouse (1988)</td>\n",
       "      <td>Fantasy|Horror|Thriller</td>\n",
       "    </tr>\n",
       "  </tbody>\n",
       "</table>\n",
       "</div>"
      ],
      "text/plain": [
       "      movieId              title                   genres\n",
       "4961     7561  Paperhouse (1988)  Fantasy|Horror|Thriller"
      ]
     },
     "execution_count": 43,
     "metadata": {},
     "output_type": "execute_result"
    }
   ],
   "source": [
    "movie_to_predict_df = movies_not_rated_by_me.sample(1)\n",
    "movie_to_predict_df"
   ]
  },
  {
   "cell_type": "code",
   "execution_count": 44,
   "metadata": {},
   "outputs": [
    {
     "data": {
      "text/plain": [
       "4961"
      ]
     },
     "execution_count": 44,
     "metadata": {},
     "output_type": "execute_result"
    }
   ],
   "source": [
    "movie_to_predict_idx = movie_ids_to_idx_df[movie_ids_to_idx_df['movieId'] == movie_to_predict_df['movieId'].values[0]]['movie_idx'].values[0]\n",
    "movie_to_predict_idx"
   ]
  },
  {
   "cell_type": "code",
   "execution_count": 45,
   "metadata": {},
   "outputs": [
    {
     "data": {
      "text/plain": [
       "tensor([ 610, 4961], dtype=torch.int32)"
      ]
     },
     "execution_count": 45,
     "metadata": {},
     "output_type": "execute_result"
    }
   ],
   "source": [
    "edge_label_index = torch.tensor([\n",
    "    my_user_idx,\n",
    "    movie_to_predict_idx\n",
    "])\n",
    "edge_label_index"
   ]
  },
  {
   "cell_type": "code",
   "execution_count": 46,
   "metadata": {},
   "outputs": [
    {
     "data": {
      "text/plain": [
       "tensor([3.5251], device='cuda:0')"
      ]
     },
     "execution_count": 46,
     "metadata": {},
     "output_type": "execute_result"
    }
   ],
   "source": [
    "with torch.no_grad():\n",
    "    model.eval()\n",
    "    test_data = test_data.to(device)\n",
    "    pred = model(test_data.x_dict, test_data.edge_index_dict, edge_label_index)\n",
    "pred"
   ]
  },
  {
   "cell_type": "code",
   "execution_count": 47,
   "metadata": {},
   "outputs": [
    {
     "name": "stderr",
     "output_type": "stream",
     "text": [
      "C:\\Users\\hussa\\AppData\\Local\\Temp\\ipykernel_6040\\2899749372.py:1: SettingWithCopyWarning: \n",
      "A value is trying to be set on a copy of a slice from a DataFrame.\n",
      "Try using .loc[row_indexer,col_indexer] = value instead\n",
      "\n",
      "See the caveats in the documentation: https://pandas.pydata.org/pandas-docs/stable/user_guide/indexing.html#returning-a-view-versus-a-copy\n",
      "  movies_not_rated_by_me[\"userId\"] = my_user_id\n",
      "C:\\Users\\hussa\\AppData\\Local\\Temp\\ipykernel_6040\\2899749372.py:2: SettingWithCopyWarning: \n",
      "A value is trying to be set on a copy of a slice from a DataFrame.\n",
      "Try using .loc[row_indexer,col_indexer] = value instead\n",
      "\n",
      "See the caveats in the documentation: https://pandas.pydata.org/pandas-docs/stable/user_guide/indexing.html#returning-a-view-versus-a-copy\n",
      "  movies_not_rated_by_me['rating'] = 0.0\n"
     ]
    },
    {
     "data": {
      "text/html": [
       "<div>\n",
       "<style scoped>\n",
       "    .dataframe tbody tr th:only-of-type {\n",
       "        vertical-align: middle;\n",
       "    }\n",
       "\n",
       "    .dataframe tbody tr th {\n",
       "        vertical-align: top;\n",
       "    }\n",
       "\n",
       "    .dataframe thead th {\n",
       "        text-align: right;\n",
       "    }\n",
       "</style>\n",
       "<table border=\"1\" class=\"dataframe\">\n",
       "  <thead>\n",
       "    <tr style=\"text-align: right;\">\n",
       "      <th></th>\n",
       "      <th>movieId</th>\n",
       "      <th>title</th>\n",
       "      <th>genres</th>\n",
       "      <th>userId</th>\n",
       "      <th>rating</th>\n",
       "    </tr>\n",
       "  </thead>\n",
       "  <tbody>\n",
       "    <tr>\n",
       "      <th>1</th>\n",
       "      <td>2</td>\n",
       "      <td>Jumanji (1995)</td>\n",
       "      <td>Adventure|Children|Fantasy</td>\n",
       "      <td>611</td>\n",
       "      <td>0.0</td>\n",
       "    </tr>\n",
       "    <tr>\n",
       "      <th>2</th>\n",
       "      <td>3</td>\n",
       "      <td>Grumpier Old Men (1995)</td>\n",
       "      <td>Comedy|Romance</td>\n",
       "      <td>611</td>\n",
       "      <td>0.0</td>\n",
       "    </tr>\n",
       "    <tr>\n",
       "      <th>3</th>\n",
       "      <td>4</td>\n",
       "      <td>Waiting to Exhale (1995)</td>\n",
       "      <td>Comedy|Drama|Romance</td>\n",
       "      <td>611</td>\n",
       "      <td>0.0</td>\n",
       "    </tr>\n",
       "    <tr>\n",
       "      <th>4</th>\n",
       "      <td>5</td>\n",
       "      <td>Father of the Bride Part II (1995)</td>\n",
       "      <td>Comedy</td>\n",
       "      <td>611</td>\n",
       "      <td>0.0</td>\n",
       "    </tr>\n",
       "    <tr>\n",
       "      <th>6</th>\n",
       "      <td>7</td>\n",
       "      <td>Sabrina (1995)</td>\n",
       "      <td>Comedy|Romance</td>\n",
       "      <td>611</td>\n",
       "      <td>0.0</td>\n",
       "    </tr>\n",
       "    <tr>\n",
       "      <th>...</th>\n",
       "      <td>...</td>\n",
       "      <td>...</td>\n",
       "      <td>...</td>\n",
       "      <td>...</td>\n",
       "      <td>...</td>\n",
       "    </tr>\n",
       "    <tr>\n",
       "      <th>9737</th>\n",
       "      <td>193581</td>\n",
       "      <td>Black Butler: Book of the Atlantic (2017)</td>\n",
       "      <td>Action|Animation|Comedy|Fantasy</td>\n",
       "      <td>611</td>\n",
       "      <td>0.0</td>\n",
       "    </tr>\n",
       "    <tr>\n",
       "      <th>9738</th>\n",
       "      <td>193583</td>\n",
       "      <td>No Game No Life: Zero (2017)</td>\n",
       "      <td>Animation|Comedy|Fantasy</td>\n",
       "      <td>611</td>\n",
       "      <td>0.0</td>\n",
       "    </tr>\n",
       "    <tr>\n",
       "      <th>9739</th>\n",
       "      <td>193585</td>\n",
       "      <td>Flint (2017)</td>\n",
       "      <td>Drama</td>\n",
       "      <td>611</td>\n",
       "      <td>0.0</td>\n",
       "    </tr>\n",
       "    <tr>\n",
       "      <th>9740</th>\n",
       "      <td>193587</td>\n",
       "      <td>Bungo Stray Dogs: Dead Apple (2018)</td>\n",
       "      <td>Action|Animation</td>\n",
       "      <td>611</td>\n",
       "      <td>0.0</td>\n",
       "    </tr>\n",
       "    <tr>\n",
       "      <th>9741</th>\n",
       "      <td>193609</td>\n",
       "      <td>Andrew Dice Clay: Dice Rules (1991)</td>\n",
       "      <td>Comedy</td>\n",
       "      <td>611</td>\n",
       "      <td>0.0</td>\n",
       "    </tr>\n",
       "  </tbody>\n",
       "</table>\n",
       "<p>9444 rows × 5 columns</p>\n",
       "</div>"
      ],
      "text/plain": [
       "      movieId                                      title   \n",
       "1           2                             Jumanji (1995)  \\\n",
       "2           3                    Grumpier Old Men (1995)   \n",
       "3           4                   Waiting to Exhale (1995)   \n",
       "4           5         Father of the Bride Part II (1995)   \n",
       "6           7                             Sabrina (1995)   \n",
       "...       ...                                        ...   \n",
       "9737   193581  Black Butler: Book of the Atlantic (2017)   \n",
       "9738   193583               No Game No Life: Zero (2017)   \n",
       "9739   193585                               Flint (2017)   \n",
       "9740   193587        Bungo Stray Dogs: Dead Apple (2018)   \n",
       "9741   193609        Andrew Dice Clay: Dice Rules (1991)   \n",
       "\n",
       "                               genres  userId  rating  \n",
       "1          Adventure|Children|Fantasy     611     0.0  \n",
       "2                      Comedy|Romance     611     0.0  \n",
       "3                Comedy|Drama|Romance     611     0.0  \n",
       "4                              Comedy     611     0.0  \n",
       "6                      Comedy|Romance     611     0.0  \n",
       "...                               ...     ...     ...  \n",
       "9737  Action|Animation|Comedy|Fantasy     611     0.0  \n",
       "9738         Animation|Comedy|Fantasy     611     0.0  \n",
       "9739                            Drama     611     0.0  \n",
       "9740                 Action|Animation     611     0.0  \n",
       "9741                           Comedy     611     0.0  \n",
       "\n",
       "[9444 rows x 5 columns]"
      ]
     },
     "execution_count": 47,
     "metadata": {},
     "output_type": "execute_result"
    }
   ],
   "source": [
    "movies_not_rated_by_me[\"userId\"] = my_user_id\n",
    "movies_not_rated_by_me['rating'] = 0.0\n",
    "movies_not_rated_by_me"
   ]
  },
  {
   "cell_type": "code",
   "execution_count": 48,
   "metadata": {},
   "outputs": [
    {
     "data": {
      "text/plain": [
       "tensor([[   0,    0,    0,  ...,    0,    0,    0],\n",
       "        [   0,    1,    2,  ..., 9441, 9442, 9443]])"
      ]
     },
     "execution_count": 48,
     "metadata": {},
     "output_type": "execute_result"
    }
   ],
   "source": [
    "edge_label_index2, _, _, _= generate_edges(movies_not_rated_by_me, movies_not_rated_by_me)\n",
    "edge_label_index2"
   ]
  },
  {
   "cell_type": "code",
   "execution_count": 49,
   "metadata": {},
   "outputs": [
    {
     "data": {
      "text/plain": [
       "tensor([4.0109, 3.9139, 3.9423,  ..., 3.6502, 3.7691, 4.1671], device='cuda:0')"
      ]
     },
     "execution_count": 49,
     "metadata": {},
     "output_type": "execute_result"
    }
   ],
   "source": [
    "with torch.no_grad():\n",
    "    model.eval()\n",
    "    test_data = test_data.to(device)\n",
    "    edge_label_index2 = edge_label_index2.to(device)\n",
    "    pred = model(test_data.x_dict, test_data.edge_index_dict, edge_label_index2)\n",
    "pred"
   ]
  },
  {
   "cell_type": "code",
   "execution_count": 50,
   "metadata": {},
   "outputs": [
    {
     "data": {
      "text/plain": [
       "tensor([[   0,    0,    0,  ...,    0,    0,    0],\n",
       "        [   0,    1,    2,  ..., 9441, 9442, 9443]], device='cuda:0')"
      ]
     },
     "execution_count": 50,
     "metadata": {},
     "output_type": "execute_result"
    }
   ],
   "source": [
    "edge_label_index2.to(torch.device(\"cuda\"))"
   ]
  },
  {
   "cell_type": "code",
   "execution_count": 52,
   "metadata": {},
   "outputs": [
    {
     "name": "stderr",
     "output_type": "stream",
     "text": [
      "C:\\Users\\hussa\\AppData\\Local\\Temp\\ipykernel_6040\\3662489145.py:1: SettingWithCopyWarning: \n",
      "A value is trying to be set on a copy of a slice from a DataFrame.\n",
      "Try using .loc[row_indexer,col_indexer] = value instead\n",
      "\n",
      "See the caveats in the documentation: https://pandas.pydata.org/pandas-docs/stable/user_guide/indexing.html#returning-a-view-versus-a-copy\n",
      "  movies_not_rated_by_me[\"rating\"] = pred.cpu().numpy()\n"
     ]
    }
   ],
   "source": [
    "movies_not_rated_by_me[\"rating\"] = pred.cpu().numpy()    "
   ]
  },
  {
   "cell_type": "code",
   "execution_count": 56,
   "metadata": {},
   "outputs": [
    {
     "data": {
      "text/html": [
       "<div>\n",
       "<style scoped>\n",
       "    .dataframe tbody tr th:only-of-type {\n",
       "        vertical-align: middle;\n",
       "    }\n",
       "\n",
       "    .dataframe tbody tr th {\n",
       "        vertical-align: top;\n",
       "    }\n",
       "\n",
       "    .dataframe thead th {\n",
       "        text-align: right;\n",
       "    }\n",
       "</style>\n",
       "<table border=\"1\" class=\"dataframe\">\n",
       "  <thead>\n",
       "    <tr style=\"text-align: right;\">\n",
       "      <th></th>\n",
       "      <th>movieId</th>\n",
       "      <th>title</th>\n",
       "      <th>genres</th>\n",
       "      <th>userId</th>\n",
       "      <th>rating</th>\n",
       "    </tr>\n",
       "  </thead>\n",
       "  <tbody>\n",
       "    <tr>\n",
       "      <th>5552</th>\n",
       "      <td>26694</td>\n",
       "      <td>Ju Dou (1990)</td>\n",
       "      <td>Drama</td>\n",
       "      <td>611</td>\n",
       "      <td>4.817943</td>\n",
       "    </tr>\n",
       "    <tr>\n",
       "      <th>9006</th>\n",
       "      <td>140110</td>\n",
       "      <td>The Intern (2015)</td>\n",
       "      <td>Comedy</td>\n",
       "      <td>611</td>\n",
       "      <td>4.677251</td>\n",
       "    </tr>\n",
       "    <tr>\n",
       "      <th>5957</th>\n",
       "      <td>34482</td>\n",
       "      <td>Browning Version, The (1951)</td>\n",
       "      <td>Drama</td>\n",
       "      <td>611</td>\n",
       "      <td>4.666968</td>\n",
       "    </tr>\n",
       "    <tr>\n",
       "      <th>5519</th>\n",
       "      <td>26524</td>\n",
       "      <td>Times of Harvey Milk, The (1984)</td>\n",
       "      <td>Documentary</td>\n",
       "      <td>611</td>\n",
       "      <td>4.661501</td>\n",
       "    </tr>\n",
       "    <tr>\n",
       "      <th>7545</th>\n",
       "      <td>85056</td>\n",
       "      <td>I Am Number Four (2011)</td>\n",
       "      <td>Action|Sci-Fi|Thriller|IMAX</td>\n",
       "      <td>611</td>\n",
       "      <td>4.638086</td>\n",
       "    </tr>\n",
       "    <tr>\n",
       "      <th>8927</th>\n",
       "      <td>136016</td>\n",
       "      <td>The Good Dinosaur (2015)</td>\n",
       "      <td>Adventure|Animation|Children|Comedy|Fantasy</td>\n",
       "      <td>611</td>\n",
       "      <td>4.637794</td>\n",
       "    </tr>\n",
       "    <tr>\n",
       "      <th>5200</th>\n",
       "      <td>8464</td>\n",
       "      <td>Super Size Me (2004)</td>\n",
       "      <td>Comedy|Documentary|Drama</td>\n",
       "      <td>611</td>\n",
       "      <td>4.636512</td>\n",
       "    </tr>\n",
       "    <tr>\n",
       "      <th>5849</th>\n",
       "      <td>32584</td>\n",
       "      <td>Ballad of Jack and Rose, The (2005)</td>\n",
       "      <td>Drama</td>\n",
       "      <td>611</td>\n",
       "      <td>4.619318</td>\n",
       "    </tr>\n",
       "    <tr>\n",
       "      <th>5350</th>\n",
       "      <td>8917</td>\n",
       "      <td>Team America: World Police (2004)</td>\n",
       "      <td>Action|Adventure|Animation|Comedy</td>\n",
       "      <td>611</td>\n",
       "      <td>4.611445</td>\n",
       "    </tr>\n",
       "    <tr>\n",
       "      <th>8403</th>\n",
       "      <td>110387</td>\n",
       "      <td>Unknown Known, The (2013)</td>\n",
       "      <td>Documentary</td>\n",
       "      <td>611</td>\n",
       "      <td>4.608849</td>\n",
       "    </tr>\n",
       "    <tr>\n",
       "      <th>4355</th>\n",
       "      <td>6371</td>\n",
       "      <td>Pokémon Heroes (2003)</td>\n",
       "      <td>Animation|Children</td>\n",
       "      <td>611</td>\n",
       "      <td>4.601466</td>\n",
       "    </tr>\n",
       "    <tr>\n",
       "      <th>7607</th>\n",
       "      <td>86864</td>\n",
       "      <td>Mothra (Mosura) (1961)</td>\n",
       "      <td>Adventure|Fantasy|Sci-Fi</td>\n",
       "      <td>611</td>\n",
       "      <td>4.586730</td>\n",
       "    </tr>\n",
       "    <tr>\n",
       "      <th>6823</th>\n",
       "      <td>61160</td>\n",
       "      <td>Star Wars: The Clone Wars (2008)</td>\n",
       "      <td>Action|Adventure|Animation|Sci-Fi</td>\n",
       "      <td>611</td>\n",
       "      <td>4.586355</td>\n",
       "    </tr>\n",
       "    <tr>\n",
       "      <th>3251</th>\n",
       "      <td>4394</td>\n",
       "      <td>Beach Blanket Bingo (1965)</td>\n",
       "      <td>Comedy|Musical</td>\n",
       "      <td>611</td>\n",
       "      <td>4.586215</td>\n",
       "    </tr>\n",
       "    <tr>\n",
       "      <th>3258</th>\n",
       "      <td>4404</td>\n",
       "      <td>Faust (1926)</td>\n",
       "      <td>Drama|Fantasy|Horror</td>\n",
       "      <td>611</td>\n",
       "      <td>4.579337</td>\n",
       "    </tr>\n",
       "    <tr>\n",
       "      <th>3594</th>\n",
       "      <td>4928</td>\n",
       "      <td>That Obscure Object of Desire (Cet obscur obje...</td>\n",
       "      <td>Drama</td>\n",
       "      <td>611</td>\n",
       "      <td>4.577443</td>\n",
       "    </tr>\n",
       "    <tr>\n",
       "      <th>3847</th>\n",
       "      <td>5404</td>\n",
       "      <td>84 Charing Cross Road (1987)</td>\n",
       "      <td>Drama|Romance</td>\n",
       "      <td>611</td>\n",
       "      <td>4.575035</td>\n",
       "    </tr>\n",
       "    <tr>\n",
       "      <th>9087</th>\n",
       "      <td>143355</td>\n",
       "      <td>Wonder Woman (2017)</td>\n",
       "      <td>Action|Adventure|Fantasy</td>\n",
       "      <td>611</td>\n",
       "      <td>4.574622</td>\n",
       "    </tr>\n",
       "    <tr>\n",
       "      <th>4240</th>\n",
       "      <td>6183</td>\n",
       "      <td>Pillow Talk (1959)</td>\n",
       "      <td>Comedy|Musical|Romance</td>\n",
       "      <td>611</td>\n",
       "      <td>4.567265</td>\n",
       "    </tr>\n",
       "    <tr>\n",
       "      <th>4902</th>\n",
       "      <td>7347</td>\n",
       "      <td>Secret Window (2004)</td>\n",
       "      <td>Mystery|Thriller</td>\n",
       "      <td>611</td>\n",
       "      <td>4.566941</td>\n",
       "    </tr>\n",
       "  </tbody>\n",
       "</table>\n",
       "</div>"
      ],
      "text/plain": [
       "      movieId                                              title   \n",
       "5552    26694                                      Ju Dou (1990)  \\\n",
       "9006   140110                                  The Intern (2015)   \n",
       "5957    34482                       Browning Version, The (1951)   \n",
       "5519    26524                   Times of Harvey Milk, The (1984)   \n",
       "7545    85056                            I Am Number Four (2011)   \n",
       "8927   136016                           The Good Dinosaur (2015)   \n",
       "5200     8464                               Super Size Me (2004)   \n",
       "5849    32584                Ballad of Jack and Rose, The (2005)   \n",
       "5350     8917                  Team America: World Police (2004)   \n",
       "8403   110387                          Unknown Known, The (2013)   \n",
       "4355     6371                              Pokémon Heroes (2003)   \n",
       "7607    86864                             Mothra (Mosura) (1961)   \n",
       "6823    61160                   Star Wars: The Clone Wars (2008)   \n",
       "3251     4394                         Beach Blanket Bingo (1965)   \n",
       "3258     4404                                       Faust (1926)   \n",
       "3594     4928  That Obscure Object of Desire (Cet obscur obje...   \n",
       "3847     5404                       84 Charing Cross Road (1987)   \n",
       "9087   143355                                Wonder Woman (2017)   \n",
       "4240     6183                                 Pillow Talk (1959)   \n",
       "4902     7347                               Secret Window (2004)   \n",
       "\n",
       "                                           genres  userId    rating  \n",
       "5552                                        Drama     611  4.817943  \n",
       "9006                                       Comedy     611  4.677251  \n",
       "5957                                        Drama     611  4.666968  \n",
       "5519                                  Documentary     611  4.661501  \n",
       "7545                  Action|Sci-Fi|Thriller|IMAX     611  4.638086  \n",
       "8927  Adventure|Animation|Children|Comedy|Fantasy     611  4.637794  \n",
       "5200                     Comedy|Documentary|Drama     611  4.636512  \n",
       "5849                                        Drama     611  4.619318  \n",
       "5350            Action|Adventure|Animation|Comedy     611  4.611445  \n",
       "8403                                  Documentary     611  4.608849  \n",
       "4355                           Animation|Children     611  4.601466  \n",
       "7607                     Adventure|Fantasy|Sci-Fi     611  4.586730  \n",
       "6823            Action|Adventure|Animation|Sci-Fi     611  4.586355  \n",
       "3251                               Comedy|Musical     611  4.586215  \n",
       "3258                         Drama|Fantasy|Horror     611  4.579337  \n",
       "3594                                        Drama     611  4.577443  \n",
       "3847                                Drama|Romance     611  4.575035  \n",
       "9087                     Action|Adventure|Fantasy     611  4.574622  \n",
       "4240                       Comedy|Musical|Romance     611  4.567265  \n",
       "4902                             Mystery|Thriller     611  4.566941  "
      ]
     },
     "execution_count": 56,
     "metadata": {},
     "output_type": "execute_result"
    }
   ],
   "source": [
    "movies_not_rated_by_me.sort_values(by=\"rating\", ascending=False).head(20)"
   ]
  },
  {
   "cell_type": "code",
   "execution_count": null,
   "metadata": {},
   "outputs": [],
   "source": []
  }
 ],
 "metadata": {
  "kernelspec": {
   "display_name": "JupyterNotebook",
   "language": "python",
   "name": "python3"
  },
  "language_info": {
   "codemirror_mode": {
    "name": "ipython",
    "version": 3
   },
   "file_extension": ".py",
   "mimetype": "text/x-python",
   "name": "python",
   "nbconvert_exporter": "python",
   "pygments_lexer": "ipython3",
   "version": "3.11.2"
  }
 },
 "nbformat": 4,
 "nbformat_minor": 2
}
